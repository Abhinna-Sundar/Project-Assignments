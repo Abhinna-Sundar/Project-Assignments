{
 "cells": [
  {
   "cell_type": "code",
   "execution_count": 3,
   "metadata": {},
   "outputs": [
    {
     "name": "stdout",
     "output_type": "stream",
     "text": [
      "\"hello world\n",
      "my name is Abhinna\n"
     ]
    }
   ],
   "source": [
    "print('\"hello world')\n",
    "name='Abhinna'\n",
    "print('my name', 'is %s'%name)"
   ]
  },
  {
   "cell_type": "code",
   "execution_count": 4,
   "metadata": {},
   "outputs": [
    {
     "data": {
      "text/plain": [
       "(1, 3, 5, 7, 9)"
      ]
     },
     "execution_count": 4,
     "metadata": {},
     "output_type": "execute_result"
    }
   ],
   "source": [
    "tuple=(1,3,5,7,9)\n",
    "tuple[:]"
   ]
  },
  {
   "cell_type": "code",
   "execution_count": 5,
   "metadata": {},
   "outputs": [
    {
     "name": "stdout",
     "output_type": "stream",
     "text": [
      "this is 3rd elt: 5\n",
      "the 3rd elt of tuple is 5\n"
     ]
    }
   ],
   "source": [
    "print('this is 3rd elt: %i'%tuple[2])\n",
    "i=2\n",
    "print('the 3rd elt of tuple is {}'.format(tuple[i]))"
   ]
  },
  {
   "cell_type": "code",
   "execution_count": 6,
   "metadata": {},
   "outputs": [],
   "source": [
    "nl=[[1,2,3],['a','b','c'],['astro','cosmo','gravity']]\n",
    "nl[:][2]\n",
    "nl[0]=3\n",
    "##print (nl)\n",
    "nl.append(['gen rel','sym'])\n",
    "##print(nl)\n",
    "del nl[1]\n",
    "##print(nl)\n",
    "##nl.remove(nl[2])\n",
    "##print('list:',nl)\n",
    "##print(len(nl))\n"
   ]
  },
  {
   "cell_type": "code",
   "execution_count": 7,
   "metadata": {},
   "outputs": [
    {
     "name": "stdout",
     "output_type": "stream",
     "text": [
      "{'chandra': 'earth', 'phobos': 'mars', 'titan': 'saturn'}\n",
      "the largest moon of earth is chandra\n"
     ]
    }
   ],
   "source": [
    "dict={'chandra':'earth','phobos':'mars','titan':'saturn'}\n",
    "print(dict)\n",
    "moon='chandra'\n",
    "print(f'the largest moon of {dict[moon]} is {moon}')"
   ]
  },
  {
   "cell_type": "code",
   "execution_count": 8,
   "metadata": {},
   "outputs": [
    {
     "name": "stdout",
     "output_type": "stream",
     "text": [
      "9 4 1 0 1 4 9 "
     ]
    }
   ],
   "source": [
    "a=3\n",
    "##for i in range(0,5,1):\n",
    " ##print(i,a+i)\n",
    "while (a>=-3):\n",
    "    print(a**2,\"\", end='')\n",
    "    a-=1"
   ]
  },
  {
   "cell_type": "code",
   "execution_count": 9,
   "metadata": {
    "scrolled": true
   },
   "outputs": [],
   "source": [
    "with open('Moons_and_planets.csv', 'r') as f:\n",
    "    lines = f.read().split('\\n')"
   ]
  },
  {
   "cell_type": "code",
   "execution_count": 577,
   "metadata": {},
   "outputs": [],
   "source": [
    "#print(lines[:100])"
   ]
  },
  {
   "cell_type": "code",
   "execution_count": 11,
   "metadata": {},
   "outputs": [],
   "source": [
    "dat_moons=[]\n",
    "for line in lines:\n",
    "    dat_moons.append(line.split(','))"
   ]
  },
  {
   "cell_type": "code",
   "execution_count": 12,
   "metadata": {},
   "outputs": [
    {
     "name": "stdout",
     "output_type": "stream",
     "text": [
      "211\n"
     ]
    }
   ],
   "source": [
    "print(len(dat_moons)-1)"
   ]
  },
  {
   "cell_type": "code",
   "execution_count": null,
   "metadata": {},
   "outputs": [],
   "source": []
  },
  {
   "cell_type": "code",
   "execution_count": 13,
   "metadata": {},
   "outputs": [],
   "source": [
    "##for i in range(1,210,1):\n",
    "    ##print(dat_moons[i][1])\n",
    "Mer=0\n",
    "Ven=0\n",
    "Ear=0\n",
    "Mars=0\n",
    "Jup=0\n",
    "Sat=0\n",
    "Ura=0\n",
    "Nept=0\n",
    "Plu=0\n",
    "for j in range(1,210,1):\n",
    "        if dat_moons[j][1]=='Mercury':\n",
    "            Mer+=1\n",
    "        elif dat_moons[j][1]=='Venus':\n",
    "            Ven+=1\n",
    "        elif dat_moons[j][1]=='Earth':\n",
    "            Ear+=1\n",
    "        elif dat_moons[j][1]=='Mars':\n",
    "            Mars+=1\n",
    "        elif dat_moons[j][1]=='Jupiter':\n",
    "            Jup+=1\n",
    "        elif dat_moons[j][1]=='Saturn':\n",
    "            Sat+=1\n",
    "        elif dat_moons[j][1]=='Uranus':\n",
    "            Ura+=1\n",
    "        elif dat_moons[j][1]=='Neptune':\n",
    "            Nept+=1\n",
    "        elif dat_moons[j][1]=='Pluto':\n",
    "            Plu+=1"
   ]
  },
  {
   "cell_type": "code",
   "execution_count": 14,
   "metadata": {},
   "outputs": [
    {
     "name": "stdout",
     "output_type": "stream",
     "text": [
      "MerMoons= 0\n",
      "VenMoons= 0\n",
      "EarMoons= 1\n",
      "MarsMoons= 2\n",
      "JupMoons= 79\n",
      "SatMoons= 82\n",
      "UraMoons= 27\n",
      "NeptMoons= 14\n",
      "PluMoons= 4\n"
     ]
    }
   ],
   "source": [
    "print('MerMoons= %s' %Mer)\n",
    "print('VenMoons= %s' %Ven)\n",
    "print('EarMoons= %s' %Ear)\n",
    "print('MarsMoons= %s' %Mars)\n",
    "print('JupMoons= %s' %Jup)\n",
    "print('SatMoons= %s' %Sat)\n",
    "print('UraMoons= %s' %Ura)\n",
    "print('NeptMoons= %s' %Nept)\n",
    "print('PluMoons= %s' %Plu)"
   ]
  },
  {
   "cell_type": "code",
   "execution_count": 25,
   "metadata": {},
   "outputs": [],
   "source": [
    "import numpy as np\n",
    "for i in range(1,3,1):\n",
    "    np.array(dat_moons[i][2], dtype=np.float32)\n",
    "    for i in range(1,3,1):\n",
    "        np.array(dat_moons)\n",
    "    ## print((dat_moons))"
   ]
  },
  {
   "cell_type": "code",
   "execution_count": 82,
   "metadata": {},
   "outputs": [
    {
     "name": "stdout",
     "output_type": "stream",
     "text": [
      "[3.5, 1.0, 1.0, 1.0, 1.0, 1.0, 1.0, 1.0, 1.5, 1.0, 1.0, 1.0, 1.0, 1.5, 2.0, 1.5, 2.0, 1.0, 1.0, 1.0, 3.0, 2.0, 2.0, 1.0, 0.5, 1.0, 1.0, 1.0, 1.0, 1.0, 0.5, 1.0, 0.5, 1.0, 0.5, 0.5, 1.0, 3.0, 2.0, 2.0, 1.5, 1.5, 1.0, 1.0, 2.0, 2.6, 3.5, 2.5, 1.6, 3.4, 2.0, 2.0, 1.0, 1.0, 1.5, 0.5, 0.5, 1.0, 1.6, 2.5, 3.0, 1.9, 2.7, 3.5, 3.0, 2.2, 2.6, 4.0, 2.0, 3.8, 3.0, 3.0, 2.0, 3.0, 3.5, 3.0, 3.0, 1.0, 3.0, 0.33, 2.5, 2.0, 3.0, 3.0, 3.0, 0.15, 3.0, 3.0, 4.0, 4.0, 4.0, 6.0, 4.0, 1.9, 6.0, 8.0, 20.0, 3.5, 3.0, 4.0, 3.0, 1.25, 4.3, 16.0, 3.0, 3.0, 3.0, 4.0, 6.0, 4.0, 3.0, 4.0, 4.0, 3.0, 4.0, 21.5, 4.0, 6.0, 7.5, 4.0, 3.0, 9.0, 5.5, 15.0, 11.1, 11.0, 3.5, 49.3, 12.8, 10.0, 6.0, 12.0, 14.0, 24.0, 9.0, 1737.1, 16.0, 40.6, 23.0, 30.5, 6.0, 9.5, 58.3, 3.5, 30.0, 19.0, 30.0, 5.0, 31.0, 235.8, 81.0, 22.0, 20.1, 8.2, 20.0, 18.0, 606.0, 25.0, 78.5, 21.4, 43.0, 21.0, 23.0, 210.0, 39.8, 178.5, 67.6, 25.7, 36.0, 46.8, 33.0, 67.0, 15.3, 32.0, 10.0, 90.4, 83.5, 46.8, 41.0, 21.0, 40.3, 2408.4, 75.0, 106.6, 88.0, 734.5, 2575.5, 1353.4, 1.0, 97.0, 761.4, 198.2, 252.3, 536.3, 3.0, 578.9, 17.4, 138.6, 788.9, 562.5, 584.7, 9.0, 1818.1, 6.2, 3.0, 2634.1, 764.5, 1560.7, 14.0, 10.0]\n"
     ]
    }
   ],
   "source": [
    "new=[]\n",
    "for i in range(len(dat_moons)):\n",
    "    new.append(float(dat_moons[i][2]))\n",
    "print(new)"
   ]
  },
  {
   "cell_type": "code",
   "execution_count": 86,
   "metadata": {},
   "outputs": [
    {
     "name": "stdout",
     "output_type": "stream",
     "text": [
      "BUBBLE SORTING ALGORITHM\n"
     ]
    }
   ],
   "source": [
    "print('BUBBLE SORTING ALGORITHM')"
   ]
  },
  {
   "cell_type": "code",
   "execution_count": 279,
   "metadata": {},
   "outputs": [],
   "source": [
    "for i in range(len(dat_moons)):\n",
    "    for j in range(0,len(dat_moons)-i-1):\n",
    "        if new[j] > new[j+1]:\n",
    "            new[j], new[j+1]= new[j+1], new[j]\n",
    "            dat_moons[j],dat_moons[j+1]=dat_moons[j+1],dat_moons[j] \n",
    "            \n",
    "            \n"
   ]
  },
  {
   "cell_type": "code",
   "execution_count": 280,
   "metadata": {},
   "outputs": [
    {
     "name": "stdout",
     "output_type": "stream",
     "text": [
      "Aegaeon        Saturn    0.33 \n",
      "Valetudo       Jupiter   0.5  \n",
      "S/2017 J 8     Jupiter   0.5  \n",
      "S/2011 J 1     Jupiter   0.5  \n",
      "S/2003 J 9     Jupiter   0.5  \n",
      "S/2003 J 12    Jupiter   0.5  \n",
      "S/2010 J 2     Jupiter   0.5  \n",
      "S/2011 J 2     Jupiter   0.5  \n",
      "S/2010 J 1     Jupiter   1.0  \n",
      "S/2003 J 18    Jupiter   1.0  \n",
      "S/2003 J 19    Jupiter   1.0  \n",
      "S/2017 J 7     Jupiter   1.0  \n",
      "Ersa           Jupiter   1.0  \n",
      "S/2003 J 4     Jupiter   1.0  \n",
      "S/2003 J 10    Jupiter   1.0  \n",
      "Euporie        Jupiter   1.0  \n",
      "Orthosie       Jupiter   1.0  \n",
      "Sponde         Jupiter   1.0  \n",
      "Kale           Jupiter   1.0  \n",
      "Cyllene        Jupiter   1.0  \n",
      "Kore           Jupiter   1.0  \n",
      "Herse          Jupiter   1.0  \n",
      "Eupheme        Jupiter   1.0  \n",
      "S/2017 J 2     Jupiter   1.0  \n",
      "S/2017 J 3     Jupiter   1.0  \n",
      "Pandia         Jupiter   1.0  \n",
      "S/2017 J 5     Jupiter   1.0  \n",
      "S/2017 J 6     Jupiter   1.0  \n",
      "S/2017 J 9     Jupiter   1.0  \n",
      "S/2003 J 2     Jupiter   1.0  \n",
      "S/2003 J 16    Jupiter   1.0  \n",
      "Pasithee       Jupiter   1.0  \n",
      "Thelxinoe      Jupiter   1.0  \n",
      "Mneme          Jupiter   1.0  \n",
      "Kallichore     Jupiter   1.0  \n",
      "Philophrosyne  Jupiter   1.0  \n",
      "Anthe          Saturn    1.0  \n",
      "S/2003 J 23    Jupiter   1.0  \n",
      "Polydeuces     Saturn    1.25 \n",
      "Euanthe        Jupiter   1.5  \n",
      "Hegemone       Jupiter   1.5  \n",
      "Arche          Jupiter   1.5  \n",
      "Aitne          Jupiter   1.5  \n",
      "Eurydome       Jupiter   1.5  \n",
      "Carpo          Jupiter   1.5  \n",
      "Erinome        Jupiter   1.6  \n",
      "Methone        Saturn    1.6  \n",
      "Chaldene       Jupiter   1.9  \n",
      "Isonoe         Jupiter   1.9  \n",
      "Aoede          Jupiter   2.0  \n",
      "Eukelade       Jupiter   2.0  \n",
      "Eirene         Jupiter   2.0  \n",
      "S/2017 J 1     Jupiter   2.0  \n",
      "Pallene        Saturn    2.0  \n",
      "Hermippe       Jupiter   2.0  \n",
      "Helike         Jupiter   2.0  \n",
      "Autonoe        Jupiter   2.0  \n",
      "Thyone         Jupiter   2.0  \n",
      "Dia            Jupiter   2.0  \n",
      "Fenrir         Saturn    2.0  \n",
      "S/2004 S 17    Saturn    2.0  \n",
      "Harpalyke      Jupiter   2.2  \n",
      "Taygete        Jupiter   2.5  \n",
      "Farbauti       Saturn    2.5  \n",
      "S/2004 S 12    Saturn    2.5  \n",
      "Iocaste        Jupiter   2.6  \n",
      "Kalyke         Jupiter   2.6  \n",
      "Megaclite      Jupiter   2.7  \n",
      "S/2016 J 1     Jupiter   3.0  \n",
      "Surtur         Saturn    3.0  \n",
      "S/2004 S 13    Saturn    3.0  \n",
      "S/2004 S 7     Saturn    3.0  \n",
      "Aegir          Saturn    3.0  \n",
      "Bebhionn       Saturn    3.0  \n",
      "Fornjot        Saturn    3.0  \n",
      "Loge           Saturn    3.0  \n",
      "Skoll          Saturn    3.0  \n",
      "Jarnsaxa       Saturn    3.0  \n",
      "S/2006 S 1     Saturn    3.0  \n",
      "S/2006 S 3     Saturn    3.0  \n",
      "S/2007 S 2     Saturn    3.0  \n",
      "S/2004 S 20    Saturn    3.0  \n",
      "S/2004 S 21    Saturn    3.0  \n",
      "Bergelmir      Saturn    3.0  \n",
      "Greip          Saturn    3.0  \n",
      "Hati           Saturn    3.0  \n",
      "S/2004 S 22    Saturn    3.0  \n",
      "S/2004 S 24    Saturn    3.0  \n",
      "S/2004 S 30    Saturn    3.0  \n",
      "S/2004 S 36    Saturn    3.0  \n",
      "S/2004 S 34    Saturn    3.0  \n",
      "S/2004 S 39    Saturn    3.0  \n",
      "S/2007 S 3     Saturn    3.0  \n",
      "Praxidike      Jupiter   3.4  \n",
      "Tarqeq         Saturn    3.5  \n",
      "Narvi          Saturn    3.5  \n",
      "Bestla         Saturn    3.5  \n",
      "Kari           Saturn    3.5  \n",
      "Thrymr         Saturn    3.5  \n",
      "Suttungr       Saturn    3.5  \n",
      "Mundilfari     Saturn    3.5  \n",
      "Daphnis        Saturn    3.8  \n",
      "Themisto       Jupiter   4.0  \n",
      "S/2004 S 23    Saturn    4.0  \n",
      "S/2004 S 29    Saturn    4.0  \n",
      "S/2004 S 33    Saturn    4.0  \n",
      "S/2004 S 38    Saturn    4.0  \n",
      "Hyrrokkin      Saturn    4.0  \n",
      "S/2004 S 25    Saturn    4.0  \n",
      "S/2004 S 28    Saturn    4.0  \n",
      "S/2004 S 31    Saturn    4.0  \n",
      "S/2004 S 32    Saturn    4.0  \n",
      "S/2004 S 37    Saturn    4.0  \n",
      "Skathi         Saturn    4.0  \n",
      "S/2004 S 26    Saturn    4.0  \n",
      "Callirrhoe     Jupiter   4.3  \n",
      "Erriapus       Saturn    5.0  \n",
      "Margaret       Uranus    5.5  \n",
      "S/2004 S 35    Saturn    6.0  \n",
      "Ijiraq         Saturn    6.0  \n",
      "S/2004 S 27    Saturn    6.0  \n",
      "Francisco      Uranus    6.0  \n",
      "Mab            Uranus    6.0  \n",
      "Ferdinand      Uranus    6.0  \n",
      "Deimos         Mars      6.2  \n",
      "Tarvos         Saturn    7.5  \n",
      "Kiviuq         Saturn    8.0  \n",
      "Adrastea       Jupiter   8.2  \n",
      "Trinculo       Uranus    9.0  \n",
      "Ymir           Saturn    9.0  \n",
      "Cupid          Uranus    9.0  \n",
      "Calypso        Saturn    9.5  \n",
      "Stephano       Uranus    10.0 \n",
      "Leda           Jupiter   10.0 \n",
      "Styx           Pluto     10.0 \n",
      "Paaliaq        Saturn    11.0 \n",
      "Phobos         Mars      11.1 \n",
      "Telesto        Saturn    12.0 \n",
      "Pan            Saturn    12.8 \n",
      "Ananke         Jupiter   14.0 \n",
      "Kerberos       Pluto     14.0 \n",
      "Perdita        Uranus    15.0 \n",
      "Atlas          Saturn    15.3 \n",
      "Albiorix       Saturn    16.0 \n",
      "Helene         Saturn    16.0 \n",
      "Hippocamp      Neptune   17.4 \n",
      "Lysithea       Jupiter   18.0 \n",
      "Sinope         Jupiter   19.0 \n",
      "Siarnaq        Saturn    20.0 \n",
      "Psamathe       Neptune   20.0 \n",
      "Cordelia       Uranus    20.1 \n",
      "Laomedeia      Neptune   21.0 \n",
      "Caliban        Uranus    21.0 \n",
      "Ophelia        Uranus    21.4 \n",
      "Metis          Jupiter   21.5 \n",
      "Sao            Neptune   22.0 \n",
      "Carme          Jupiter   23.0 \n",
      "Nix            Pluto     23.0 \n",
      "Setebos        Uranus    24.0 \n",
      "Prospero       Uranus    25.0 \n",
      "Bianca         Uranus    25.7 \n",
      "Neso           Neptune   30.0 \n",
      "Pasiphae       Jupiter   30.0 \n",
      "Hydra          Pluto     30.5 \n",
      "Halimede       Neptune   31.0 \n",
      "Desdemona      Uranus    32.0 \n",
      "Naiad          Neptune   33.0 \n",
      "Rosalind       Uranus    36.0 \n",
      "Cressida       Uranus    39.8 \n",
      "Belinda        Uranus    40.3 \n",
      "Pandora        Saturn    40.6 \n",
      "Thalassa       Neptune   41.0 \n",
      "Elara          Jupiter   43.0 \n",
      "Prometheus     Saturn    46.8 \n",
      "Juliet         Uranus    46.8 \n",
      "Thebe          Jupiter   49.3 \n",
      "Epimetheus     Saturn    58.3 \n",
      "Himalia        Jupiter   67.0 \n",
      "Portia         Uranus    67.6 \n",
      "Despina        Neptune   75.0 \n",
      "Sycorax        Uranus    78.5 \n",
      "Puck           Uranus    81.0 \n",
      "Amalthea       Jupiter   83.5 \n",
      "Galatea        Neptune   88.0 \n",
      "Janus          Saturn    90.4 \n",
      "Larissa        Neptune   97.0 \n",
      "Phoebe         Saturn    106.6\n",
      "Hyperion       Saturn    138.6\n",
      "Nereid         Neptune   178.5\n",
      "Mimas          Saturn    198.2\n",
      "Proteus        Neptune   210.0\n",
      "Miranda        Uranus    235.8\n",
      "Enceladus      Saturn    252.3\n",
      "Tethys         Saturn    536.3\n",
      "Dione          Saturn    562.5\n",
      "Ariel          Uranus    578.9\n",
      "Umbriel        Uranus    584.7\n",
      "Charon         Pluto     606.0\n",
      "Iapetus        Saturn    734.5\n",
      "Oberon         Uranus    761.4\n",
      "Rhea           Saturn    764.5\n",
      "Titania        Uranus    788.9\n",
      "Triton         Neptune   1353.4\n",
      "Europa         Jupiter   1560.7\n",
      "Moon           Earth     1737.1\n",
      "Io             Jupiter   1818.1\n",
      "Callisto       Jupiter   2408.4\n",
      "Titan          Saturn    2575.5\n",
      "Ganymede       Jupiter   2634.1\n"
     ]
    }
   ],
   "source": [
    "for i in range(1,210,1):\n",
    "    print(f\"{dat_moons[i][0]:<15}{dat_moons[i][1]: <10}{dat_moons[i][2]: <5}\" )\n",
    "    "
   ]
  },
  {
   "cell_type": "code",
   "execution_count": 373,
   "metadata": {},
   "outputs": [
    {
     "name": "stdout",
     "output_type": "stream",
     "text": [
      "END OF ASSIGNMENT 01\n",
      "************************************************************************************************************************\n",
      "************************************************************************************************************************\n",
      "************************************************************************************************************************\n",
      "************************************************************************************************************************\n"
     ]
    }
   ],
   "source": [
    "print('END OF ASSIGNMENT 01')\n",
    "print('*'*120)\n",
    "print('*'*120)\n",
    "print('*'*120)\n",
    "print('*'*120)"
   ]
  },
  {
   "cell_type": "code",
   "execution_count": 2,
   "metadata": {},
   "outputs": [
    {
     "name": "stdout",
     "output_type": "stream",
     "text": [
      "[ 1  2  3  4  5  6  7  8  9 10 11 12 13 14 15 16 17 18 19 20 21 22 23]\n"
     ]
    }
   ],
   "source": [
    "import numpy as np\n",
    "x= np.arange(0,100,1)\n",
    "print(x[1:24])"
   ]
  },
  {
   "cell_type": "code",
   "execution_count": 113,
   "metadata": {},
   "outputs": [
    {
     "name": "stdout",
     "output_type": "stream",
     "text": [
      "[[1 2 3]\n",
      " [4 5 6]\n",
      " [7 8 9]]\n",
      "---------------\n",
      "[10 14 18]\n",
      "9\n",
      "(3, 3)\n",
      "[[ 1  4  9]\n",
      " [16 25 36]\n",
      " [49 64 81]]\n"
     ]
    }
   ],
   "source": [
    "x= np.array([[1,2,3],[4,5,6],[7,8,9]])\n",
    "print(x)\n",
    "print('-'*15)\n",
    "print(x[2,0:]+x[0:,2])\n",
    "print(x.size)\n",
    "print(x.shape)\n",
    "print(x*x)"
   ]
  },
  {
   "cell_type": "code",
   "execution_count": 116,
   "metadata": {},
   "outputs": [
    {
     "data": {
      "text/plain": [
       "matrix([[ 30,  36,  42],\n",
       "        [ 66,  81,  96],\n",
       "        [102, 126, 150]])"
      ]
     },
     "execution_count": 116,
     "metadata": {},
     "output_type": "execute_result"
    }
   ],
   "source": [
    "np.matrix(x)*np.matrix(x)\n"
   ]
  },
  {
   "cell_type": "code",
   "execution_count": 122,
   "metadata": {},
   "outputs": [
    {
     "data": {
      "text/plain": [
       "array([[ 2,  4,  6],\n",
       "       [ 8, 10,  6],\n",
       "       [ 7,  8,  9]])"
      ]
     },
     "execution_count": 122,
     "metadata": {},
     "output_type": "execute_result"
    }
   ],
   "source": [
    "y=np.copy(x)\n",
    "y[y>5]=0\n",
    "y+x"
   ]
  },
  {
   "cell_type": "code",
   "execution_count": 5,
   "metadata": {},
   "outputs": [
    {
     "data": {
      "text/plain": [
       "(array([1, 3, 5, 7], dtype=int64),)"
      ]
     },
     "execution_count": 5,
     "metadata": {},
     "output_type": "execute_result"
    }
   ],
   "source": [
    "x=np.array([1,9,3,7,5,6,4,8,2])\n",
    "#y=np.array([1,9,3],[7,5,6],[4,8,2])\n",
    "i=np.where(x>5)\n",
    "#x[i]\n",
    "i"
   ]
  },
  {
   "cell_type": "code",
   "execution_count": 137,
   "metadata": {},
   "outputs": [
    {
     "data": {
      "text/plain": [
       "array([[ 0,  1,  2,  3],\n",
       "       [ 4,  5,  6,  7],\n",
       "       [ 8,  9, 10, 11]])"
      ]
     },
     "execution_count": 137,
     "metadata": {},
     "output_type": "execute_result"
    }
   ],
   "source": [
    "a= np.arange(12).reshape(3,4)\n",
    "a"
   ]
  },
  {
   "cell_type": "code",
   "execution_count": 142,
   "metadata": {},
   "outputs": [
    {
     "data": {
      "text/plain": [
       "array([[2, 4, 5],\n",
       "       [4, 8, 0],\n",
       "       [2, 7, 3]])"
      ]
     },
     "execution_count": 142,
     "metadata": {},
     "output_type": "execute_result"
    }
   ],
   "source": [
    "b=np.array([[2,4,5],[4,8,0],[2,7,3]])\n",
    "b"
   ]
  },
  {
   "cell_type": "code",
   "execution_count": 158,
   "metadata": {},
   "outputs": [
    {
     "data": {
      "text/plain": [
       "array([[2, 7, 3]])"
      ]
     },
     "execution_count": 158,
     "metadata": {},
     "output_type": "execute_result"
    }
   ],
   "source": [
    "np.delete(b,[0,1],0)"
   ]
  },
  {
   "cell_type": "code",
   "execution_count": 172,
   "metadata": {},
   "outputs": [
    {
     "name": "stdout",
     "output_type": "stream",
     "text": [
      "[[[ 0  1  2  3]\n",
      "  [ 4  5  6  7]\n",
      "  [ 8  9 10 11]]\n",
      "\n",
      " [[12 13 14 15]\n",
      "  [16 17 18 19]\n",
      "  [20 21 22 23]]]\n",
      "(array([0, 0, 0, 0, 0], dtype=int64), array([0, 0, 0, 0, 1], dtype=int64), array([0, 1, 2, 3, 0], dtype=int64))\n"
     ]
    }
   ],
   "source": [
    "q = np.arange(24).reshape(2, 3, 4)\n",
    "print(q)\n",
    "print(np.where(q < 5))\n"
   ]
  },
  {
   "cell_type": "code",
   "execution_count": 210,
   "metadata": {},
   "outputs": [
    {
     "name": "stdout",
     "output_type": "stream",
     "text": [
      "[[[ 0  1  2  3]\n",
      "  [ 4  5  6  7]\n",
      "  [ 8  9 10 11]]\n",
      "\n",
      " [[12 13 14 15]\n",
      "  [16 17 18 19]\n",
      "  [20 21 22 23]]]\n",
      "[(0, 0), (0, 1), (0, 2), (0, 3)]\n"
     ]
    }
   ],
   "source": [
    "p = np.arange(24).reshape(2, 3, 4)\n",
    "print(p)\n",
    "##print(a)\n",
    "##g=np.where(a[:,0]<5)\n",
    "##print(np.where(a[:,0]<5))\n",
    "print(list(zip(*np.where(p[:,0] < 6))))## given row(index=0) independent, where can i find coordinates(height,column,) where ican find no <5"
   ]
  },
  {
   "cell_type": "code",
   "execution_count": 236,
   "metadata": {},
   "outputs": [
    {
     "data": {
      "text/plain": [
       "1.2246467991473532e-16"
      ]
     },
     "execution_count": 236,
     "metadata": {},
     "output_type": "execute_result"
    }
   ],
   "source": [
    "t=np.pi\n",
    "y=np.sin(t)\n",
    "y\n",
    "##np.sin?"
   ]
  },
  {
   "cell_type": "code",
   "execution_count": 576,
   "metadata": {},
   "outputs": [],
   "source": [
    "beehive_data = np.loadtxt('Beehive_data.csv', delimiter=',')\n",
    "##beehive_data\n",
    "##np.sort?\n",
    "##np.ndarray.sort?"
   ]
  },
  {
   "cell_type": "code",
   "execution_count": 376,
   "metadata": {},
   "outputs": [
    {
     "data": {
      "text/plain": [
       "array([(b'S/2009 S 1', b'Saturn', 1.5000e-01),\n",
       "       (b'Aegaeon', b'Saturn', 3.3000e-01),\n",
       "       (b'S/2003 J 12', b'Jupiter', 5.0000e-01),\n",
       "       (b'S/2003 J 9', b'Jupiter', 5.0000e-01),\n",
       "       (b'S/2010 J 2', b'Jupiter', 5.0000e-01),\n",
       "       (b'S/2011 J 1', b'Jupiter', 5.0000e-01),\n",
       "       (b'S/2011 J 2', b'Jupiter', 5.0000e-01),\n",
       "       (b'S/2017 J 8', b'Jupiter', 5.0000e-01),\n",
       "       (b'Valetudo', b'Jupiter', 5.0000e-01),\n",
       "       (b'Anthe', b'Saturn', 1.0000e+00),\n",
       "       (b'Cyllene', b'Jupiter', 1.0000e+00),\n",
       "       (b'Ersa', b'Jupiter', 1.0000e+00),\n",
       "       (b'Eupheme', b'Jupiter', 1.0000e+00),\n",
       "       (b'Euporie', b'Jupiter', 1.0000e+00),\n",
       "       (b'Herse', b'Jupiter', 1.0000e+00),\n",
       "       (b'Kale', b'Jupiter', 1.0000e+00),\n",
       "       (b'Kallichore', b'Jupiter', 1.0000e+00),\n",
       "       (b'Kore', b'Jupiter', 1.0000e+00),\n",
       "       (b'Mneme', b'Jupiter', 1.0000e+00),\n",
       "       (b'Orthosie', b'Jupiter', 1.0000e+00),\n",
       "       (b'Pandia', b'Jupiter', 1.0000e+00),\n",
       "       (b'Pasithee', b'Jupiter', 1.0000e+00),\n",
       "       (b'Philophrosyne', b'Jupiter', 1.0000e+00),\n",
       "       (b'S/2003 J 10', b'Jupiter', 1.0000e+00),\n",
       "       (b'S/2003 J 16', b'Jupiter', 1.0000e+00),\n",
       "       (b'S/2003 J 18', b'Jupiter', 1.0000e+00),\n",
       "       (b'S/2003 J 19', b'Jupiter', 1.0000e+00),\n",
       "       (b'S/2003 J 2', b'Jupiter', 1.0000e+00),\n",
       "       (b'S/2003 J 23', b'Jupiter', 1.0000e+00),\n",
       "       (b'S/2003 J 4', b'Jupiter', 1.0000e+00),\n",
       "       (b'S/2010 J 1', b'Jupiter', 1.0000e+00),\n",
       "       (b'S/2017 J 2', b'Jupiter', 1.0000e+00),\n",
       "       (b'S/2017 J 3', b'Jupiter', 1.0000e+00),\n",
       "       (b'S/2017 J 5', b'Jupiter', 1.0000e+00),\n",
       "       (b'S/2017 J 6', b'Jupiter', 1.0000e+00),\n",
       "       (b'S/2017 J 7', b'Jupiter', 1.0000e+00),\n",
       "       (b'S/2017 J 9', b'Jupiter', 1.0000e+00),\n",
       "       (b'Sponde', b'Jupiter', 1.0000e+00),\n",
       "       (b'Thelxinoe', b'Jupiter', 1.0000e+00),\n",
       "       (b'Polydeuces', b'Saturn', 1.2500e+00),\n",
       "       (b'Aitne', b'Jupiter', 1.5000e+00),\n",
       "       (b'Arche', b'Jupiter', 1.5000e+00),\n",
       "       (b'Carpo', b'Jupiter', 1.5000e+00),\n",
       "       (b'Euanthe', b'Jupiter', 1.5000e+00),\n",
       "       (b'Eurydome', b'Jupiter', 1.5000e+00),\n",
       "       (b'Hegemone', b'Jupiter', 1.5000e+00),\n",
       "       (b'Erinome', b'Jupiter', 1.6000e+00),\n",
       "       (b'Methone', b'Saturn', 1.6000e+00),\n",
       "       (b'Chaldene', b'Jupiter', 1.9000e+00),\n",
       "       (b'Isonoe', b'Jupiter', 1.9000e+00),\n",
       "       (b'Aoede', b'Jupiter', 2.0000e+00),\n",
       "       (b'Autonoe', b'Jupiter', 2.0000e+00),\n",
       "       (b'Dia', b'Jupiter', 2.0000e+00),\n",
       "       (b'Eirene', b'Jupiter', 2.0000e+00),\n",
       "       (b'Eukelade', b'Jupiter', 2.0000e+00),\n",
       "       (b'Fenrir', b'Saturn', 2.0000e+00),\n",
       "       (b'Helike', b'Jupiter', 2.0000e+00),\n",
       "       (b'Hermippe', b'Jupiter', 2.0000e+00),\n",
       "       (b'Pallene', b'Saturn', 2.0000e+00),\n",
       "       (b'S/2004 S 17', b'Saturn', 2.0000e+00),\n",
       "       (b'S/2017 J 1', b'Jupiter', 2.0000e+00),\n",
       "       (b'Thyone', b'Jupiter', 2.0000e+00),\n",
       "       (b'Harpalyke', b'Jupiter', 2.2000e+00),\n",
       "       (b'Farbauti', b'Saturn', 2.5000e+00),\n",
       "       (b'S/2004 S 12', b'Saturn', 2.5000e+00),\n",
       "       (b'Taygete', b'Jupiter', 2.5000e+00),\n",
       "       (b'Iocaste', b'Jupiter', 2.6000e+00),\n",
       "       (b'Kalyke', b'Jupiter', 2.6000e+00),\n",
       "       (b'Megaclite', b'Jupiter', 2.7000e+00),\n",
       "       (b'Aegir', b'Saturn', 3.0000e+00),\n",
       "       (b'Bebhionn', b'Saturn', 3.0000e+00),\n",
       "       (b'Bergelmir', b'Saturn', 3.0000e+00),\n",
       "       (b'Fornjot', b'Saturn', 3.0000e+00),\n",
       "       (b'Greip', b'Saturn', 3.0000e+00),\n",
       "       (b'Hati', b'Saturn', 3.0000e+00),\n",
       "       (b'Jarnsaxa', b'Saturn', 3.0000e+00),\n",
       "       (b'Loge', b'Saturn', 3.0000e+00),\n",
       "       (b'S/2004 S 13', b'Saturn', 3.0000e+00),\n",
       "       (b'S/2004 S 20', b'Saturn', 3.0000e+00),\n",
       "       (b'S/2004 S 21', b'Saturn', 3.0000e+00),\n",
       "       (b'S/2004 S 22', b'Saturn', 3.0000e+00),\n",
       "       (b'S/2004 S 24', b'Saturn', 3.0000e+00),\n",
       "       (b'S/2004 S 30', b'Saturn', 3.0000e+00),\n",
       "       (b'S/2004 S 34', b'Saturn', 3.0000e+00),\n",
       "       (b'S/2004 S 36', b'Saturn', 3.0000e+00),\n",
       "       (b'S/2004 S 39', b'Saturn', 3.0000e+00),\n",
       "       (b'S/2004 S 7', b'Saturn', 3.0000e+00),\n",
       "       (b'S/2006 S 1', b'Saturn', 3.0000e+00),\n",
       "       (b'S/2006 S 3', b'Saturn', 3.0000e+00),\n",
       "       (b'S/2007 S 2', b'Saturn', 3.0000e+00),\n",
       "       (b'S/2007 S 3', b'Saturn', 3.0000e+00),\n",
       "       (b'S/2016 J 1', b'Jupiter', 3.0000e+00),\n",
       "       (b'Skoll', b'Saturn', 3.0000e+00),\n",
       "       (b'Surtur', b'Saturn', 3.0000e+00),\n",
       "       (b'Praxidike', b'Jupiter', 3.4000e+00),\n",
       "       (b'Bestla', b'Saturn', 3.5000e+00),\n",
       "       (b'Kari', b'Saturn', 3.5000e+00),\n",
       "       (b'Mundilfari', b'Saturn', 3.5000e+00),\n",
       "       (b'Narvi', b'Saturn', 3.5000e+00),\n",
       "       (b'Suttungr', b'Saturn', 3.5000e+00),\n",
       "       (b'Tarqeq', b'Saturn', 3.5000e+00),\n",
       "       (b'Thrymr', b'Saturn', 3.5000e+00),\n",
       "       (b'Daphnis', b'Saturn', 3.8000e+00),\n",
       "       (b'Hyrrokkin', b'Saturn', 4.0000e+00),\n",
       "       (b'S/2004 S 23', b'Saturn', 4.0000e+00),\n",
       "       (b'S/2004 S 25', b'Saturn', 4.0000e+00),\n",
       "       (b'S/2004 S 26', b'Saturn', 4.0000e+00),\n",
       "       (b'S/2004 S 28', b'Saturn', 4.0000e+00),\n",
       "       (b'S/2004 S 29', b'Saturn', 4.0000e+00),\n",
       "       (b'S/2004 S 31', b'Saturn', 4.0000e+00),\n",
       "       (b'S/2004 S 32', b'Saturn', 4.0000e+00),\n",
       "       (b'S/2004 S 33', b'Saturn', 4.0000e+00),\n",
       "       (b'S/2004 S 37', b'Saturn', 4.0000e+00),\n",
       "       (b'S/2004 S 38', b'Saturn', 4.0000e+00),\n",
       "       (b'Skathi', b'Saturn', 4.0000e+00),\n",
       "       (b'Themisto', b'Jupiter', 4.0000e+00),\n",
       "       (b'Callirrhoe', b'Jupiter', 4.3000e+00),\n",
       "       (b'Erriapus', b'Saturn', 5.0000e+00),\n",
       "       (b'Margaret', b'Uranus', 5.5000e+00),\n",
       "       (b'Ferdinand', b'Uranus', 6.0000e+00),\n",
       "       (b'Francisco', b'Uranus', 6.0000e+00),\n",
       "       (b'Ijiraq', b'Saturn', 6.0000e+00),\n",
       "       (b'Mab', b'Uranus', 6.0000e+00),\n",
       "       (b'S/2004 S 27', b'Saturn', 6.0000e+00),\n",
       "       (b'S/2004 S 35', b'Saturn', 6.0000e+00),\n",
       "       (b'Deimos', b'Mars', 6.2000e+00),\n",
       "       (b'Tarvos', b'Saturn', 7.5000e+00),\n",
       "       (b'Kiviuq', b'Saturn', 8.0000e+00),\n",
       "       (b'Adrastea', b'Jupiter', 8.2000e+00),\n",
       "       (b'Cupid', b'Uranus', 9.0000e+00),\n",
       "       (b'Trinculo', b'Uranus', 9.0000e+00),\n",
       "       (b'Ymir', b'Saturn', 9.0000e+00),\n",
       "       (b'Calypso', b'Saturn', 9.5000e+00),\n",
       "       (b'Leda', b'Jupiter', 1.0000e+01),\n",
       "       (b'Stephano', b'Uranus', 1.0000e+01),\n",
       "       (b'Styx', b'Pluto', 1.0000e+01),\n",
       "       (b'Paaliaq', b'Saturn', 1.1000e+01),\n",
       "       (b'Phobos', b'Mars', 1.1100e+01),\n",
       "       (b'Telesto', b'Saturn', 1.2000e+01),\n",
       "       (b'Pan', b'Saturn', 1.2800e+01),\n",
       "       (b'Ananke', b'Jupiter', 1.4000e+01),\n",
       "       (b'Kerberos', b'Pluto', 1.4000e+01),\n",
       "       (b'Perdita', b'Uranus', 1.5000e+01),\n",
       "       (b'Atlas', b'Saturn', 1.5300e+01),\n",
       "       (b'Albiorix', b'Saturn', 1.6000e+01),\n",
       "       (b'Helene', b'Saturn', 1.6000e+01),\n",
       "       (b'Hippocamp', b'Neptune', 1.7400e+01),\n",
       "       (b'Lysithea', b'Jupiter', 1.8000e+01),\n",
       "       (b'Sinope', b'Jupiter', 1.9000e+01),\n",
       "       (b'Psamathe', b'Neptune', 2.0000e+01),\n",
       "       (b'Siarnaq', b'Saturn', 2.0000e+01),\n",
       "       (b'Cordelia', b'Uranus', 2.0100e+01),\n",
       "       (b'Caliban', b'Uranus', 2.1000e+01),\n",
       "       (b'Laomedeia', b'Neptune', 2.1000e+01),\n",
       "       (b'Ophelia', b'Uranus', 2.1400e+01),\n",
       "       (b'Metis', b'Jupiter', 2.1500e+01),\n",
       "       (b'Sao', b'Neptune', 2.2000e+01),\n",
       "       (b'Carme', b'Jupiter', 2.3000e+01), (b'Nix', b'Pluto', 2.3000e+01),\n",
       "       (b'Setebos', b'Uranus', 2.4000e+01),\n",
       "       (b'Prospero', b'Uranus', 2.5000e+01),\n",
       "       (b'Bianca', b'Uranus', 2.5700e+01),\n",
       "       (b'Neso', b'Neptune', 3.0000e+01),\n",
       "       (b'Pasiphae', b'Jupiter', 3.0000e+01),\n",
       "       (b'Hydra', b'Pluto', 3.0500e+01),\n",
       "       (b'Halimede', b'Neptune', 3.1000e+01),\n",
       "       (b'Desdemona', b'Uranus', 3.2000e+01),\n",
       "       (b'Naiad', b'Neptune', 3.3000e+01),\n",
       "       (b'Rosalind', b'Uranus', 3.6000e+01),\n",
       "       (b'Cressida', b'Uranus', 3.9800e+01),\n",
       "       (b'Belinda', b'Uranus', 4.0300e+01),\n",
       "       (b'Pandora', b'Saturn', 4.0600e+01),\n",
       "       (b'Thalassa', b'Neptune', 4.1000e+01),\n",
       "       (b'Elara', b'Jupiter', 4.3000e+01),\n",
       "       (b'Juliet', b'Uranus', 4.6800e+01),\n",
       "       (b'Prometheus', b'Saturn', 4.6800e+01),\n",
       "       (b'Thebe', b'Jupiter', 4.9300e+01),\n",
       "       (b'Epimetheus', b'Saturn', 5.8300e+01),\n",
       "       (b'Himalia', b'Jupiter', 6.7000e+01),\n",
       "       (b'Portia', b'Uranus', 6.7600e+01),\n",
       "       (b'Despina', b'Neptune', 7.5000e+01),\n",
       "       (b'Sycorax', b'Uranus', 7.8500e+01),\n",
       "       (b'Puck', b'Uranus', 8.1000e+01),\n",
       "       (b'Amalthea', b'Jupiter', 8.3500e+01),\n",
       "       (b'Galatea', b'Neptune', 8.8000e+01),\n",
       "       (b'Janus', b'Saturn', 9.0400e+01),\n",
       "       (b'Larissa', b'Neptune', 9.7000e+01),\n",
       "       (b'Phoebe', b'Saturn', 1.0660e+02),\n",
       "       (b'Hyperion', b'Saturn', 1.3860e+02),\n",
       "       (b'Nereid', b'Neptune', 1.7850e+02),\n",
       "       (b'Mimas', b'Saturn', 1.9820e+02),\n",
       "       (b'Proteus', b'Neptune', 2.1000e+02),\n",
       "       (b'Miranda', b'Uranus', 2.3580e+02),\n",
       "       (b'Enceladus', b'Saturn', 2.5230e+02),\n",
       "       (b'Tethys', b'Saturn', 5.3630e+02),\n",
       "       (b'Dione', b'Saturn', 5.6250e+02),\n",
       "       (b'Ariel', b'Uranus', 5.7890e+02),\n",
       "       (b'Umbriel', b'Uranus', 5.8470e+02),\n",
       "       (b'Charon', b'Pluto', 6.0600e+02),\n",
       "       (b'Iapetus', b'Saturn', 7.3450e+02),\n",
       "       (b'Oberon', b'Uranus', 7.6140e+02),\n",
       "       (b'Rhea', b'Saturn', 7.6450e+02),\n",
       "       (b'Titania', b'Uranus', 7.8890e+02),\n",
       "       (b'Triton', b'Neptune', 1.3534e+03),\n",
       "       (b'Europa', b'Jupiter', 1.5607e+03),\n",
       "       (b'Moon', b'Earth', 1.7371e+03), (b'Io', b'Jupiter', 1.8181e+03),\n",
       "       (b'Callisto', b'Jupiter', 2.4084e+03),\n",
       "       (b'Titan', b'Saturn', 2.5755e+03),\n",
       "       (b'Ganymede', b'Jupiter', 2.6341e+03)],\n",
       "      dtype=[('Moon', 'S15'), ('Planet', 'S10'), ('Diameter', '<f4')])"
      ]
     },
     "execution_count": 376,
     "metadata": {},
     "output_type": "execute_result"
    }
   ],
   "source": [
    "from io import StringIO\n",
    "moon_dat = np.loadtxt('Moons_and_planets.csv',dtype={'names': ('Moon','Planet','Diameter'),'formats':('S15','S10','f4')},delimiter=',')\n",
    "np.sort(moon_dat, order='Diameter')\n",
    "\n",
    "##ANOTHER WAY\n",
    "\n",
    "##dtype=[('name','S15'),('Planet','S10'),('Diameter','f4')]\n",
    "##t=np.array(moon_dat,dtype=dtype)\n",
    "##np.sort(moon_dat,order='Diameter')\n",
    "##np.sort(moon_dat, axis=None, kind='stable', order=None)\n"
   ]
  },
  {
   "cell_type": "code",
   "execution_count": 575,
   "metadata": {},
   "outputs": [],
   "source": [
    "beehive_data = np.loadtxt('Beehive_data.csv', delimiter=',')\n",
    "#beehive_data"
   ]
  },
  {
   "cell_type": "code",
   "execution_count": 398,
   "metadata": {},
   "outputs": [
    {
     "name": "stdout",
     "output_type": "stream",
     "text": [
      "Apparent Magnitudes\n",
      "[6.3, 6.39, 6.44, 6.59, 6.61, 6.61, 6.61, 6.67, 6.78, 6.78, 6.85, 6.9, 7.32, 7.45, 7.54, 7.54, 7.54, 7.54, 7.67, 7.67, 7.67, 7.7, 7.7, 7.7, 7.73, 7.96, 8.02, 8.18, 8.31, 8.33, 8.5, 8.71, 8.81, 8.89, 9.0, 9.04, 9.23, 9.31, 9.31, 9.31, 9.37, 9.39, 9.42, 9.55, 9.59, 9.67, 9.68, 9.77, 9.79, 9.83, 9.85, 9.88, 9.89, 9.96, 9.96, 9.96, 10.08, 10.11, 10.11, 10.23, 10.24, 10.3, 10.3, 10.31, 10.31, 10.31, 10.41, 10.47, 10.66, 10.69, 10.7, 10.72, 10.87, 10.93, 11.01, 11.02, 11.03, 11.05, 11.34, 11.42, 11.5, 11.59, 11.63, 11.71, 11.78, 11.87, 11.98, 12.06, 12.09, 12.12, 12.17, 12.2, 12.36, 12.43, 12.53, 12.63, 12.64, 12.68, 12.74, 12.83, 13.13, 13.2, 13.7, 13.97]\n",
      "------------------------------------------------------------------------------------------------------------------------\n",
      "Luminosity\n",
      "[1.77, 1.85, 1.85, 1.76, 1.72, 1.72, 1.72, 1.62, 1.57, 1.58, 1.55, 1.64, 1.36, 1.31, 1.27, 1.28, 1.28, 1.28, 1.22, 1.22, 1.22, 1.21, 1.21, 1.21, 1.2, 1.11, 1.08, 1.01, 0.96, 0.96, 0.89, 0.8, 0.76, 0.73, 0.69, 0.67, 0.6, 0.58, 0.58, 0.58, 0.55, 0.54, 0.53, 0.48, 0.46, 0.43, 0.42, 0.39, 0.39, 0.37, 0.36, 0.35, 0.35, 0.33, 0.33, 0.33, 0.27, 0.26, 0.26, 0.21, 0.22, 0.19, 0.19, 0.2, 0.2, 0.2, 0.15, 0.13, 0.05, 0.04, 0.05, 0.03, -0.02, -0.05, -0.05, -0.07, -0.09, -0.1, -0.2, -0.26, -0.26, -0.24, -0.3, -0.33, -0.36, -0.31, -0.43, -0.45, -0.46, -0.41, -0.48, -0.49, -0.55, -0.56, -0.6, -0.62, -0.61, -0.61, -0.66, -0.7, -0.78, -0.8, -1.11, -0.94]\n",
      "------------------------------------------------------------------------------------------------------------------------\n",
      "Probabilities\n",
      "[100.0, 100.0, 100.0, 100.0, 35.0, 47.0, 17.0, 100.0, 100.0, 100.0, 100.0, 100.0, 100.0, 100.0, 100.0, 43.0, 27.0, 30.0, 43.0, 24.0, 33.0, 43.0, 24.0, 33.0, 100.0, 100.0, 100.0, 100.0, 100.0, 100.0, 100.0, 100.0, 100.0, 100.0, 100.0, 100.0, 100.0, 62.0, 9.0, 30.0, 100.0, 100.0, 100.0, 100.0, 100.0, 100.0, 100.0, 100.0, 100.0, 100.0, 100.0, 100.0, 100.0, 66.0, 8.0, 26.0, 100.0, 100.0, 100.0, 100.0, 100.0, 100.0, 100.0, 77.0, 6.0, 18.0, 100.0, 100.0, 100.0, 100.0, 100.0, 100.0, 100.0, 100.0, 100.0, 100.0, 100.0, 100.0, 100.0, 0.0, 0.0, 100.0, 100.0, 100.0, 0.0, 100.0, 0.0, 100.0, 100.0, 100.0, 100.0, 100.0, 0.0, 100.0, 100.0, 100.0, 100.0, 100.0, 100.0, 0.0, 100.0, 100.0, 0.0, 100.0]\n",
      "------------------------------------------------------------------------------------------------------------------------\n",
      "104\n"
     ]
    }
   ],
   "source": [
    "ap=[]\n",
    "print('Apparent Magnitudes')\n",
    "for i in range(len(beehive_data)):\n",
    "    ap.append(float(beehive_data[i][0]))\n",
    "print(ap)\n",
    "\n",
    "print('-'*120)\n",
    "\n",
    "\n",
    "print('Luminosity')\n",
    "l=[]\n",
    "for i in range(len(beehive_data)):\n",
    "    l.append(float(beehive_data[i][1]))\n",
    "print(l)\n",
    "\n",
    "print('-'*120)\n",
    "p=[]\n",
    "print('Probabilities')\n",
    "for i in range(len(beehive_data)):\n",
    "    p.append(float(beehive_data[i][2]))\n",
    "print(p)\n",
    "\n",
    "print('-'*120)\n",
    "\n",
    "print(len(l))\n"
   ]
  },
  {
   "cell_type": "code",
   "execution_count": 395,
   "metadata": {},
   "outputs": [],
   "source": [
    "dist=[]\n",
    "for i in range(len(l)):\n",
    "    dist.append(pow(10,(ap[i]+(2.5*l[i])+0.17)/5))   \n",
    "#dist\n",
    "    "
   ]
  },
  {
   "cell_type": "code",
   "execution_count": 365,
   "metadata": {},
   "outputs": [
    {
     "name": "stdout",
     "output_type": "stream",
     "text": [
      "Average distance to the beehive cluster: 159.5464083490186\n"
     ]
    }
   ],
   "source": [
    "d=np.average(dist, axis=None, weights=p)\n",
    "\n",
    "print('Average distance to the beehive cluster: {}'.format(d))\n"
   ]
  },
  {
   "cell_type": "code",
   "execution_count": 396,
   "metadata": {},
   "outputs": [
    {
     "data": {
      "text/plain": [
       "[151.00801541641476,\n",
       " 172.5837891990204,\n",
       " 176.60378206861657,\n",
       " 170.60823890031244,\n",
       " 164.43717232149325,\n",
       " 164.43717232149325,\n",
       " 164.43717232149325,\n",
       " 150.66070661867417,\n",
       " 149.6235656094433,\n",
       " 151.35612484362088,\n",
       " 151.00801541641476,\n",
       " 171.39573075084252,\n",
       " 150.66070661867417,\n",
       " 151.00801541641493,\n",
       " 150.31419660900224,\n",
       " 152.05475297324955,\n",
       " 152.05475297324955,\n",
       " 152.05475297324955,\n",
       " 150.66070661867417,\n",
       " 150.66070661867417,\n",
       " 150.66070661867417,\n",
       " 151.00801541641476,\n",
       " 151.00801541641476,\n",
       " 151.00801541641476,\n",
       " 151.35612484362088,\n",
       " 151.70503674593368,\n",
       " 150.66070661867417,\n",
       " 149.6235656094433,\n",
       " 149.9684835502374,\n",
       " 151.35612484362088,\n",
       " 151.00801541641476,\n",
       " 149.9684835502374,\n",
       " 149.9684835502374,\n",
       " 150.31419660900224,\n",
       " 151.00801541641476,\n",
       " 150.31419660900224,\n",
       " 151.35612484362088,\n",
       " 153.4616982799294,\n",
       " 153.4616982799294,\n",
       " 153.4616982799294,\n",
       " 152.40527537972906,\n",
       " 152.05475297324955,\n",
       " 152.40527537972923,\n",
       " 152.75660582380732,\n",
       " 152.05475297324955,\n",
       " 152.40527537972906,\n",
       " 151.35612484362088,\n",
       " 152.40527537972906,\n",
       " 153.81546403030342,\n",
       " 153.10874616820303,\n",
       " 152.75660582380732,\n",
       " 153.10874616820303,\n",
       " 153.81546403030356,\n",
       " 155.23870099580816,\n",
       " 155.23870099580816,\n",
       " 155.23870099580816,\n",
       " 153.10874616820303,\n",
       " 153.4616982799294,\n",
       " 153.4616982799294,\n",
       " 153.10874616820303,\n",
       " 155.59656316050751,\n",
       " 154.5254439538414,\n",
       " 154.5254439538414,\n",
       " 157.0362804333553,\n",
       " 157.0362804333553,\n",
       " 157.0362804333553,\n",
       " 155.23870099580816,\n",
       " 155.95525028269537,\n",
       " 155.23870099580816,\n",
       " 155.59656316050734,\n",
       " 158.12480392703827,\n",
       " 155.95525028269537,\n",
       " 157.76112696993468,\n",
       " 156.67510701081486,\n",
       " 162.55487557504833,\n",
       " 159.5879147236732,\n",
       " 156.67510701081486,\n",
       " 156.3147642640954,\n",
       " 159.220872705117,\n",
       " 154.17004529495583,\n",
       " 159.9558028614668,\n",
       " 170.60823890031244,\n",
       " 162.18100973589299,\n",
       " 162.5548755750485,\n",
       " 162.18100973589299,\n",
       " 179.0605854035293,\n",
       " 164.05897731995404,\n",
       " 166.34126503701697,\n",
       " 166.72472125510626,\n",
       " 179.0605854035293,\n",
       " 169.04409316432648,\n",
       " 169.43378004473288,\n",
       " 170.215850839495,\n",
       " 173.78008287493745,\n",
       " 173.78008287493745,\n",
       " 177.82794100389228,\n",
       " 180.71741260109275,\n",
       " 184.07720014689545,\n",
       " 178.64875748520498,\n",
       " 177.82794100389228,\n",
       " 186.20871366628674,\n",
       " 187.93168168032685,\n",
       " 165.57699634695277,\n",
       " 228.03420720004186,\n",
       " array([151.00801542, 172.5837892 , 176.60378207, 170.6082389 ,\n",
       "        164.43717232, 164.43717232, 164.43717232, 150.66070662,\n",
       "        149.62356561, 151.35612484, 151.00801542, 171.39573075,\n",
       "        150.66070662, 151.00801542, 150.31419661, 152.05475297,\n",
       "        152.05475297, 152.05475297, 150.66070662, 150.66070662,\n",
       "        150.66070662, 151.00801542, 151.00801542, 151.00801542,\n",
       "        151.35612484, 151.70503675, 150.66070662, 149.62356561,\n",
       "        149.96848355, 151.35612484, 151.00801542, 149.96848355,\n",
       "        149.96848355, 150.31419661, 151.00801542, 150.31419661,\n",
       "        151.35612484, 153.46169828, 153.46169828, 153.46169828,\n",
       "        152.40527538, 152.05475297, 152.40527538, 152.75660582,\n",
       "        152.05475297, 152.40527538, 151.35612484, 152.40527538,\n",
       "        153.81546403, 153.10874617, 152.75660582, 153.10874617,\n",
       "        153.81546403, 155.238701  , 155.238701  , 155.238701  ,\n",
       "        153.10874617, 153.46169828, 153.46169828, 153.10874617,\n",
       "        155.59656316, 154.52544395, 154.52544395, 157.03628043,\n",
       "        157.03628043, 157.03628043, 155.238701  , 155.95525028,\n",
       "        155.238701  , 155.59656316, 158.12480393, 155.95525028,\n",
       "        157.76112697, 156.67510701, 162.55487558, 159.58791472,\n",
       "        156.67510701, 156.31476426, 159.22087271, 154.17004529,\n",
       "        159.95580286, 170.6082389 , 162.18100974, 162.55487558,\n",
       "        162.18100974, 179.0605854 , 164.05897732, 166.34126504,\n",
       "        166.72472126, 179.0605854 , 169.04409316, 169.43378004,\n",
       "        170.21585084, 173.78008287, 173.78008287, 177.827941  ,\n",
       "        180.7174126 , 184.07720015, 178.64875749, 177.827941  ,\n",
       "        186.20871367, 187.93168168, 165.57699635, 228.0342072 ]),\n",
       " array([151.00801542, 172.5837892 , 176.60378207, 170.6082389 ,\n",
       "        164.43717232, 164.43717232, 164.43717232, 150.66070662,\n",
       "        149.62356561, 151.35612484, 151.00801542, 171.39573075,\n",
       "        150.66070662, 151.00801542, 150.31419661, 152.05475297,\n",
       "        152.05475297, 152.05475297, 150.66070662, 150.66070662,\n",
       "        150.66070662, 151.00801542, 151.00801542, 151.00801542,\n",
       "        151.35612484, 151.70503675, 150.66070662, 149.62356561,\n",
       "        149.96848355, 151.35612484, 151.00801542, 149.96848355,\n",
       "        149.96848355, 150.31419661, 151.00801542, 150.31419661,\n",
       "        151.35612484, 153.46169828, 153.46169828, 153.46169828,\n",
       "        152.40527538, 152.05475297, 152.40527538, 152.75660582,\n",
       "        152.05475297, 152.40527538, 151.35612484, 152.40527538,\n",
       "        153.81546403, 153.10874617, 152.75660582, 153.10874617,\n",
       "        153.81546403, 155.238701  , 155.238701  , 155.238701  ,\n",
       "        153.10874617, 153.46169828, 153.46169828, 153.10874617,\n",
       "        155.59656316, 154.52544395, 154.52544395, 157.03628043,\n",
       "        157.03628043, 157.03628043, 155.238701  , 155.95525028,\n",
       "        155.238701  , 155.59656316, 158.12480393, 155.95525028,\n",
       "        157.76112697, 156.67510701, 162.55487558, 159.58791472,\n",
       "        156.67510701, 156.31476426, 159.22087271, 154.17004529,\n",
       "        159.95580286, 170.6082389 , 162.18100974, 162.55487558,\n",
       "        162.18100974, 179.0605854 , 164.05897732, 166.34126504,\n",
       "        166.72472126, 179.0605854 , 169.04409316, 169.43378004,\n",
       "        170.21585084, 173.78008287, 173.78008287, 177.827941  ,\n",
       "        180.7174126 , 184.07720015, 178.64875749, 177.827941  ,\n",
       "        186.20871367, 187.93168168, 165.57699635, 228.0342072 ]),\n",
       " array([151.00801542, 172.5837892 , 176.60378207, 170.6082389 ,\n",
       "        164.43717232, 164.43717232, 164.43717232, 150.66070662,\n",
       "        149.62356561, 151.35612484, 151.00801542, 171.39573075,\n",
       "        150.66070662, 151.00801542, 150.31419661, 152.05475297,\n",
       "        152.05475297, 152.05475297, 150.66070662, 150.66070662,\n",
       "        150.66070662, 151.00801542, 151.00801542, 151.00801542,\n",
       "        151.35612484, 151.70503675, 150.66070662, 149.62356561,\n",
       "        149.96848355, 151.35612484, 151.00801542, 149.96848355,\n",
       "        149.96848355, 150.31419661, 151.00801542, 150.31419661,\n",
       "        151.35612484, 153.46169828, 153.46169828, 153.46169828,\n",
       "        152.40527538, 152.05475297, 152.40527538, 152.75660582,\n",
       "        152.05475297, 152.40527538, 151.35612484, 152.40527538,\n",
       "        153.81546403, 153.10874617, 152.75660582, 153.10874617,\n",
       "        153.81546403, 155.238701  , 155.238701  , 155.238701  ,\n",
       "        153.10874617, 153.46169828, 153.46169828, 153.10874617,\n",
       "        155.59656316, 154.52544395, 154.52544395, 157.03628043,\n",
       "        157.03628043, 157.03628043, 155.238701  , 155.95525028,\n",
       "        155.238701  , 155.59656316, 158.12480393, 155.95525028,\n",
       "        157.76112697, 156.67510701, 162.55487558, 159.58791472,\n",
       "        156.67510701, 156.31476426, 159.22087271, 154.17004529,\n",
       "        159.95580286, 170.6082389 , 162.18100974, 162.55487558,\n",
       "        162.18100974, 179.0605854 , 164.05897732, 166.34126504,\n",
       "        166.72472126, 179.0605854 , 169.04409316, 169.43378004,\n",
       "        170.21585084, 173.78008287, 173.78008287, 177.827941  ,\n",
       "        180.7174126 , 184.07720015, 178.64875749, 177.827941  ,\n",
       "        186.20871367, 187.93168168, 165.57699635, 228.0342072 ]),\n",
       " array([151.00801542, 172.5837892 , 176.60378207, 170.6082389 ,\n",
       "        164.43717232, 164.43717232, 164.43717232, 150.66070662,\n",
       "        149.62356561, 151.35612484, 151.00801542, 171.39573075,\n",
       "        150.66070662, 151.00801542, 150.31419661, 152.05475297,\n",
       "        152.05475297, 152.05475297, 150.66070662, 150.66070662,\n",
       "        150.66070662, 151.00801542, 151.00801542, 151.00801542,\n",
       "        151.35612484, 151.70503675, 150.66070662, 149.62356561,\n",
       "        149.96848355, 151.35612484, 151.00801542, 149.96848355,\n",
       "        149.96848355, 150.31419661, 151.00801542, 150.31419661,\n",
       "        151.35612484, 153.46169828, 153.46169828, 153.46169828,\n",
       "        152.40527538, 152.05475297, 152.40527538, 152.75660582,\n",
       "        152.05475297, 152.40527538, 151.35612484, 152.40527538,\n",
       "        153.81546403, 153.10874617, 152.75660582, 153.10874617,\n",
       "        153.81546403, 155.238701  , 155.238701  , 155.238701  ,\n",
       "        153.10874617, 153.46169828, 153.46169828, 153.10874617,\n",
       "        155.59656316, 154.52544395, 154.52544395, 157.03628043,\n",
       "        157.03628043, 157.03628043, 155.238701  , 155.95525028,\n",
       "        155.238701  , 155.59656316, 158.12480393, 155.95525028,\n",
       "        157.76112697, 156.67510701, 162.55487558, 159.58791472,\n",
       "        156.67510701, 156.31476426, 159.22087271, 154.17004529,\n",
       "        159.95580286, 170.6082389 , 162.18100974, 162.55487558,\n",
       "        162.18100974, 179.0605854 , 164.05897732, 166.34126504,\n",
       "        166.72472126, 179.0605854 , 169.04409316, 169.43378004,\n",
       "        170.21585084, 173.78008287, 173.78008287, 177.827941  ,\n",
       "        180.7174126 , 184.07720015, 178.64875749, 177.827941  ,\n",
       "        186.20871367, 187.93168168, 165.57699635, 228.0342072 ]),\n",
       " array([151.00801542, 172.5837892 , 176.60378207, 170.6082389 ,\n",
       "        164.43717232, 164.43717232, 164.43717232, 150.66070662,\n",
       "        149.62356561, 151.35612484, 151.00801542, 171.39573075,\n",
       "        150.66070662, 151.00801542, 150.31419661, 152.05475297,\n",
       "        152.05475297, 152.05475297, 150.66070662, 150.66070662,\n",
       "        150.66070662, 151.00801542, 151.00801542, 151.00801542,\n",
       "        151.35612484, 151.70503675, 150.66070662, 149.62356561,\n",
       "        149.96848355, 151.35612484, 151.00801542, 149.96848355,\n",
       "        149.96848355, 150.31419661, 151.00801542, 150.31419661,\n",
       "        151.35612484, 153.46169828, 153.46169828, 153.46169828,\n",
       "        152.40527538, 152.05475297, 152.40527538, 152.75660582,\n",
       "        152.05475297, 152.40527538, 151.35612484, 152.40527538,\n",
       "        153.81546403, 153.10874617, 152.75660582, 153.10874617,\n",
       "        153.81546403, 155.238701  , 155.238701  , 155.238701  ,\n",
       "        153.10874617, 153.46169828, 153.46169828, 153.10874617,\n",
       "        155.59656316, 154.52544395, 154.52544395, 157.03628043,\n",
       "        157.03628043, 157.03628043, 155.238701  , 155.95525028,\n",
       "        155.238701  , 155.59656316, 158.12480393, 155.95525028,\n",
       "        157.76112697, 156.67510701, 162.55487558, 159.58791472,\n",
       "        156.67510701, 156.31476426, 159.22087271, 154.17004529,\n",
       "        159.95580286, 170.6082389 , 162.18100974, 162.55487558,\n",
       "        162.18100974, 179.0605854 , 164.05897732, 166.34126504,\n",
       "        166.72472126, 179.0605854 , 169.04409316, 169.43378004,\n",
       "        170.21585084, 173.78008287, 173.78008287, 177.827941  ,\n",
       "        180.7174126 , 184.07720015, 178.64875749, 177.827941  ,\n",
       "        186.20871367, 187.93168168, 165.57699635, 228.0342072 ]),\n",
       " array([151.00801542, 172.5837892 , 176.60378207, 170.6082389 ,\n",
       "        164.43717232, 164.43717232, 164.43717232, 150.66070662,\n",
       "        149.62356561, 151.35612484, 151.00801542, 171.39573075,\n",
       "        150.66070662, 151.00801542, 150.31419661, 152.05475297,\n",
       "        152.05475297, 152.05475297, 150.66070662, 150.66070662,\n",
       "        150.66070662, 151.00801542, 151.00801542, 151.00801542,\n",
       "        151.35612484, 151.70503675, 150.66070662, 149.62356561,\n",
       "        149.96848355, 151.35612484, 151.00801542, 149.96848355,\n",
       "        149.96848355, 150.31419661, 151.00801542, 150.31419661,\n",
       "        151.35612484, 153.46169828, 153.46169828, 153.46169828,\n",
       "        152.40527538, 152.05475297, 152.40527538, 152.75660582,\n",
       "        152.05475297, 152.40527538, 151.35612484, 152.40527538,\n",
       "        153.81546403, 153.10874617, 152.75660582, 153.10874617,\n",
       "        153.81546403, 155.238701  , 155.238701  , 155.238701  ,\n",
       "        153.10874617, 153.46169828, 153.46169828, 153.10874617,\n",
       "        155.59656316, 154.52544395, 154.52544395, 157.03628043,\n",
       "        157.03628043, 157.03628043, 155.238701  , 155.95525028,\n",
       "        155.238701  , 155.59656316, 158.12480393, 155.95525028,\n",
       "        157.76112697, 156.67510701, 162.55487558, 159.58791472,\n",
       "        156.67510701, 156.31476426, 159.22087271, 154.17004529,\n",
       "        159.95580286, 170.6082389 , 162.18100974, 162.55487558,\n",
       "        162.18100974, 179.0605854 , 164.05897732, 166.34126504,\n",
       "        166.72472126, 179.0605854 , 169.04409316, 169.43378004,\n",
       "        170.21585084, 173.78008287, 173.78008287, 177.827941  ,\n",
       "        180.7174126 , 184.07720015, 178.64875749, 177.827941  ,\n",
       "        186.20871367, 187.93168168, 165.57699635, 228.0342072 ]),\n",
       " array([151.00801542, 172.5837892 , 176.60378207, 170.6082389 ,\n",
       "        164.43717232, 164.43717232, 164.43717232, 150.66070662,\n",
       "        149.62356561, 151.35612484, 151.00801542, 171.39573075,\n",
       "        150.66070662, 151.00801542, 150.31419661, 152.05475297,\n",
       "        152.05475297, 152.05475297, 150.66070662, 150.66070662,\n",
       "        150.66070662, 151.00801542, 151.00801542, 151.00801542,\n",
       "        151.35612484, 151.70503675, 150.66070662, 149.62356561,\n",
       "        149.96848355, 151.35612484, 151.00801542, 149.96848355,\n",
       "        149.96848355, 150.31419661, 151.00801542, 150.31419661,\n",
       "        151.35612484, 153.46169828, 153.46169828, 153.46169828,\n",
       "        152.40527538, 152.05475297, 152.40527538, 152.75660582,\n",
       "        152.05475297, 152.40527538, 151.35612484, 152.40527538,\n",
       "        153.81546403, 153.10874617, 152.75660582, 153.10874617,\n",
       "        153.81546403, 155.238701  , 155.238701  , 155.238701  ,\n",
       "        153.10874617, 153.46169828, 153.46169828, 153.10874617,\n",
       "        155.59656316, 154.52544395, 154.52544395, 157.03628043,\n",
       "        157.03628043, 157.03628043, 155.238701  , 155.95525028,\n",
       "        155.238701  , 155.59656316, 158.12480393, 155.95525028,\n",
       "        157.76112697, 156.67510701, 162.55487558, 159.58791472,\n",
       "        156.67510701, 156.31476426, 159.22087271, 154.17004529,\n",
       "        159.95580286, 170.6082389 , 162.18100974, 162.55487558,\n",
       "        162.18100974, 179.0605854 , 164.05897732, 166.34126504,\n",
       "        166.72472126, 179.0605854 , 169.04409316, 169.43378004,\n",
       "        170.21585084, 173.78008287, 173.78008287, 177.827941  ,\n",
       "        180.7174126 , 184.07720015, 178.64875749, 177.827941  ,\n",
       "        186.20871367, 187.93168168, 165.57699635, 228.0342072 ]),\n",
       " array([151.00801542, 172.5837892 , 176.60378207, 170.6082389 ,\n",
       "        164.43717232, 164.43717232, 164.43717232, 150.66070662,\n",
       "        149.62356561, 151.35612484, 151.00801542, 171.39573075,\n",
       "        150.66070662, 151.00801542, 150.31419661, 152.05475297,\n",
       "        152.05475297, 152.05475297, 150.66070662, 150.66070662,\n",
       "        150.66070662, 151.00801542, 151.00801542, 151.00801542,\n",
       "        151.35612484, 151.70503675, 150.66070662, 149.62356561,\n",
       "        149.96848355, 151.35612484, 151.00801542, 149.96848355,\n",
       "        149.96848355, 150.31419661, 151.00801542, 150.31419661,\n",
       "        151.35612484, 153.46169828, 153.46169828, 153.46169828,\n",
       "        152.40527538, 152.05475297, 152.40527538, 152.75660582,\n",
       "        152.05475297, 152.40527538, 151.35612484, 152.40527538,\n",
       "        153.81546403, 153.10874617, 152.75660582, 153.10874617,\n",
       "        153.81546403, 155.238701  , 155.238701  , 155.238701  ,\n",
       "        153.10874617, 153.46169828, 153.46169828, 153.10874617,\n",
       "        155.59656316, 154.52544395, 154.52544395, 157.03628043,\n",
       "        157.03628043, 157.03628043, 155.238701  , 155.95525028,\n",
       "        155.238701  , 155.59656316, 158.12480393, 155.95525028,\n",
       "        157.76112697, 156.67510701, 162.55487558, 159.58791472,\n",
       "        156.67510701, 156.31476426, 159.22087271, 154.17004529,\n",
       "        159.95580286, 170.6082389 , 162.18100974, 162.55487558,\n",
       "        162.18100974, 179.0605854 , 164.05897732, 166.34126504,\n",
       "        166.72472126, 179.0605854 , 169.04409316, 169.43378004,\n",
       "        170.21585084, 173.78008287, 173.78008287, 177.827941  ,\n",
       "        180.7174126 , 184.07720015, 178.64875749, 177.827941  ,\n",
       "        186.20871367, 187.93168168, 165.57699635, 228.0342072 ]),\n",
       " array([151.00801542, 172.5837892 , 176.60378207, 170.6082389 ,\n",
       "        164.43717232, 164.43717232, 164.43717232, 150.66070662,\n",
       "        149.62356561, 151.35612484, 151.00801542, 171.39573075,\n",
       "        150.66070662, 151.00801542, 150.31419661, 152.05475297,\n",
       "        152.05475297, 152.05475297, 150.66070662, 150.66070662,\n",
       "        150.66070662, 151.00801542, 151.00801542, 151.00801542,\n",
       "        151.35612484, 151.70503675, 150.66070662, 149.62356561,\n",
       "        149.96848355, 151.35612484, 151.00801542, 149.96848355,\n",
       "        149.96848355, 150.31419661, 151.00801542, 150.31419661,\n",
       "        151.35612484, 153.46169828, 153.46169828, 153.46169828,\n",
       "        152.40527538, 152.05475297, 152.40527538, 152.75660582,\n",
       "        152.05475297, 152.40527538, 151.35612484, 152.40527538,\n",
       "        153.81546403, 153.10874617, 152.75660582, 153.10874617,\n",
       "        153.81546403, 155.238701  , 155.238701  , 155.238701  ,\n",
       "        153.10874617, 153.46169828, 153.46169828, 153.10874617,\n",
       "        155.59656316, 154.52544395, 154.52544395, 157.03628043,\n",
       "        157.03628043, 157.03628043, 155.238701  , 155.95525028,\n",
       "        155.238701  , 155.59656316, 158.12480393, 155.95525028,\n",
       "        157.76112697, 156.67510701, 162.55487558, 159.58791472,\n",
       "        156.67510701, 156.31476426, 159.22087271, 154.17004529,\n",
       "        159.95580286, 170.6082389 , 162.18100974, 162.55487558,\n",
       "        162.18100974, 179.0605854 , 164.05897732, 166.34126504,\n",
       "        166.72472126, 179.0605854 , 169.04409316, 169.43378004,\n",
       "        170.21585084, 173.78008287, 173.78008287, 177.827941  ,\n",
       "        180.7174126 , 184.07720015, 178.64875749, 177.827941  ,\n",
       "        186.20871367, 187.93168168, 165.57699635, 228.0342072 ]),\n",
       " array([151.00801542, 172.5837892 , 176.60378207, 170.6082389 ,\n",
       "        164.43717232, 164.43717232, 164.43717232, 150.66070662,\n",
       "        149.62356561, 151.35612484, 151.00801542, 171.39573075,\n",
       "        150.66070662, 151.00801542, 150.31419661, 152.05475297,\n",
       "        152.05475297, 152.05475297, 150.66070662, 150.66070662,\n",
       "        150.66070662, 151.00801542, 151.00801542, 151.00801542,\n",
       "        151.35612484, 151.70503675, 150.66070662, 149.62356561,\n",
       "        149.96848355, 151.35612484, 151.00801542, 149.96848355,\n",
       "        149.96848355, 150.31419661, 151.00801542, 150.31419661,\n",
       "        151.35612484, 153.46169828, 153.46169828, 153.46169828,\n",
       "        152.40527538, 152.05475297, 152.40527538, 152.75660582,\n",
       "        152.05475297, 152.40527538, 151.35612484, 152.40527538,\n",
       "        153.81546403, 153.10874617, 152.75660582, 153.10874617,\n",
       "        153.81546403, 155.238701  , 155.238701  , 155.238701  ,\n",
       "        153.10874617, 153.46169828, 153.46169828, 153.10874617,\n",
       "        155.59656316, 154.52544395, 154.52544395, 157.03628043,\n",
       "        157.03628043, 157.03628043, 155.238701  , 155.95525028,\n",
       "        155.238701  , 155.59656316, 158.12480393, 155.95525028,\n",
       "        157.76112697, 156.67510701, 162.55487558, 159.58791472,\n",
       "        156.67510701, 156.31476426, 159.22087271, 154.17004529,\n",
       "        159.95580286, 170.6082389 , 162.18100974, 162.55487558,\n",
       "        162.18100974, 179.0605854 , 164.05897732, 166.34126504,\n",
       "        166.72472126, 179.0605854 , 169.04409316, 169.43378004,\n",
       "        170.21585084, 173.78008287, 173.78008287, 177.827941  ,\n",
       "        180.7174126 , 184.07720015, 178.64875749, 177.827941  ,\n",
       "        186.20871367, 187.93168168, 165.57699635, 228.0342072 ]),\n",
       " array([151.00801542, 172.5837892 , 176.60378207, 170.6082389 ,\n",
       "        164.43717232, 164.43717232, 164.43717232, 150.66070662,\n",
       "        149.62356561, 151.35612484, 151.00801542, 171.39573075,\n",
       "        150.66070662, 151.00801542, 150.31419661, 152.05475297,\n",
       "        152.05475297, 152.05475297, 150.66070662, 150.66070662,\n",
       "        150.66070662, 151.00801542, 151.00801542, 151.00801542,\n",
       "        151.35612484, 151.70503675, 150.66070662, 149.62356561,\n",
       "        149.96848355, 151.35612484, 151.00801542, 149.96848355,\n",
       "        149.96848355, 150.31419661, 151.00801542, 150.31419661,\n",
       "        151.35612484, 153.46169828, 153.46169828, 153.46169828,\n",
       "        152.40527538, 152.05475297, 152.40527538, 152.75660582,\n",
       "        152.05475297, 152.40527538, 151.35612484, 152.40527538,\n",
       "        153.81546403, 153.10874617, 152.75660582, 153.10874617,\n",
       "        153.81546403, 155.238701  , 155.238701  , 155.238701  ,\n",
       "        153.10874617, 153.46169828, 153.46169828, 153.10874617,\n",
       "        155.59656316, 154.52544395, 154.52544395, 157.03628043,\n",
       "        157.03628043, 157.03628043, 155.238701  , 155.95525028,\n",
       "        155.238701  , 155.59656316, 158.12480393, 155.95525028,\n",
       "        157.76112697, 156.67510701, 162.55487558, 159.58791472,\n",
       "        156.67510701, 156.31476426, 159.22087271, 154.17004529,\n",
       "        159.95580286, 170.6082389 , 162.18100974, 162.55487558,\n",
       "        162.18100974, 179.0605854 , 164.05897732, 166.34126504,\n",
       "        166.72472126, 179.0605854 , 169.04409316, 169.43378004,\n",
       "        170.21585084, 173.78008287, 173.78008287, 177.827941  ,\n",
       "        180.7174126 , 184.07720015, 178.64875749, 177.827941  ,\n",
       "        186.20871367, 187.93168168, 165.57699635, 228.0342072 ]),\n",
       " array([151.00801542, 172.5837892 , 176.60378207, 170.6082389 ,\n",
       "        164.43717232, 164.43717232, 164.43717232, 150.66070662,\n",
       "        149.62356561, 151.35612484, 151.00801542, 171.39573075,\n",
       "        150.66070662, 151.00801542, 150.31419661, 152.05475297,\n",
       "        152.05475297, 152.05475297, 150.66070662, 150.66070662,\n",
       "        150.66070662, 151.00801542, 151.00801542, 151.00801542,\n",
       "        151.35612484, 151.70503675, 150.66070662, 149.62356561,\n",
       "        149.96848355, 151.35612484, 151.00801542, 149.96848355,\n",
       "        149.96848355, 150.31419661, 151.00801542, 150.31419661,\n",
       "        151.35612484, 153.46169828, 153.46169828, 153.46169828,\n",
       "        152.40527538, 152.05475297, 152.40527538, 152.75660582,\n",
       "        152.05475297, 152.40527538, 151.35612484, 152.40527538,\n",
       "        153.81546403, 153.10874617, 152.75660582, 153.10874617,\n",
       "        153.81546403, 155.238701  , 155.238701  , 155.238701  ,\n",
       "        153.10874617, 153.46169828, 153.46169828, 153.10874617,\n",
       "        155.59656316, 154.52544395, 154.52544395, 157.03628043,\n",
       "        157.03628043, 157.03628043, 155.238701  , 155.95525028,\n",
       "        155.238701  , 155.59656316, 158.12480393, 155.95525028,\n",
       "        157.76112697, 156.67510701, 162.55487558, 159.58791472,\n",
       "        156.67510701, 156.31476426, 159.22087271, 154.17004529,\n",
       "        159.95580286, 170.6082389 , 162.18100974, 162.55487558,\n",
       "        162.18100974, 179.0605854 , 164.05897732, 166.34126504,\n",
       "        166.72472126, 179.0605854 , 169.04409316, 169.43378004,\n",
       "        170.21585084, 173.78008287, 173.78008287, 177.827941  ,\n",
       "        180.7174126 , 184.07720015, 178.64875749, 177.827941  ,\n",
       "        186.20871367, 187.93168168, 165.57699635, 228.0342072 ]),\n",
       " array([151.00801542, 172.5837892 , 176.60378207, 170.6082389 ,\n",
       "        164.43717232, 164.43717232, 164.43717232, 150.66070662,\n",
       "        149.62356561, 151.35612484, 151.00801542, 171.39573075,\n",
       "        150.66070662, 151.00801542, 150.31419661, 152.05475297,\n",
       "        152.05475297, 152.05475297, 150.66070662, 150.66070662,\n",
       "        150.66070662, 151.00801542, 151.00801542, 151.00801542,\n",
       "        151.35612484, 151.70503675, 150.66070662, 149.62356561,\n",
       "        149.96848355, 151.35612484, 151.00801542, 149.96848355,\n",
       "        149.96848355, 150.31419661, 151.00801542, 150.31419661,\n",
       "        151.35612484, 153.46169828, 153.46169828, 153.46169828,\n",
       "        152.40527538, 152.05475297, 152.40527538, 152.75660582,\n",
       "        152.05475297, 152.40527538, 151.35612484, 152.40527538,\n",
       "        153.81546403, 153.10874617, 152.75660582, 153.10874617,\n",
       "        153.81546403, 155.238701  , 155.238701  , 155.238701  ,\n",
       "        153.10874617, 153.46169828, 153.46169828, 153.10874617,\n",
       "        155.59656316, 154.52544395, 154.52544395, 157.03628043,\n",
       "        157.03628043, 157.03628043, 155.238701  , 155.95525028,\n",
       "        155.238701  , 155.59656316, 158.12480393, 155.95525028,\n",
       "        157.76112697, 156.67510701, 162.55487558, 159.58791472,\n",
       "        156.67510701, 156.31476426, 159.22087271, 154.17004529,\n",
       "        159.95580286, 170.6082389 , 162.18100974, 162.55487558,\n",
       "        162.18100974, 179.0605854 , 164.05897732, 166.34126504,\n",
       "        166.72472126, 179.0605854 , 169.04409316, 169.43378004,\n",
       "        170.21585084, 173.78008287, 173.78008287, 177.827941  ,\n",
       "        180.7174126 , 184.07720015, 178.64875749, 177.827941  ,\n",
       "        186.20871367, 187.93168168, 165.57699635, 228.0342072 ]),\n",
       " array([151.00801542, 172.5837892 , 176.60378207, 170.6082389 ,\n",
       "        164.43717232, 164.43717232, 164.43717232, 150.66070662,\n",
       "        149.62356561, 151.35612484, 151.00801542, 171.39573075,\n",
       "        150.66070662, 151.00801542, 150.31419661, 152.05475297,\n",
       "        152.05475297, 152.05475297, 150.66070662, 150.66070662,\n",
       "        150.66070662, 151.00801542, 151.00801542, 151.00801542,\n",
       "        151.35612484, 151.70503675, 150.66070662, 149.62356561,\n",
       "        149.96848355, 151.35612484, 151.00801542, 149.96848355,\n",
       "        149.96848355, 150.31419661, 151.00801542, 150.31419661,\n",
       "        151.35612484, 153.46169828, 153.46169828, 153.46169828,\n",
       "        152.40527538, 152.05475297, 152.40527538, 152.75660582,\n",
       "        152.05475297, 152.40527538, 151.35612484, 152.40527538,\n",
       "        153.81546403, 153.10874617, 152.75660582, 153.10874617,\n",
       "        153.81546403, 155.238701  , 155.238701  , 155.238701  ,\n",
       "        153.10874617, 153.46169828, 153.46169828, 153.10874617,\n",
       "        155.59656316, 154.52544395, 154.52544395, 157.03628043,\n",
       "        157.03628043, 157.03628043, 155.238701  , 155.95525028,\n",
       "        155.238701  , 155.59656316, 158.12480393, 155.95525028,\n",
       "        157.76112697, 156.67510701, 162.55487558, 159.58791472,\n",
       "        156.67510701, 156.31476426, 159.22087271, 154.17004529,\n",
       "        159.95580286, 170.6082389 , 162.18100974, 162.55487558,\n",
       "        162.18100974, 179.0605854 , 164.05897732, 166.34126504,\n",
       "        166.72472126, 179.0605854 , 169.04409316, 169.43378004,\n",
       "        170.21585084, 173.78008287, 173.78008287, 177.827941  ,\n",
       "        180.7174126 , 184.07720015, 178.64875749, 177.827941  ,\n",
       "        186.20871367, 187.93168168, 165.57699635, 228.0342072 ]),\n",
       " array([151.00801542, 172.5837892 , 176.60378207, 170.6082389 ,\n",
       "        164.43717232, 164.43717232, 164.43717232, 150.66070662,\n",
       "        149.62356561, 151.35612484, 151.00801542, 171.39573075,\n",
       "        150.66070662, 151.00801542, 150.31419661, 152.05475297,\n",
       "        152.05475297, 152.05475297, 150.66070662, 150.66070662,\n",
       "        150.66070662, 151.00801542, 151.00801542, 151.00801542,\n",
       "        151.35612484, 151.70503675, 150.66070662, 149.62356561,\n",
       "        149.96848355, 151.35612484, 151.00801542, 149.96848355,\n",
       "        149.96848355, 150.31419661, 151.00801542, 150.31419661,\n",
       "        151.35612484, 153.46169828, 153.46169828, 153.46169828,\n",
       "        152.40527538, 152.05475297, 152.40527538, 152.75660582,\n",
       "        152.05475297, 152.40527538, 151.35612484, 152.40527538,\n",
       "        153.81546403, 153.10874617, 152.75660582, 153.10874617,\n",
       "        153.81546403, 155.238701  , 155.238701  , 155.238701  ,\n",
       "        153.10874617, 153.46169828, 153.46169828, 153.10874617,\n",
       "        155.59656316, 154.52544395, 154.52544395, 157.03628043,\n",
       "        157.03628043, 157.03628043, 155.238701  , 155.95525028,\n",
       "        155.238701  , 155.59656316, 158.12480393, 155.95525028,\n",
       "        157.76112697, 156.67510701, 162.55487558, 159.58791472,\n",
       "        156.67510701, 156.31476426, 159.22087271, 154.17004529,\n",
       "        159.95580286, 170.6082389 , 162.18100974, 162.55487558,\n",
       "        162.18100974, 179.0605854 , 164.05897732, 166.34126504,\n",
       "        166.72472126, 179.0605854 , 169.04409316, 169.43378004,\n",
       "        170.21585084, 173.78008287, 173.78008287, 177.827941  ,\n",
       "        180.7174126 , 184.07720015, 178.64875749, 177.827941  ,\n",
       "        186.20871367, 187.93168168, 165.57699635, 228.0342072 ]),\n",
       " array([151.00801542, 172.5837892 , 176.60378207, 170.6082389 ,\n",
       "        164.43717232, 164.43717232, 164.43717232, 150.66070662,\n",
       "        149.62356561, 151.35612484, 151.00801542, 171.39573075,\n",
       "        150.66070662, 151.00801542, 150.31419661, 152.05475297,\n",
       "        152.05475297, 152.05475297, 150.66070662, 150.66070662,\n",
       "        150.66070662, 151.00801542, 151.00801542, 151.00801542,\n",
       "        151.35612484, 151.70503675, 150.66070662, 149.62356561,\n",
       "        149.96848355, 151.35612484, 151.00801542, 149.96848355,\n",
       "        149.96848355, 150.31419661, 151.00801542, 150.31419661,\n",
       "        151.35612484, 153.46169828, 153.46169828, 153.46169828,\n",
       "        152.40527538, 152.05475297, 152.40527538, 152.75660582,\n",
       "        152.05475297, 152.40527538, 151.35612484, 152.40527538,\n",
       "        153.81546403, 153.10874617, 152.75660582, 153.10874617,\n",
       "        153.81546403, 155.238701  , 155.238701  , 155.238701  ,\n",
       "        153.10874617, 153.46169828, 153.46169828, 153.10874617,\n",
       "        155.59656316, 154.52544395, 154.52544395, 157.03628043,\n",
       "        157.03628043, 157.03628043, 155.238701  , 155.95525028,\n",
       "        155.238701  , 155.59656316, 158.12480393, 155.95525028,\n",
       "        157.76112697, 156.67510701, 162.55487558, 159.58791472,\n",
       "        156.67510701, 156.31476426, 159.22087271, 154.17004529,\n",
       "        159.95580286, 170.6082389 , 162.18100974, 162.55487558,\n",
       "        162.18100974, 179.0605854 , 164.05897732, 166.34126504,\n",
       "        166.72472126, 179.0605854 , 169.04409316, 169.43378004,\n",
       "        170.21585084, 173.78008287, 173.78008287, 177.827941  ,\n",
       "        180.7174126 , 184.07720015, 178.64875749, 177.827941  ,\n",
       "        186.20871367, 187.93168168, 165.57699635, 228.0342072 ]),\n",
       " array([151.00801542, 172.5837892 , 176.60378207, 170.6082389 ,\n",
       "        164.43717232, 164.43717232, 164.43717232, 150.66070662,\n",
       "        149.62356561, 151.35612484, 151.00801542, 171.39573075,\n",
       "        150.66070662, 151.00801542, 150.31419661, 152.05475297,\n",
       "        152.05475297, 152.05475297, 150.66070662, 150.66070662,\n",
       "        150.66070662, 151.00801542, 151.00801542, 151.00801542,\n",
       "        151.35612484, 151.70503675, 150.66070662, 149.62356561,\n",
       "        149.96848355, 151.35612484, 151.00801542, 149.96848355,\n",
       "        149.96848355, 150.31419661, 151.00801542, 150.31419661,\n",
       "        151.35612484, 153.46169828, 153.46169828, 153.46169828,\n",
       "        152.40527538, 152.05475297, 152.40527538, 152.75660582,\n",
       "        152.05475297, 152.40527538, 151.35612484, 152.40527538,\n",
       "        153.81546403, 153.10874617, 152.75660582, 153.10874617,\n",
       "        153.81546403, 155.238701  , 155.238701  , 155.238701  ,\n",
       "        153.10874617, 153.46169828, 153.46169828, 153.10874617,\n",
       "        155.59656316, 154.52544395, 154.52544395, 157.03628043,\n",
       "        157.03628043, 157.03628043, 155.238701  , 155.95525028,\n",
       "        155.238701  , 155.59656316, 158.12480393, 155.95525028,\n",
       "        157.76112697, 156.67510701, 162.55487558, 159.58791472,\n",
       "        156.67510701, 156.31476426, 159.22087271, 154.17004529,\n",
       "        159.95580286, 170.6082389 , 162.18100974, 162.55487558,\n",
       "        162.18100974, 179.0605854 , 164.05897732, 166.34126504,\n",
       "        166.72472126, 179.0605854 , 169.04409316, 169.43378004,\n",
       "        170.21585084, 173.78008287, 173.78008287, 177.827941  ,\n",
       "        180.7174126 , 184.07720015, 178.64875749, 177.827941  ,\n",
       "        186.20871367, 187.93168168, 165.57699635, 228.0342072 ]),\n",
       " array([151.00801542, 172.5837892 , 176.60378207, 170.6082389 ,\n",
       "        164.43717232, 164.43717232, 164.43717232, 150.66070662,\n",
       "        149.62356561, 151.35612484, 151.00801542, 171.39573075,\n",
       "        150.66070662, 151.00801542, 150.31419661, 152.05475297,\n",
       "        152.05475297, 152.05475297, 150.66070662, 150.66070662,\n",
       "        150.66070662, 151.00801542, 151.00801542, 151.00801542,\n",
       "        151.35612484, 151.70503675, 150.66070662, 149.62356561,\n",
       "        149.96848355, 151.35612484, 151.00801542, 149.96848355,\n",
       "        149.96848355, 150.31419661, 151.00801542, 150.31419661,\n",
       "        151.35612484, 153.46169828, 153.46169828, 153.46169828,\n",
       "        152.40527538, 152.05475297, 152.40527538, 152.75660582,\n",
       "        152.05475297, 152.40527538, 151.35612484, 152.40527538,\n",
       "        153.81546403, 153.10874617, 152.75660582, 153.10874617,\n",
       "        153.81546403, 155.238701  , 155.238701  , 155.238701  ,\n",
       "        153.10874617, 153.46169828, 153.46169828, 153.10874617,\n",
       "        155.59656316, 154.52544395, 154.52544395, 157.03628043,\n",
       "        157.03628043, 157.03628043, 155.238701  , 155.95525028,\n",
       "        155.238701  , 155.59656316, 158.12480393, 155.95525028,\n",
       "        157.76112697, 156.67510701, 162.55487558, 159.58791472,\n",
       "        156.67510701, 156.31476426, 159.22087271, 154.17004529,\n",
       "        159.95580286, 170.6082389 , 162.18100974, 162.55487558,\n",
       "        162.18100974, 179.0605854 , 164.05897732, 166.34126504,\n",
       "        166.72472126, 179.0605854 , 169.04409316, 169.43378004,\n",
       "        170.21585084, 173.78008287, 173.78008287, 177.827941  ,\n",
       "        180.7174126 , 184.07720015, 178.64875749, 177.827941  ,\n",
       "        186.20871367, 187.93168168, 165.57699635, 228.0342072 ]),\n",
       " array([151.00801542, 172.5837892 , 176.60378207, 170.6082389 ,\n",
       "        164.43717232, 164.43717232, 164.43717232, 150.66070662,\n",
       "        149.62356561, 151.35612484, 151.00801542, 171.39573075,\n",
       "        150.66070662, 151.00801542, 150.31419661, 152.05475297,\n",
       "        152.05475297, 152.05475297, 150.66070662, 150.66070662,\n",
       "        150.66070662, 151.00801542, 151.00801542, 151.00801542,\n",
       "        151.35612484, 151.70503675, 150.66070662, 149.62356561,\n",
       "        149.96848355, 151.35612484, 151.00801542, 149.96848355,\n",
       "        149.96848355, 150.31419661, 151.00801542, 150.31419661,\n",
       "        151.35612484, 153.46169828, 153.46169828, 153.46169828,\n",
       "        152.40527538, 152.05475297, 152.40527538, 152.75660582,\n",
       "        152.05475297, 152.40527538, 151.35612484, 152.40527538,\n",
       "        153.81546403, 153.10874617, 152.75660582, 153.10874617,\n",
       "        153.81546403, 155.238701  , 155.238701  , 155.238701  ,\n",
       "        153.10874617, 153.46169828, 153.46169828, 153.10874617,\n",
       "        155.59656316, 154.52544395, 154.52544395, 157.03628043,\n",
       "        157.03628043, 157.03628043, 155.238701  , 155.95525028,\n",
       "        155.238701  , 155.59656316, 158.12480393, 155.95525028,\n",
       "        157.76112697, 156.67510701, 162.55487558, 159.58791472,\n",
       "        156.67510701, 156.31476426, 159.22087271, 154.17004529,\n",
       "        159.95580286, 170.6082389 , 162.18100974, 162.55487558,\n",
       "        162.18100974, 179.0605854 , 164.05897732, 166.34126504,\n",
       "        166.72472126, 179.0605854 , 169.04409316, 169.43378004,\n",
       "        170.21585084, 173.78008287, 173.78008287, 177.827941  ,\n",
       "        180.7174126 , 184.07720015, 178.64875749, 177.827941  ,\n",
       "        186.20871367, 187.93168168, 165.57699635, 228.0342072 ]),\n",
       " array([151.00801542, 172.5837892 , 176.60378207, 170.6082389 ,\n",
       "        164.43717232, 164.43717232, 164.43717232, 150.66070662,\n",
       "        149.62356561, 151.35612484, 151.00801542, 171.39573075,\n",
       "        150.66070662, 151.00801542, 150.31419661, 152.05475297,\n",
       "        152.05475297, 152.05475297, 150.66070662, 150.66070662,\n",
       "        150.66070662, 151.00801542, 151.00801542, 151.00801542,\n",
       "        151.35612484, 151.70503675, 150.66070662, 149.62356561,\n",
       "        149.96848355, 151.35612484, 151.00801542, 149.96848355,\n",
       "        149.96848355, 150.31419661, 151.00801542, 150.31419661,\n",
       "        151.35612484, 153.46169828, 153.46169828, 153.46169828,\n",
       "        152.40527538, 152.05475297, 152.40527538, 152.75660582,\n",
       "        152.05475297, 152.40527538, 151.35612484, 152.40527538,\n",
       "        153.81546403, 153.10874617, 152.75660582, 153.10874617,\n",
       "        153.81546403, 155.238701  , 155.238701  , 155.238701  ,\n",
       "        153.10874617, 153.46169828, 153.46169828, 153.10874617,\n",
       "        155.59656316, 154.52544395, 154.52544395, 157.03628043,\n",
       "        157.03628043, 157.03628043, 155.238701  , 155.95525028,\n",
       "        155.238701  , 155.59656316, 158.12480393, 155.95525028,\n",
       "        157.76112697, 156.67510701, 162.55487558, 159.58791472,\n",
       "        156.67510701, 156.31476426, 159.22087271, 154.17004529,\n",
       "        159.95580286, 170.6082389 , 162.18100974, 162.55487558,\n",
       "        162.18100974, 179.0605854 , 164.05897732, 166.34126504,\n",
       "        166.72472126, 179.0605854 , 169.04409316, 169.43378004,\n",
       "        170.21585084, 173.78008287, 173.78008287, 177.827941  ,\n",
       "        180.7174126 , 184.07720015, 178.64875749, 177.827941  ,\n",
       "        186.20871367, 187.93168168, 165.57699635, 228.0342072 ]),\n",
       " array([151.00801542, 172.5837892 , 176.60378207, 170.6082389 ,\n",
       "        164.43717232, 164.43717232, 164.43717232, 150.66070662,\n",
       "        149.62356561, 151.35612484, 151.00801542, 171.39573075,\n",
       "        150.66070662, 151.00801542, 150.31419661, 152.05475297,\n",
       "        152.05475297, 152.05475297, 150.66070662, 150.66070662,\n",
       "        150.66070662, 151.00801542, 151.00801542, 151.00801542,\n",
       "        151.35612484, 151.70503675, 150.66070662, 149.62356561,\n",
       "        149.96848355, 151.35612484, 151.00801542, 149.96848355,\n",
       "        149.96848355, 150.31419661, 151.00801542, 150.31419661,\n",
       "        151.35612484, 153.46169828, 153.46169828, 153.46169828,\n",
       "        152.40527538, 152.05475297, 152.40527538, 152.75660582,\n",
       "        152.05475297, 152.40527538, 151.35612484, 152.40527538,\n",
       "        153.81546403, 153.10874617, 152.75660582, 153.10874617,\n",
       "        153.81546403, 155.238701  , 155.238701  , 155.238701  ,\n",
       "        153.10874617, 153.46169828, 153.46169828, 153.10874617,\n",
       "        155.59656316, 154.52544395, 154.52544395, 157.03628043,\n",
       "        157.03628043, 157.03628043, 155.238701  , 155.95525028,\n",
       "        155.238701  , 155.59656316, 158.12480393, 155.95525028,\n",
       "        157.76112697, 156.67510701, 162.55487558, 159.58791472,\n",
       "        156.67510701, 156.31476426, 159.22087271, 154.17004529,\n",
       "        159.95580286, 170.6082389 , 162.18100974, 162.55487558,\n",
       "        162.18100974, 179.0605854 , 164.05897732, 166.34126504,\n",
       "        166.72472126, 179.0605854 , 169.04409316, 169.43378004,\n",
       "        170.21585084, 173.78008287, 173.78008287, 177.827941  ,\n",
       "        180.7174126 , 184.07720015, 178.64875749, 177.827941  ,\n",
       "        186.20871367, 187.93168168, 165.57699635, 228.0342072 ]),\n",
       " array([151.00801542, 172.5837892 , 176.60378207, 170.6082389 ,\n",
       "        164.43717232, 164.43717232, 164.43717232, 150.66070662,\n",
       "        149.62356561, 151.35612484, 151.00801542, 171.39573075,\n",
       "        150.66070662, 151.00801542, 150.31419661, 152.05475297,\n",
       "        152.05475297, 152.05475297, 150.66070662, 150.66070662,\n",
       "        150.66070662, 151.00801542, 151.00801542, 151.00801542,\n",
       "        151.35612484, 151.70503675, 150.66070662, 149.62356561,\n",
       "        149.96848355, 151.35612484, 151.00801542, 149.96848355,\n",
       "        149.96848355, 150.31419661, 151.00801542, 150.31419661,\n",
       "        151.35612484, 153.46169828, 153.46169828, 153.46169828,\n",
       "        152.40527538, 152.05475297, 152.40527538, 152.75660582,\n",
       "        152.05475297, 152.40527538, 151.35612484, 152.40527538,\n",
       "        153.81546403, 153.10874617, 152.75660582, 153.10874617,\n",
       "        153.81546403, 155.238701  , 155.238701  , 155.238701  ,\n",
       "        153.10874617, 153.46169828, 153.46169828, 153.10874617,\n",
       "        155.59656316, 154.52544395, 154.52544395, 157.03628043,\n",
       "        157.03628043, 157.03628043, 155.238701  , 155.95525028,\n",
       "        155.238701  , 155.59656316, 158.12480393, 155.95525028,\n",
       "        157.76112697, 156.67510701, 162.55487558, 159.58791472,\n",
       "        156.67510701, 156.31476426, 159.22087271, 154.17004529,\n",
       "        159.95580286, 170.6082389 , 162.18100974, 162.55487558,\n",
       "        162.18100974, 179.0605854 , 164.05897732, 166.34126504,\n",
       "        166.72472126, 179.0605854 , 169.04409316, 169.43378004,\n",
       "        170.21585084, 173.78008287, 173.78008287, 177.827941  ,\n",
       "        180.7174126 , 184.07720015, 178.64875749, 177.827941  ,\n",
       "        186.20871367, 187.93168168, 165.57699635, 228.0342072 ]),\n",
       " array([151.00801542, 172.5837892 , 176.60378207, 170.6082389 ,\n",
       "        164.43717232, 164.43717232, 164.43717232, 150.66070662,\n",
       "        149.62356561, 151.35612484, 151.00801542, 171.39573075,\n",
       "        150.66070662, 151.00801542, 150.31419661, 152.05475297,\n",
       "        152.05475297, 152.05475297, 150.66070662, 150.66070662,\n",
       "        150.66070662, 151.00801542, 151.00801542, 151.00801542,\n",
       "        151.35612484, 151.70503675, 150.66070662, 149.62356561,\n",
       "        149.96848355, 151.35612484, 151.00801542, 149.96848355,\n",
       "        149.96848355, 150.31419661, 151.00801542, 150.31419661,\n",
       "        151.35612484, 153.46169828, 153.46169828, 153.46169828,\n",
       "        152.40527538, 152.05475297, 152.40527538, 152.75660582,\n",
       "        152.05475297, 152.40527538, 151.35612484, 152.40527538,\n",
       "        153.81546403, 153.10874617, 152.75660582, 153.10874617,\n",
       "        153.81546403, 155.238701  , 155.238701  , 155.238701  ,\n",
       "        153.10874617, 153.46169828, 153.46169828, 153.10874617,\n",
       "        155.59656316, 154.52544395, 154.52544395, 157.03628043,\n",
       "        157.03628043, 157.03628043, 155.238701  , 155.95525028,\n",
       "        155.238701  , 155.59656316, 158.12480393, 155.95525028,\n",
       "        157.76112697, 156.67510701, 162.55487558, 159.58791472,\n",
       "        156.67510701, 156.31476426, 159.22087271, 154.17004529,\n",
       "        159.95580286, 170.6082389 , 162.18100974, 162.55487558,\n",
       "        162.18100974, 179.0605854 , 164.05897732, 166.34126504,\n",
       "        166.72472126, 179.0605854 , 169.04409316, 169.43378004,\n",
       "        170.21585084, 173.78008287, 173.78008287, 177.827941  ,\n",
       "        180.7174126 , 184.07720015, 178.64875749, 177.827941  ,\n",
       "        186.20871367, 187.93168168, 165.57699635, 228.0342072 ]),\n",
       " array([151.00801542, 172.5837892 , 176.60378207, 170.6082389 ,\n",
       "        164.43717232, 164.43717232, 164.43717232, 150.66070662,\n",
       "        149.62356561, 151.35612484, 151.00801542, 171.39573075,\n",
       "        150.66070662, 151.00801542, 150.31419661, 152.05475297,\n",
       "        152.05475297, 152.05475297, 150.66070662, 150.66070662,\n",
       "        150.66070662, 151.00801542, 151.00801542, 151.00801542,\n",
       "        151.35612484, 151.70503675, 150.66070662, 149.62356561,\n",
       "        149.96848355, 151.35612484, 151.00801542, 149.96848355,\n",
       "        149.96848355, 150.31419661, 151.00801542, 150.31419661,\n",
       "        151.35612484, 153.46169828, 153.46169828, 153.46169828,\n",
       "        152.40527538, 152.05475297, 152.40527538, 152.75660582,\n",
       "        152.05475297, 152.40527538, 151.35612484, 152.40527538,\n",
       "        153.81546403, 153.10874617, 152.75660582, 153.10874617,\n",
       "        153.81546403, 155.238701  , 155.238701  , 155.238701  ,\n",
       "        153.10874617, 153.46169828, 153.46169828, 153.10874617,\n",
       "        155.59656316, 154.52544395, 154.52544395, 157.03628043,\n",
       "        157.03628043, 157.03628043, 155.238701  , 155.95525028,\n",
       "        155.238701  , 155.59656316, 158.12480393, 155.95525028,\n",
       "        157.76112697, 156.67510701, 162.55487558, 159.58791472,\n",
       "        156.67510701, 156.31476426, 159.22087271, 154.17004529,\n",
       "        159.95580286, 170.6082389 , 162.18100974, 162.55487558,\n",
       "        162.18100974, 179.0605854 , 164.05897732, 166.34126504,\n",
       "        166.72472126, 179.0605854 , 169.04409316, 169.43378004,\n",
       "        170.21585084, 173.78008287, 173.78008287, 177.827941  ,\n",
       "        180.7174126 , 184.07720015, 178.64875749, 177.827941  ,\n",
       "        186.20871367, 187.93168168, 165.57699635, 228.0342072 ]),\n",
       " array([151.00801542, 172.5837892 , 176.60378207, 170.6082389 ,\n",
       "        164.43717232, 164.43717232, 164.43717232, 150.66070662,\n",
       "        149.62356561, 151.35612484, 151.00801542, 171.39573075,\n",
       "        150.66070662, 151.00801542, 150.31419661, 152.05475297,\n",
       "        152.05475297, 152.05475297, 150.66070662, 150.66070662,\n",
       "        150.66070662, 151.00801542, 151.00801542, 151.00801542,\n",
       "        151.35612484, 151.70503675, 150.66070662, 149.62356561,\n",
       "        149.96848355, 151.35612484, 151.00801542, 149.96848355,\n",
       "        149.96848355, 150.31419661, 151.00801542, 150.31419661,\n",
       "        151.35612484, 153.46169828, 153.46169828, 153.46169828,\n",
       "        152.40527538, 152.05475297, 152.40527538, 152.75660582,\n",
       "        152.05475297, 152.40527538, 151.35612484, 152.40527538,\n",
       "        153.81546403, 153.10874617, 152.75660582, 153.10874617,\n",
       "        153.81546403, 155.238701  , 155.238701  , 155.238701  ,\n",
       "        153.10874617, 153.46169828, 153.46169828, 153.10874617,\n",
       "        155.59656316, 154.52544395, 154.52544395, 157.03628043,\n",
       "        157.03628043, 157.03628043, 155.238701  , 155.95525028,\n",
       "        155.238701  , 155.59656316, 158.12480393, 155.95525028,\n",
       "        157.76112697, 156.67510701, 162.55487558, 159.58791472,\n",
       "        156.67510701, 156.31476426, 159.22087271, 154.17004529,\n",
       "        159.95580286, 170.6082389 , 162.18100974, 162.55487558,\n",
       "        162.18100974, 179.0605854 , 164.05897732, 166.34126504,\n",
       "        166.72472126, 179.0605854 , 169.04409316, 169.43378004,\n",
       "        170.21585084, 173.78008287, 173.78008287, 177.827941  ,\n",
       "        180.7174126 , 184.07720015, 178.64875749, 177.827941  ,\n",
       "        186.20871367, 187.93168168, 165.57699635, 228.0342072 ]),\n",
       " array([151.00801542, 172.5837892 , 176.60378207, 170.6082389 ,\n",
       "        164.43717232, 164.43717232, 164.43717232, 150.66070662,\n",
       "        149.62356561, 151.35612484, 151.00801542, 171.39573075,\n",
       "        150.66070662, 151.00801542, 150.31419661, 152.05475297,\n",
       "        152.05475297, 152.05475297, 150.66070662, 150.66070662,\n",
       "        150.66070662, 151.00801542, 151.00801542, 151.00801542,\n",
       "        151.35612484, 151.70503675, 150.66070662, 149.62356561,\n",
       "        149.96848355, 151.35612484, 151.00801542, 149.96848355,\n",
       "        149.96848355, 150.31419661, 151.00801542, 150.31419661,\n",
       "        151.35612484, 153.46169828, 153.46169828, 153.46169828,\n",
       "        152.40527538, 152.05475297, 152.40527538, 152.75660582,\n",
       "        152.05475297, 152.40527538, 151.35612484, 152.40527538,\n",
       "        153.81546403, 153.10874617, 152.75660582, 153.10874617,\n",
       "        153.81546403, 155.238701  , 155.238701  , 155.238701  ,\n",
       "        153.10874617, 153.46169828, 153.46169828, 153.10874617,\n",
       "        155.59656316, 154.52544395, 154.52544395, 157.03628043,\n",
       "        157.03628043, 157.03628043, 155.238701  , 155.95525028,\n",
       "        155.238701  , 155.59656316, 158.12480393, 155.95525028,\n",
       "        157.76112697, 156.67510701, 162.55487558, 159.58791472,\n",
       "        156.67510701, 156.31476426, 159.22087271, 154.17004529,\n",
       "        159.95580286, 170.6082389 , 162.18100974, 162.55487558,\n",
       "        162.18100974, 179.0605854 , 164.05897732, 166.34126504,\n",
       "        166.72472126, 179.0605854 , 169.04409316, 169.43378004,\n",
       "        170.21585084, 173.78008287, 173.78008287, 177.827941  ,\n",
       "        180.7174126 , 184.07720015, 178.64875749, 177.827941  ,\n",
       "        186.20871367, 187.93168168, 165.57699635, 228.0342072 ]),\n",
       " array([151.00801542, 172.5837892 , 176.60378207, 170.6082389 ,\n",
       "        164.43717232, 164.43717232, 164.43717232, 150.66070662,\n",
       "        149.62356561, 151.35612484, 151.00801542, 171.39573075,\n",
       "        150.66070662, 151.00801542, 150.31419661, 152.05475297,\n",
       "        152.05475297, 152.05475297, 150.66070662, 150.66070662,\n",
       "        150.66070662, 151.00801542, 151.00801542, 151.00801542,\n",
       "        151.35612484, 151.70503675, 150.66070662, 149.62356561,\n",
       "        149.96848355, 151.35612484, 151.00801542, 149.96848355,\n",
       "        149.96848355, 150.31419661, 151.00801542, 150.31419661,\n",
       "        151.35612484, 153.46169828, 153.46169828, 153.46169828,\n",
       "        152.40527538, 152.05475297, 152.40527538, 152.75660582,\n",
       "        152.05475297, 152.40527538, 151.35612484, 152.40527538,\n",
       "        153.81546403, 153.10874617, 152.75660582, 153.10874617,\n",
       "        153.81546403, 155.238701  , 155.238701  , 155.238701  ,\n",
       "        153.10874617, 153.46169828, 153.46169828, 153.10874617,\n",
       "        155.59656316, 154.52544395, 154.52544395, 157.03628043,\n",
       "        157.03628043, 157.03628043, 155.238701  , 155.95525028,\n",
       "        155.238701  , 155.59656316, 158.12480393, 155.95525028,\n",
       "        157.76112697, 156.67510701, 162.55487558, 159.58791472,\n",
       "        156.67510701, 156.31476426, 159.22087271, 154.17004529,\n",
       "        159.95580286, 170.6082389 , 162.18100974, 162.55487558,\n",
       "        162.18100974, 179.0605854 , 164.05897732, 166.34126504,\n",
       "        166.72472126, 179.0605854 , 169.04409316, 169.43378004,\n",
       "        170.21585084, 173.78008287, 173.78008287, 177.827941  ,\n",
       "        180.7174126 , 184.07720015, 178.64875749, 177.827941  ,\n",
       "        186.20871367, 187.93168168, 165.57699635, 228.0342072 ]),\n",
       " array([151.00801542, 172.5837892 , 176.60378207, 170.6082389 ,\n",
       "        164.43717232, 164.43717232, 164.43717232, 150.66070662,\n",
       "        149.62356561, 151.35612484, 151.00801542, 171.39573075,\n",
       "        150.66070662, 151.00801542, 150.31419661, 152.05475297,\n",
       "        152.05475297, 152.05475297, 150.66070662, 150.66070662,\n",
       "        150.66070662, 151.00801542, 151.00801542, 151.00801542,\n",
       "        151.35612484, 151.70503675, 150.66070662, 149.62356561,\n",
       "        149.96848355, 151.35612484, 151.00801542, 149.96848355,\n",
       "        149.96848355, 150.31419661, 151.00801542, 150.31419661,\n",
       "        151.35612484, 153.46169828, 153.46169828, 153.46169828,\n",
       "        152.40527538, 152.05475297, 152.40527538, 152.75660582,\n",
       "        152.05475297, 152.40527538, 151.35612484, 152.40527538,\n",
       "        153.81546403, 153.10874617, 152.75660582, 153.10874617,\n",
       "        153.81546403, 155.238701  , 155.238701  , 155.238701  ,\n",
       "        153.10874617, 153.46169828, 153.46169828, 153.10874617,\n",
       "        155.59656316, 154.52544395, 154.52544395, 157.03628043,\n",
       "        157.03628043, 157.03628043, 155.238701  , 155.95525028,\n",
       "        155.238701  , 155.59656316, 158.12480393, 155.95525028,\n",
       "        157.76112697, 156.67510701, 162.55487558, 159.58791472,\n",
       "        156.67510701, 156.31476426, 159.22087271, 154.17004529,\n",
       "        159.95580286, 170.6082389 , 162.18100974, 162.55487558,\n",
       "        162.18100974, 179.0605854 , 164.05897732, 166.34126504,\n",
       "        166.72472126, 179.0605854 , 169.04409316, 169.43378004,\n",
       "        170.21585084, 173.78008287, 173.78008287, 177.827941  ,\n",
       "        180.7174126 , 184.07720015, 178.64875749, 177.827941  ,\n",
       "        186.20871367, 187.93168168, 165.57699635, 228.0342072 ]),\n",
       " array([151.00801542, 172.5837892 , 176.60378207, 170.6082389 ,\n",
       "        164.43717232, 164.43717232, 164.43717232, 150.66070662,\n",
       "        149.62356561, 151.35612484, 151.00801542, 171.39573075,\n",
       "        150.66070662, 151.00801542, 150.31419661, 152.05475297,\n",
       "        152.05475297, 152.05475297, 150.66070662, 150.66070662,\n",
       "        150.66070662, 151.00801542, 151.00801542, 151.00801542,\n",
       "        151.35612484, 151.70503675, 150.66070662, 149.62356561,\n",
       "        149.96848355, 151.35612484, 151.00801542, 149.96848355,\n",
       "        149.96848355, 150.31419661, 151.00801542, 150.31419661,\n",
       "        151.35612484, 153.46169828, 153.46169828, 153.46169828,\n",
       "        152.40527538, 152.05475297, 152.40527538, 152.75660582,\n",
       "        152.05475297, 152.40527538, 151.35612484, 152.40527538,\n",
       "        153.81546403, 153.10874617, 152.75660582, 153.10874617,\n",
       "        153.81546403, 155.238701  , 155.238701  , 155.238701  ,\n",
       "        153.10874617, 153.46169828, 153.46169828, 153.10874617,\n",
       "        155.59656316, 154.52544395, 154.52544395, 157.03628043,\n",
       "        157.03628043, 157.03628043, 155.238701  , 155.95525028,\n",
       "        155.238701  , 155.59656316, 158.12480393, 155.95525028,\n",
       "        157.76112697, 156.67510701, 162.55487558, 159.58791472,\n",
       "        156.67510701, 156.31476426, 159.22087271, 154.17004529,\n",
       "        159.95580286, 170.6082389 , 162.18100974, 162.55487558,\n",
       "        162.18100974, 179.0605854 , 164.05897732, 166.34126504,\n",
       "        166.72472126, 179.0605854 , 169.04409316, 169.43378004,\n",
       "        170.21585084, 173.78008287, 173.78008287, 177.827941  ,\n",
       "        180.7174126 , 184.07720015, 178.64875749, 177.827941  ,\n",
       "        186.20871367, 187.93168168, 165.57699635, 228.0342072 ]),\n",
       " array([151.00801542, 172.5837892 , 176.60378207, 170.6082389 ,\n",
       "        164.43717232, 164.43717232, 164.43717232, 150.66070662,\n",
       "        149.62356561, 151.35612484, 151.00801542, 171.39573075,\n",
       "        150.66070662, 151.00801542, 150.31419661, 152.05475297,\n",
       "        152.05475297, 152.05475297, 150.66070662, 150.66070662,\n",
       "        150.66070662, 151.00801542, 151.00801542, 151.00801542,\n",
       "        151.35612484, 151.70503675, 150.66070662, 149.62356561,\n",
       "        149.96848355, 151.35612484, 151.00801542, 149.96848355,\n",
       "        149.96848355, 150.31419661, 151.00801542, 150.31419661,\n",
       "        151.35612484, 153.46169828, 153.46169828, 153.46169828,\n",
       "        152.40527538, 152.05475297, 152.40527538, 152.75660582,\n",
       "        152.05475297, 152.40527538, 151.35612484, 152.40527538,\n",
       "        153.81546403, 153.10874617, 152.75660582, 153.10874617,\n",
       "        153.81546403, 155.238701  , 155.238701  , 155.238701  ,\n",
       "        153.10874617, 153.46169828, 153.46169828, 153.10874617,\n",
       "        155.59656316, 154.52544395, 154.52544395, 157.03628043,\n",
       "        157.03628043, 157.03628043, 155.238701  , 155.95525028,\n",
       "        155.238701  , 155.59656316, 158.12480393, 155.95525028,\n",
       "        157.76112697, 156.67510701, 162.55487558, 159.58791472,\n",
       "        156.67510701, 156.31476426, 159.22087271, 154.17004529,\n",
       "        159.95580286, 170.6082389 , 162.18100974, 162.55487558,\n",
       "        162.18100974, 179.0605854 , 164.05897732, 166.34126504,\n",
       "        166.72472126, 179.0605854 , 169.04409316, 169.43378004,\n",
       "        170.21585084, 173.78008287, 173.78008287, 177.827941  ,\n",
       "        180.7174126 , 184.07720015, 178.64875749, 177.827941  ,\n",
       "        186.20871367, 187.93168168, 165.57699635, 228.0342072 ]),\n",
       " array([151.00801542, 172.5837892 , 176.60378207, 170.6082389 ,\n",
       "        164.43717232, 164.43717232, 164.43717232, 150.66070662,\n",
       "        149.62356561, 151.35612484, 151.00801542, 171.39573075,\n",
       "        150.66070662, 151.00801542, 150.31419661, 152.05475297,\n",
       "        152.05475297, 152.05475297, 150.66070662, 150.66070662,\n",
       "        150.66070662, 151.00801542, 151.00801542, 151.00801542,\n",
       "        151.35612484, 151.70503675, 150.66070662, 149.62356561,\n",
       "        149.96848355, 151.35612484, 151.00801542, 149.96848355,\n",
       "        149.96848355, 150.31419661, 151.00801542, 150.31419661,\n",
       "        151.35612484, 153.46169828, 153.46169828, 153.46169828,\n",
       "        152.40527538, 152.05475297, 152.40527538, 152.75660582,\n",
       "        152.05475297, 152.40527538, 151.35612484, 152.40527538,\n",
       "        153.81546403, 153.10874617, 152.75660582, 153.10874617,\n",
       "        153.81546403, 155.238701  , 155.238701  , 155.238701  ,\n",
       "        153.10874617, 153.46169828, 153.46169828, 153.10874617,\n",
       "        155.59656316, 154.52544395, 154.52544395, 157.03628043,\n",
       "        157.03628043, 157.03628043, 155.238701  , 155.95525028,\n",
       "        155.238701  , 155.59656316, 158.12480393, 155.95525028,\n",
       "        157.76112697, 156.67510701, 162.55487558, 159.58791472,\n",
       "        156.67510701, 156.31476426, 159.22087271, 154.17004529,\n",
       "        159.95580286, 170.6082389 , 162.18100974, 162.55487558,\n",
       "        162.18100974, 179.0605854 , 164.05897732, 166.34126504,\n",
       "        166.72472126, 179.0605854 , 169.04409316, 169.43378004,\n",
       "        170.21585084, 173.78008287, 173.78008287, 177.827941  ,\n",
       "        180.7174126 , 184.07720015, 178.64875749, 177.827941  ,\n",
       "        186.20871367, 187.93168168, 165.57699635, 228.0342072 ]),\n",
       " array([151.00801542, 172.5837892 , 176.60378207, 170.6082389 ,\n",
       "        164.43717232, 164.43717232, 164.43717232, 150.66070662,\n",
       "        149.62356561, 151.35612484, 151.00801542, 171.39573075,\n",
       "        150.66070662, 151.00801542, 150.31419661, 152.05475297,\n",
       "        152.05475297, 152.05475297, 150.66070662, 150.66070662,\n",
       "        150.66070662, 151.00801542, 151.00801542, 151.00801542,\n",
       "        151.35612484, 151.70503675, 150.66070662, 149.62356561,\n",
       "        149.96848355, 151.35612484, 151.00801542, 149.96848355,\n",
       "        149.96848355, 150.31419661, 151.00801542, 150.31419661,\n",
       "        151.35612484, 153.46169828, 153.46169828, 153.46169828,\n",
       "        152.40527538, 152.05475297, 152.40527538, 152.75660582,\n",
       "        152.05475297, 152.40527538, 151.35612484, 152.40527538,\n",
       "        153.81546403, 153.10874617, 152.75660582, 153.10874617,\n",
       "        153.81546403, 155.238701  , 155.238701  , 155.238701  ,\n",
       "        153.10874617, 153.46169828, 153.46169828, 153.10874617,\n",
       "        155.59656316, 154.52544395, 154.52544395, 157.03628043,\n",
       "        157.03628043, 157.03628043, 155.238701  , 155.95525028,\n",
       "        155.238701  , 155.59656316, 158.12480393, 155.95525028,\n",
       "        157.76112697, 156.67510701, 162.55487558, 159.58791472,\n",
       "        156.67510701, 156.31476426, 159.22087271, 154.17004529,\n",
       "        159.95580286, 170.6082389 , 162.18100974, 162.55487558,\n",
       "        162.18100974, 179.0605854 , 164.05897732, 166.34126504,\n",
       "        166.72472126, 179.0605854 , 169.04409316, 169.43378004,\n",
       "        170.21585084, 173.78008287, 173.78008287, 177.827941  ,\n",
       "        180.7174126 , 184.07720015, 178.64875749, 177.827941  ,\n",
       "        186.20871367, 187.93168168, 165.57699635, 228.0342072 ]),\n",
       " array([151.00801542, 172.5837892 , 176.60378207, 170.6082389 ,\n",
       "        164.43717232, 164.43717232, 164.43717232, 150.66070662,\n",
       "        149.62356561, 151.35612484, 151.00801542, 171.39573075,\n",
       "        150.66070662, 151.00801542, 150.31419661, 152.05475297,\n",
       "        152.05475297, 152.05475297, 150.66070662, 150.66070662,\n",
       "        150.66070662, 151.00801542, 151.00801542, 151.00801542,\n",
       "        151.35612484, 151.70503675, 150.66070662, 149.62356561,\n",
       "        149.96848355, 151.35612484, 151.00801542, 149.96848355,\n",
       "        149.96848355, 150.31419661, 151.00801542, 150.31419661,\n",
       "        151.35612484, 153.46169828, 153.46169828, 153.46169828,\n",
       "        152.40527538, 152.05475297, 152.40527538, 152.75660582,\n",
       "        152.05475297, 152.40527538, 151.35612484, 152.40527538,\n",
       "        153.81546403, 153.10874617, 152.75660582, 153.10874617,\n",
       "        153.81546403, 155.238701  , 155.238701  , 155.238701  ,\n",
       "        153.10874617, 153.46169828, 153.46169828, 153.10874617,\n",
       "        155.59656316, 154.52544395, 154.52544395, 157.03628043,\n",
       "        157.03628043, 157.03628043, 155.238701  , 155.95525028,\n",
       "        155.238701  , 155.59656316, 158.12480393, 155.95525028,\n",
       "        157.76112697, 156.67510701, 162.55487558, 159.58791472,\n",
       "        156.67510701, 156.31476426, 159.22087271, 154.17004529,\n",
       "        159.95580286, 170.6082389 , 162.18100974, 162.55487558,\n",
       "        162.18100974, 179.0605854 , 164.05897732, 166.34126504,\n",
       "        166.72472126, 179.0605854 , 169.04409316, 169.43378004,\n",
       "        170.21585084, 173.78008287, 173.78008287, 177.827941  ,\n",
       "        180.7174126 , 184.07720015, 178.64875749, 177.827941  ,\n",
       "        186.20871367, 187.93168168, 165.57699635, 228.0342072 ]),\n",
       " array([151.00801542, 172.5837892 , 176.60378207, 170.6082389 ,\n",
       "        164.43717232, 164.43717232, 164.43717232, 150.66070662,\n",
       "        149.62356561, 151.35612484, 151.00801542, 171.39573075,\n",
       "        150.66070662, 151.00801542, 150.31419661, 152.05475297,\n",
       "        152.05475297, 152.05475297, 150.66070662, 150.66070662,\n",
       "        150.66070662, 151.00801542, 151.00801542, 151.00801542,\n",
       "        151.35612484, 151.70503675, 150.66070662, 149.62356561,\n",
       "        149.96848355, 151.35612484, 151.00801542, 149.96848355,\n",
       "        149.96848355, 150.31419661, 151.00801542, 150.31419661,\n",
       "        151.35612484, 153.46169828, 153.46169828, 153.46169828,\n",
       "        152.40527538, 152.05475297, 152.40527538, 152.75660582,\n",
       "        152.05475297, 152.40527538, 151.35612484, 152.40527538,\n",
       "        153.81546403, 153.10874617, 152.75660582, 153.10874617,\n",
       "        153.81546403, 155.238701  , 155.238701  , 155.238701  ,\n",
       "        153.10874617, 153.46169828, 153.46169828, 153.10874617,\n",
       "        155.59656316, 154.52544395, 154.52544395, 157.03628043,\n",
       "        157.03628043, 157.03628043, 155.238701  , 155.95525028,\n",
       "        155.238701  , 155.59656316, 158.12480393, 155.95525028,\n",
       "        157.76112697, 156.67510701, 162.55487558, 159.58791472,\n",
       "        156.67510701, 156.31476426, 159.22087271, 154.17004529,\n",
       "        159.95580286, 170.6082389 , 162.18100974, 162.55487558,\n",
       "        162.18100974, 179.0605854 , 164.05897732, 166.34126504,\n",
       "        166.72472126, 179.0605854 , 169.04409316, 169.43378004,\n",
       "        170.21585084, 173.78008287, 173.78008287, 177.827941  ,\n",
       "        180.7174126 , 184.07720015, 178.64875749, 177.827941  ,\n",
       "        186.20871367, 187.93168168, 165.57699635, 228.0342072 ]),\n",
       " array([151.00801542, 172.5837892 , 176.60378207, 170.6082389 ,\n",
       "        164.43717232, 164.43717232, 164.43717232, 150.66070662,\n",
       "        149.62356561, 151.35612484, 151.00801542, 171.39573075,\n",
       "        150.66070662, 151.00801542, 150.31419661, 152.05475297,\n",
       "        152.05475297, 152.05475297, 150.66070662, 150.66070662,\n",
       "        150.66070662, 151.00801542, 151.00801542, 151.00801542,\n",
       "        151.35612484, 151.70503675, 150.66070662, 149.62356561,\n",
       "        149.96848355, 151.35612484, 151.00801542, 149.96848355,\n",
       "        149.96848355, 150.31419661, 151.00801542, 150.31419661,\n",
       "        151.35612484, 153.46169828, 153.46169828, 153.46169828,\n",
       "        152.40527538, 152.05475297, 152.40527538, 152.75660582,\n",
       "        152.05475297, 152.40527538, 151.35612484, 152.40527538,\n",
       "        153.81546403, 153.10874617, 152.75660582, 153.10874617,\n",
       "        153.81546403, 155.238701  , 155.238701  , 155.238701  ,\n",
       "        153.10874617, 153.46169828, 153.46169828, 153.10874617,\n",
       "        155.59656316, 154.52544395, 154.52544395, 157.03628043,\n",
       "        157.03628043, 157.03628043, 155.238701  , 155.95525028,\n",
       "        155.238701  , 155.59656316, 158.12480393, 155.95525028,\n",
       "        157.76112697, 156.67510701, 162.55487558, 159.58791472,\n",
       "        156.67510701, 156.31476426, 159.22087271, 154.17004529,\n",
       "        159.95580286, 170.6082389 , 162.18100974, 162.55487558,\n",
       "        162.18100974, 179.0605854 , 164.05897732, 166.34126504,\n",
       "        166.72472126, 179.0605854 , 169.04409316, 169.43378004,\n",
       "        170.21585084, 173.78008287, 173.78008287, 177.827941  ,\n",
       "        180.7174126 , 184.07720015, 178.64875749, 177.827941  ,\n",
       "        186.20871367, 187.93168168, 165.57699635, 228.0342072 ]),\n",
       " array([151.00801542, 172.5837892 , 176.60378207, 170.6082389 ,\n",
       "        164.43717232, 164.43717232, 164.43717232, 150.66070662,\n",
       "        149.62356561, 151.35612484, 151.00801542, 171.39573075,\n",
       "        150.66070662, 151.00801542, 150.31419661, 152.05475297,\n",
       "        152.05475297, 152.05475297, 150.66070662, 150.66070662,\n",
       "        150.66070662, 151.00801542, 151.00801542, 151.00801542,\n",
       "        151.35612484, 151.70503675, 150.66070662, 149.62356561,\n",
       "        149.96848355, 151.35612484, 151.00801542, 149.96848355,\n",
       "        149.96848355, 150.31419661, 151.00801542, 150.31419661,\n",
       "        151.35612484, 153.46169828, 153.46169828, 153.46169828,\n",
       "        152.40527538, 152.05475297, 152.40527538, 152.75660582,\n",
       "        152.05475297, 152.40527538, 151.35612484, 152.40527538,\n",
       "        153.81546403, 153.10874617, 152.75660582, 153.10874617,\n",
       "        153.81546403, 155.238701  , 155.238701  , 155.238701  ,\n",
       "        153.10874617, 153.46169828, 153.46169828, 153.10874617,\n",
       "        155.59656316, 154.52544395, 154.52544395, 157.03628043,\n",
       "        157.03628043, 157.03628043, 155.238701  , 155.95525028,\n",
       "        155.238701  , 155.59656316, 158.12480393, 155.95525028,\n",
       "        157.76112697, 156.67510701, 162.55487558, 159.58791472,\n",
       "        156.67510701, 156.31476426, 159.22087271, 154.17004529,\n",
       "        159.95580286, 170.6082389 , 162.18100974, 162.55487558,\n",
       "        162.18100974, 179.0605854 , 164.05897732, 166.34126504,\n",
       "        166.72472126, 179.0605854 , 169.04409316, 169.43378004,\n",
       "        170.21585084, 173.78008287, 173.78008287, 177.827941  ,\n",
       "        180.7174126 , 184.07720015, 178.64875749, 177.827941  ,\n",
       "        186.20871367, 187.93168168, 165.57699635, 228.0342072 ]),\n",
       " array([151.00801542, 172.5837892 , 176.60378207, 170.6082389 ,\n",
       "        164.43717232, 164.43717232, 164.43717232, 150.66070662,\n",
       "        149.62356561, 151.35612484, 151.00801542, 171.39573075,\n",
       "        150.66070662, 151.00801542, 150.31419661, 152.05475297,\n",
       "        152.05475297, 152.05475297, 150.66070662, 150.66070662,\n",
       "        150.66070662, 151.00801542, 151.00801542, 151.00801542,\n",
       "        151.35612484, 151.70503675, 150.66070662, 149.62356561,\n",
       "        149.96848355, 151.35612484, 151.00801542, 149.96848355,\n",
       "        149.96848355, 150.31419661, 151.00801542, 150.31419661,\n",
       "        151.35612484, 153.46169828, 153.46169828, 153.46169828,\n",
       "        152.40527538, 152.05475297, 152.40527538, 152.75660582,\n",
       "        152.05475297, 152.40527538, 151.35612484, 152.40527538,\n",
       "        153.81546403, 153.10874617, 152.75660582, 153.10874617,\n",
       "        153.81546403, 155.238701  , 155.238701  , 155.238701  ,\n",
       "        153.10874617, 153.46169828, 153.46169828, 153.10874617,\n",
       "        155.59656316, 154.52544395, 154.52544395, 157.03628043,\n",
       "        157.03628043, 157.03628043, 155.238701  , 155.95525028,\n",
       "        155.238701  , 155.59656316, 158.12480393, 155.95525028,\n",
       "        157.76112697, 156.67510701, 162.55487558, 159.58791472,\n",
       "        156.67510701, 156.31476426, 159.22087271, 154.17004529,\n",
       "        159.95580286, 170.6082389 , 162.18100974, 162.55487558,\n",
       "        162.18100974, 179.0605854 , 164.05897732, 166.34126504,\n",
       "        166.72472126, 179.0605854 , 169.04409316, 169.43378004,\n",
       "        170.21585084, 173.78008287, 173.78008287, 177.827941  ,\n",
       "        180.7174126 , 184.07720015, 178.64875749, 177.827941  ,\n",
       "        186.20871367, 187.93168168, 165.57699635, 228.0342072 ]),\n",
       " array([151.00801542, 172.5837892 , 176.60378207, 170.6082389 ,\n",
       "        164.43717232, 164.43717232, 164.43717232, 150.66070662,\n",
       "        149.62356561, 151.35612484, 151.00801542, 171.39573075,\n",
       "        150.66070662, 151.00801542, 150.31419661, 152.05475297,\n",
       "        152.05475297, 152.05475297, 150.66070662, 150.66070662,\n",
       "        150.66070662, 151.00801542, 151.00801542, 151.00801542,\n",
       "        151.35612484, 151.70503675, 150.66070662, 149.62356561,\n",
       "        149.96848355, 151.35612484, 151.00801542, 149.96848355,\n",
       "        149.96848355, 150.31419661, 151.00801542, 150.31419661,\n",
       "        151.35612484, 153.46169828, 153.46169828, 153.46169828,\n",
       "        152.40527538, 152.05475297, 152.40527538, 152.75660582,\n",
       "        152.05475297, 152.40527538, 151.35612484, 152.40527538,\n",
       "        153.81546403, 153.10874617, 152.75660582, 153.10874617,\n",
       "        153.81546403, 155.238701  , 155.238701  , 155.238701  ,\n",
       "        153.10874617, 153.46169828, 153.46169828, 153.10874617,\n",
       "        155.59656316, 154.52544395, 154.52544395, 157.03628043,\n",
       "        157.03628043, 157.03628043, 155.238701  , 155.95525028,\n",
       "        155.238701  , 155.59656316, 158.12480393, 155.95525028,\n",
       "        157.76112697, 156.67510701, 162.55487558, 159.58791472,\n",
       "        156.67510701, 156.31476426, 159.22087271, 154.17004529,\n",
       "        159.95580286, 170.6082389 , 162.18100974, 162.55487558,\n",
       "        162.18100974, 179.0605854 , 164.05897732, 166.34126504,\n",
       "        166.72472126, 179.0605854 , 169.04409316, 169.43378004,\n",
       "        170.21585084, 173.78008287, 173.78008287, 177.827941  ,\n",
       "        180.7174126 , 184.07720015, 178.64875749, 177.827941  ,\n",
       "        186.20871367, 187.93168168, 165.57699635, 228.0342072 ]),\n",
       " array([151.00801542, 172.5837892 , 176.60378207, 170.6082389 ,\n",
       "        164.43717232, 164.43717232, 164.43717232, 150.66070662,\n",
       "        149.62356561, 151.35612484, 151.00801542, 171.39573075,\n",
       "        150.66070662, 151.00801542, 150.31419661, 152.05475297,\n",
       "        152.05475297, 152.05475297, 150.66070662, 150.66070662,\n",
       "        150.66070662, 151.00801542, 151.00801542, 151.00801542,\n",
       "        151.35612484, 151.70503675, 150.66070662, 149.62356561,\n",
       "        149.96848355, 151.35612484, 151.00801542, 149.96848355,\n",
       "        149.96848355, 150.31419661, 151.00801542, 150.31419661,\n",
       "        151.35612484, 153.46169828, 153.46169828, 153.46169828,\n",
       "        152.40527538, 152.05475297, 152.40527538, 152.75660582,\n",
       "        152.05475297, 152.40527538, 151.35612484, 152.40527538,\n",
       "        153.81546403, 153.10874617, 152.75660582, 153.10874617,\n",
       "        153.81546403, 155.238701  , 155.238701  , 155.238701  ,\n",
       "        153.10874617, 153.46169828, 153.46169828, 153.10874617,\n",
       "        155.59656316, 154.52544395, 154.52544395, 157.03628043,\n",
       "        157.03628043, 157.03628043, 155.238701  , 155.95525028,\n",
       "        155.238701  , 155.59656316, 158.12480393, 155.95525028,\n",
       "        157.76112697, 156.67510701, 162.55487558, 159.58791472,\n",
       "        156.67510701, 156.31476426, 159.22087271, 154.17004529,\n",
       "        159.95580286, 170.6082389 , 162.18100974, 162.55487558,\n",
       "        162.18100974, 179.0605854 , 164.05897732, 166.34126504,\n",
       "        166.72472126, 179.0605854 , 169.04409316, 169.43378004,\n",
       "        170.21585084, 173.78008287, 173.78008287, 177.827941  ,\n",
       "        180.7174126 , 184.07720015, 178.64875749, 177.827941  ,\n",
       "        186.20871367, 187.93168168, 165.57699635, 228.0342072 ]),\n",
       " array([151.00801542, 172.5837892 , 176.60378207, 170.6082389 ,\n",
       "        164.43717232, 164.43717232, 164.43717232, 150.66070662,\n",
       "        149.62356561, 151.35612484, 151.00801542, 171.39573075,\n",
       "        150.66070662, 151.00801542, 150.31419661, 152.05475297,\n",
       "        152.05475297, 152.05475297, 150.66070662, 150.66070662,\n",
       "        150.66070662, 151.00801542, 151.00801542, 151.00801542,\n",
       "        151.35612484, 151.70503675, 150.66070662, 149.62356561,\n",
       "        149.96848355, 151.35612484, 151.00801542, 149.96848355,\n",
       "        149.96848355, 150.31419661, 151.00801542, 150.31419661,\n",
       "        151.35612484, 153.46169828, 153.46169828, 153.46169828,\n",
       "        152.40527538, 152.05475297, 152.40527538, 152.75660582,\n",
       "        152.05475297, 152.40527538, 151.35612484, 152.40527538,\n",
       "        153.81546403, 153.10874617, 152.75660582, 153.10874617,\n",
       "        153.81546403, 155.238701  , 155.238701  , 155.238701  ,\n",
       "        153.10874617, 153.46169828, 153.46169828, 153.10874617,\n",
       "        155.59656316, 154.52544395, 154.52544395, 157.03628043,\n",
       "        157.03628043, 157.03628043, 155.238701  , 155.95525028,\n",
       "        155.238701  , 155.59656316, 158.12480393, 155.95525028,\n",
       "        157.76112697, 156.67510701, 162.55487558, 159.58791472,\n",
       "        156.67510701, 156.31476426, 159.22087271, 154.17004529,\n",
       "        159.95580286, 170.6082389 , 162.18100974, 162.55487558,\n",
       "        162.18100974, 179.0605854 , 164.05897732, 166.34126504,\n",
       "        166.72472126, 179.0605854 , 169.04409316, 169.43378004,\n",
       "        170.21585084, 173.78008287, 173.78008287, 177.827941  ,\n",
       "        180.7174126 , 184.07720015, 178.64875749, 177.827941  ,\n",
       "        186.20871367, 187.93168168, 165.57699635, 228.0342072 ]),\n",
       " array([151.00801542, 172.5837892 , 176.60378207, 170.6082389 ,\n",
       "        164.43717232, 164.43717232, 164.43717232, 150.66070662,\n",
       "        149.62356561, 151.35612484, 151.00801542, 171.39573075,\n",
       "        150.66070662, 151.00801542, 150.31419661, 152.05475297,\n",
       "        152.05475297, 152.05475297, 150.66070662, 150.66070662,\n",
       "        150.66070662, 151.00801542, 151.00801542, 151.00801542,\n",
       "        151.35612484, 151.70503675, 150.66070662, 149.62356561,\n",
       "        149.96848355, 151.35612484, 151.00801542, 149.96848355,\n",
       "        149.96848355, 150.31419661, 151.00801542, 150.31419661,\n",
       "        151.35612484, 153.46169828, 153.46169828, 153.46169828,\n",
       "        152.40527538, 152.05475297, 152.40527538, 152.75660582,\n",
       "        152.05475297, 152.40527538, 151.35612484, 152.40527538,\n",
       "        153.81546403, 153.10874617, 152.75660582, 153.10874617,\n",
       "        153.81546403, 155.238701  , 155.238701  , 155.238701  ,\n",
       "        153.10874617, 153.46169828, 153.46169828, 153.10874617,\n",
       "        155.59656316, 154.52544395, 154.52544395, 157.03628043,\n",
       "        157.03628043, 157.03628043, 155.238701  , 155.95525028,\n",
       "        155.238701  , 155.59656316, 158.12480393, 155.95525028,\n",
       "        157.76112697, 156.67510701, 162.55487558, 159.58791472,\n",
       "        156.67510701, 156.31476426, 159.22087271, 154.17004529,\n",
       "        159.95580286, 170.6082389 , 162.18100974, 162.55487558,\n",
       "        162.18100974, 179.0605854 , 164.05897732, 166.34126504,\n",
       "        166.72472126, 179.0605854 , 169.04409316, 169.43378004,\n",
       "        170.21585084, 173.78008287, 173.78008287, 177.827941  ,\n",
       "        180.7174126 , 184.07720015, 178.64875749, 177.827941  ,\n",
       "        186.20871367, 187.93168168, 165.57699635, 228.0342072 ]),\n",
       " array([151.00801542, 172.5837892 , 176.60378207, 170.6082389 ,\n",
       "        164.43717232, 164.43717232, 164.43717232, 150.66070662,\n",
       "        149.62356561, 151.35612484, 151.00801542, 171.39573075,\n",
       "        150.66070662, 151.00801542, 150.31419661, 152.05475297,\n",
       "        152.05475297, 152.05475297, 150.66070662, 150.66070662,\n",
       "        150.66070662, 151.00801542, 151.00801542, 151.00801542,\n",
       "        151.35612484, 151.70503675, 150.66070662, 149.62356561,\n",
       "        149.96848355, 151.35612484, 151.00801542, 149.96848355,\n",
       "        149.96848355, 150.31419661, 151.00801542, 150.31419661,\n",
       "        151.35612484, 153.46169828, 153.46169828, 153.46169828,\n",
       "        152.40527538, 152.05475297, 152.40527538, 152.75660582,\n",
       "        152.05475297, 152.40527538, 151.35612484, 152.40527538,\n",
       "        153.81546403, 153.10874617, 152.75660582, 153.10874617,\n",
       "        153.81546403, 155.238701  , 155.238701  , 155.238701  ,\n",
       "        153.10874617, 153.46169828, 153.46169828, 153.10874617,\n",
       "        155.59656316, 154.52544395, 154.52544395, 157.03628043,\n",
       "        157.03628043, 157.03628043, 155.238701  , 155.95525028,\n",
       "        155.238701  , 155.59656316, 158.12480393, 155.95525028,\n",
       "        157.76112697, 156.67510701, 162.55487558, 159.58791472,\n",
       "        156.67510701, 156.31476426, 159.22087271, 154.17004529,\n",
       "        159.95580286, 170.6082389 , 162.18100974, 162.55487558,\n",
       "        162.18100974, 179.0605854 , 164.05897732, 166.34126504,\n",
       "        166.72472126, 179.0605854 , 169.04409316, 169.43378004,\n",
       "        170.21585084, 173.78008287, 173.78008287, 177.827941  ,\n",
       "        180.7174126 , 184.07720015, 178.64875749, 177.827941  ,\n",
       "        186.20871367, 187.93168168, 165.57699635, 228.0342072 ]),\n",
       " array([151.00801542, 172.5837892 , 176.60378207, 170.6082389 ,\n",
       "        164.43717232, 164.43717232, 164.43717232, 150.66070662,\n",
       "        149.62356561, 151.35612484, 151.00801542, 171.39573075,\n",
       "        150.66070662, 151.00801542, 150.31419661, 152.05475297,\n",
       "        152.05475297, 152.05475297, 150.66070662, 150.66070662,\n",
       "        150.66070662, 151.00801542, 151.00801542, 151.00801542,\n",
       "        151.35612484, 151.70503675, 150.66070662, 149.62356561,\n",
       "        149.96848355, 151.35612484, 151.00801542, 149.96848355,\n",
       "        149.96848355, 150.31419661, 151.00801542, 150.31419661,\n",
       "        151.35612484, 153.46169828, 153.46169828, 153.46169828,\n",
       "        152.40527538, 152.05475297, 152.40527538, 152.75660582,\n",
       "        152.05475297, 152.40527538, 151.35612484, 152.40527538,\n",
       "        153.81546403, 153.10874617, 152.75660582, 153.10874617,\n",
       "        153.81546403, 155.238701  , 155.238701  , 155.238701  ,\n",
       "        153.10874617, 153.46169828, 153.46169828, 153.10874617,\n",
       "        155.59656316, 154.52544395, 154.52544395, 157.03628043,\n",
       "        157.03628043, 157.03628043, 155.238701  , 155.95525028,\n",
       "        155.238701  , 155.59656316, 158.12480393, 155.95525028,\n",
       "        157.76112697, 156.67510701, 162.55487558, 159.58791472,\n",
       "        156.67510701, 156.31476426, 159.22087271, 154.17004529,\n",
       "        159.95580286, 170.6082389 , 162.18100974, 162.55487558,\n",
       "        162.18100974, 179.0605854 , 164.05897732, 166.34126504,\n",
       "        166.72472126, 179.0605854 , 169.04409316, 169.43378004,\n",
       "        170.21585084, 173.78008287, 173.78008287, 177.827941  ,\n",
       "        180.7174126 , 184.07720015, 178.64875749, 177.827941  ,\n",
       "        186.20871367, 187.93168168, 165.57699635, 228.0342072 ]),\n",
       " array([151.00801542, 172.5837892 , 176.60378207, 170.6082389 ,\n",
       "        164.43717232, 164.43717232, 164.43717232, 150.66070662,\n",
       "        149.62356561, 151.35612484, 151.00801542, 171.39573075,\n",
       "        150.66070662, 151.00801542, 150.31419661, 152.05475297,\n",
       "        152.05475297, 152.05475297, 150.66070662, 150.66070662,\n",
       "        150.66070662, 151.00801542, 151.00801542, 151.00801542,\n",
       "        151.35612484, 151.70503675, 150.66070662, 149.62356561,\n",
       "        149.96848355, 151.35612484, 151.00801542, 149.96848355,\n",
       "        149.96848355, 150.31419661, 151.00801542, 150.31419661,\n",
       "        151.35612484, 153.46169828, 153.46169828, 153.46169828,\n",
       "        152.40527538, 152.05475297, 152.40527538, 152.75660582,\n",
       "        152.05475297, 152.40527538, 151.35612484, 152.40527538,\n",
       "        153.81546403, 153.10874617, 152.75660582, 153.10874617,\n",
       "        153.81546403, 155.238701  , 155.238701  , 155.238701  ,\n",
       "        153.10874617, 153.46169828, 153.46169828, 153.10874617,\n",
       "        155.59656316, 154.52544395, 154.52544395, 157.03628043,\n",
       "        157.03628043, 157.03628043, 155.238701  , 155.95525028,\n",
       "        155.238701  , 155.59656316, 158.12480393, 155.95525028,\n",
       "        157.76112697, 156.67510701, 162.55487558, 159.58791472,\n",
       "        156.67510701, 156.31476426, 159.22087271, 154.17004529,\n",
       "        159.95580286, 170.6082389 , 162.18100974, 162.55487558,\n",
       "        162.18100974, 179.0605854 , 164.05897732, 166.34126504,\n",
       "        166.72472126, 179.0605854 , 169.04409316, 169.43378004,\n",
       "        170.21585084, 173.78008287, 173.78008287, 177.827941  ,\n",
       "        180.7174126 , 184.07720015, 178.64875749, 177.827941  ,\n",
       "        186.20871367, 187.93168168, 165.57699635, 228.0342072 ]),\n",
       " array([151.00801542, 172.5837892 , 176.60378207, 170.6082389 ,\n",
       "        164.43717232, 164.43717232, 164.43717232, 150.66070662,\n",
       "        149.62356561, 151.35612484, 151.00801542, 171.39573075,\n",
       "        150.66070662, 151.00801542, 150.31419661, 152.05475297,\n",
       "        152.05475297, 152.05475297, 150.66070662, 150.66070662,\n",
       "        150.66070662, 151.00801542, 151.00801542, 151.00801542,\n",
       "        151.35612484, 151.70503675, 150.66070662, 149.62356561,\n",
       "        149.96848355, 151.35612484, 151.00801542, 149.96848355,\n",
       "        149.96848355, 150.31419661, 151.00801542, 150.31419661,\n",
       "        151.35612484, 153.46169828, 153.46169828, 153.46169828,\n",
       "        152.40527538, 152.05475297, 152.40527538, 152.75660582,\n",
       "        152.05475297, 152.40527538, 151.35612484, 152.40527538,\n",
       "        153.81546403, 153.10874617, 152.75660582, 153.10874617,\n",
       "        153.81546403, 155.238701  , 155.238701  , 155.238701  ,\n",
       "        153.10874617, 153.46169828, 153.46169828, 153.10874617,\n",
       "        155.59656316, 154.52544395, 154.52544395, 157.03628043,\n",
       "        157.03628043, 157.03628043, 155.238701  , 155.95525028,\n",
       "        155.238701  , 155.59656316, 158.12480393, 155.95525028,\n",
       "        157.76112697, 156.67510701, 162.55487558, 159.58791472,\n",
       "        156.67510701, 156.31476426, 159.22087271, 154.17004529,\n",
       "        159.95580286, 170.6082389 , 162.18100974, 162.55487558,\n",
       "        162.18100974, 179.0605854 , 164.05897732, 166.34126504,\n",
       "        166.72472126, 179.0605854 , 169.04409316, 169.43378004,\n",
       "        170.21585084, 173.78008287, 173.78008287, 177.827941  ,\n",
       "        180.7174126 , 184.07720015, 178.64875749, 177.827941  ,\n",
       "        186.20871367, 187.93168168, 165.57699635, 228.0342072 ]),\n",
       " array([151.00801542, 172.5837892 , 176.60378207, 170.6082389 ,\n",
       "        164.43717232, 164.43717232, 164.43717232, 150.66070662,\n",
       "        149.62356561, 151.35612484, 151.00801542, 171.39573075,\n",
       "        150.66070662, 151.00801542, 150.31419661, 152.05475297,\n",
       "        152.05475297, 152.05475297, 150.66070662, 150.66070662,\n",
       "        150.66070662, 151.00801542, 151.00801542, 151.00801542,\n",
       "        151.35612484, 151.70503675, 150.66070662, 149.62356561,\n",
       "        149.96848355, 151.35612484, 151.00801542, 149.96848355,\n",
       "        149.96848355, 150.31419661, 151.00801542, 150.31419661,\n",
       "        151.35612484, 153.46169828, 153.46169828, 153.46169828,\n",
       "        152.40527538, 152.05475297, 152.40527538, 152.75660582,\n",
       "        152.05475297, 152.40527538, 151.35612484, 152.40527538,\n",
       "        153.81546403, 153.10874617, 152.75660582, 153.10874617,\n",
       "        153.81546403, 155.238701  , 155.238701  , 155.238701  ,\n",
       "        153.10874617, 153.46169828, 153.46169828, 153.10874617,\n",
       "        155.59656316, 154.52544395, 154.52544395, 157.03628043,\n",
       "        157.03628043, 157.03628043, 155.238701  , 155.95525028,\n",
       "        155.238701  , 155.59656316, 158.12480393, 155.95525028,\n",
       "        157.76112697, 156.67510701, 162.55487558, 159.58791472,\n",
       "        156.67510701, 156.31476426, 159.22087271, 154.17004529,\n",
       "        159.95580286, 170.6082389 , 162.18100974, 162.55487558,\n",
       "        162.18100974, 179.0605854 , 164.05897732, 166.34126504,\n",
       "        166.72472126, 179.0605854 , 169.04409316, 169.43378004,\n",
       "        170.21585084, 173.78008287, 173.78008287, 177.827941  ,\n",
       "        180.7174126 , 184.07720015, 178.64875749, 177.827941  ,\n",
       "        186.20871367, 187.93168168, 165.57699635, 228.0342072 ]),\n",
       " array([151.00801542, 172.5837892 , 176.60378207, 170.6082389 ,\n",
       "        164.43717232, 164.43717232, 164.43717232, 150.66070662,\n",
       "        149.62356561, 151.35612484, 151.00801542, 171.39573075,\n",
       "        150.66070662, 151.00801542, 150.31419661, 152.05475297,\n",
       "        152.05475297, 152.05475297, 150.66070662, 150.66070662,\n",
       "        150.66070662, 151.00801542, 151.00801542, 151.00801542,\n",
       "        151.35612484, 151.70503675, 150.66070662, 149.62356561,\n",
       "        149.96848355, 151.35612484, 151.00801542, 149.96848355,\n",
       "        149.96848355, 150.31419661, 151.00801542, 150.31419661,\n",
       "        151.35612484, 153.46169828, 153.46169828, 153.46169828,\n",
       "        152.40527538, 152.05475297, 152.40527538, 152.75660582,\n",
       "        152.05475297, 152.40527538, 151.35612484, 152.40527538,\n",
       "        153.81546403, 153.10874617, 152.75660582, 153.10874617,\n",
       "        153.81546403, 155.238701  , 155.238701  , 155.238701  ,\n",
       "        153.10874617, 153.46169828, 153.46169828, 153.10874617,\n",
       "        155.59656316, 154.52544395, 154.52544395, 157.03628043,\n",
       "        157.03628043, 157.03628043, 155.238701  , 155.95525028,\n",
       "        155.238701  , 155.59656316, 158.12480393, 155.95525028,\n",
       "        157.76112697, 156.67510701, 162.55487558, 159.58791472,\n",
       "        156.67510701, 156.31476426, 159.22087271, 154.17004529,\n",
       "        159.95580286, 170.6082389 , 162.18100974, 162.55487558,\n",
       "        162.18100974, 179.0605854 , 164.05897732, 166.34126504,\n",
       "        166.72472126, 179.0605854 , 169.04409316, 169.43378004,\n",
       "        170.21585084, 173.78008287, 173.78008287, 177.827941  ,\n",
       "        180.7174126 , 184.07720015, 178.64875749, 177.827941  ,\n",
       "        186.20871367, 187.93168168, 165.57699635, 228.0342072 ]),\n",
       " array([151.00801542, 172.5837892 , 176.60378207, 170.6082389 ,\n",
       "        164.43717232, 164.43717232, 164.43717232, 150.66070662,\n",
       "        149.62356561, 151.35612484, 151.00801542, 171.39573075,\n",
       "        150.66070662, 151.00801542, 150.31419661, 152.05475297,\n",
       "        152.05475297, 152.05475297, 150.66070662, 150.66070662,\n",
       "        150.66070662, 151.00801542, 151.00801542, 151.00801542,\n",
       "        151.35612484, 151.70503675, 150.66070662, 149.62356561,\n",
       "        149.96848355, 151.35612484, 151.00801542, 149.96848355,\n",
       "        149.96848355, 150.31419661, 151.00801542, 150.31419661,\n",
       "        151.35612484, 153.46169828, 153.46169828, 153.46169828,\n",
       "        152.40527538, 152.05475297, 152.40527538, 152.75660582,\n",
       "        152.05475297, 152.40527538, 151.35612484, 152.40527538,\n",
       "        153.81546403, 153.10874617, 152.75660582, 153.10874617,\n",
       "        153.81546403, 155.238701  , 155.238701  , 155.238701  ,\n",
       "        153.10874617, 153.46169828, 153.46169828, 153.10874617,\n",
       "        155.59656316, 154.52544395, 154.52544395, 157.03628043,\n",
       "        157.03628043, 157.03628043, 155.238701  , 155.95525028,\n",
       "        155.238701  , 155.59656316, 158.12480393, 155.95525028,\n",
       "        157.76112697, 156.67510701, 162.55487558, 159.58791472,\n",
       "        156.67510701, 156.31476426, 159.22087271, 154.17004529,\n",
       "        159.95580286, 170.6082389 , 162.18100974, 162.55487558,\n",
       "        162.18100974, 179.0605854 , 164.05897732, 166.34126504,\n",
       "        166.72472126, 179.0605854 , 169.04409316, 169.43378004,\n",
       "        170.21585084, 173.78008287, 173.78008287, 177.827941  ,\n",
       "        180.7174126 , 184.07720015, 178.64875749, 177.827941  ,\n",
       "        186.20871367, 187.93168168, 165.57699635, 228.0342072 ]),\n",
       " array([151.00801542, 172.5837892 , 176.60378207, 170.6082389 ,\n",
       "        164.43717232, 164.43717232, 164.43717232, 150.66070662,\n",
       "        149.62356561, 151.35612484, 151.00801542, 171.39573075,\n",
       "        150.66070662, 151.00801542, 150.31419661, 152.05475297,\n",
       "        152.05475297, 152.05475297, 150.66070662, 150.66070662,\n",
       "        150.66070662, 151.00801542, 151.00801542, 151.00801542,\n",
       "        151.35612484, 151.70503675, 150.66070662, 149.62356561,\n",
       "        149.96848355, 151.35612484, 151.00801542, 149.96848355,\n",
       "        149.96848355, 150.31419661, 151.00801542, 150.31419661,\n",
       "        151.35612484, 153.46169828, 153.46169828, 153.46169828,\n",
       "        152.40527538, 152.05475297, 152.40527538, 152.75660582,\n",
       "        152.05475297, 152.40527538, 151.35612484, 152.40527538,\n",
       "        153.81546403, 153.10874617, 152.75660582, 153.10874617,\n",
       "        153.81546403, 155.238701  , 155.238701  , 155.238701  ,\n",
       "        153.10874617, 153.46169828, 153.46169828, 153.10874617,\n",
       "        155.59656316, 154.52544395, 154.52544395, 157.03628043,\n",
       "        157.03628043, 157.03628043, 155.238701  , 155.95525028,\n",
       "        155.238701  , 155.59656316, 158.12480393, 155.95525028,\n",
       "        157.76112697, 156.67510701, 162.55487558, 159.58791472,\n",
       "        156.67510701, 156.31476426, 159.22087271, 154.17004529,\n",
       "        159.95580286, 170.6082389 , 162.18100974, 162.55487558,\n",
       "        162.18100974, 179.0605854 , 164.05897732, 166.34126504,\n",
       "        166.72472126, 179.0605854 , 169.04409316, 169.43378004,\n",
       "        170.21585084, 173.78008287, 173.78008287, 177.827941  ,\n",
       "        180.7174126 , 184.07720015, 178.64875749, 177.827941  ,\n",
       "        186.20871367, 187.93168168, 165.57699635, 228.0342072 ]),\n",
       " array([151.00801542, 172.5837892 , 176.60378207, 170.6082389 ,\n",
       "        164.43717232, 164.43717232, 164.43717232, 150.66070662,\n",
       "        149.62356561, 151.35612484, 151.00801542, 171.39573075,\n",
       "        150.66070662, 151.00801542, 150.31419661, 152.05475297,\n",
       "        152.05475297, 152.05475297, 150.66070662, 150.66070662,\n",
       "        150.66070662, 151.00801542, 151.00801542, 151.00801542,\n",
       "        151.35612484, 151.70503675, 150.66070662, 149.62356561,\n",
       "        149.96848355, 151.35612484, 151.00801542, 149.96848355,\n",
       "        149.96848355, 150.31419661, 151.00801542, 150.31419661,\n",
       "        151.35612484, 153.46169828, 153.46169828, 153.46169828,\n",
       "        152.40527538, 152.05475297, 152.40527538, 152.75660582,\n",
       "        152.05475297, 152.40527538, 151.35612484, 152.40527538,\n",
       "        153.81546403, 153.10874617, 152.75660582, 153.10874617,\n",
       "        153.81546403, 155.238701  , 155.238701  , 155.238701  ,\n",
       "        153.10874617, 153.46169828, 153.46169828, 153.10874617,\n",
       "        155.59656316, 154.52544395, 154.52544395, 157.03628043,\n",
       "        157.03628043, 157.03628043, 155.238701  , 155.95525028,\n",
       "        155.238701  , 155.59656316, 158.12480393, 155.95525028,\n",
       "        157.76112697, 156.67510701, 162.55487558, 159.58791472,\n",
       "        156.67510701, 156.31476426, 159.22087271, 154.17004529,\n",
       "        159.95580286, 170.6082389 , 162.18100974, 162.55487558,\n",
       "        162.18100974, 179.0605854 , 164.05897732, 166.34126504,\n",
       "        166.72472126, 179.0605854 , 169.04409316, 169.43378004,\n",
       "        170.21585084, 173.78008287, 173.78008287, 177.827941  ,\n",
       "        180.7174126 , 184.07720015, 178.64875749, 177.827941  ,\n",
       "        186.20871367, 187.93168168, 165.57699635, 228.0342072 ]),\n",
       " array([151.00801542, 172.5837892 , 176.60378207, 170.6082389 ,\n",
       "        164.43717232, 164.43717232, 164.43717232, 150.66070662,\n",
       "        149.62356561, 151.35612484, 151.00801542, 171.39573075,\n",
       "        150.66070662, 151.00801542, 150.31419661, 152.05475297,\n",
       "        152.05475297, 152.05475297, 150.66070662, 150.66070662,\n",
       "        150.66070662, 151.00801542, 151.00801542, 151.00801542,\n",
       "        151.35612484, 151.70503675, 150.66070662, 149.62356561,\n",
       "        149.96848355, 151.35612484, 151.00801542, 149.96848355,\n",
       "        149.96848355, 150.31419661, 151.00801542, 150.31419661,\n",
       "        151.35612484, 153.46169828, 153.46169828, 153.46169828,\n",
       "        152.40527538, 152.05475297, 152.40527538, 152.75660582,\n",
       "        152.05475297, 152.40527538, 151.35612484, 152.40527538,\n",
       "        153.81546403, 153.10874617, 152.75660582, 153.10874617,\n",
       "        153.81546403, 155.238701  , 155.238701  , 155.238701  ,\n",
       "        153.10874617, 153.46169828, 153.46169828, 153.10874617,\n",
       "        155.59656316, 154.52544395, 154.52544395, 157.03628043,\n",
       "        157.03628043, 157.03628043, 155.238701  , 155.95525028,\n",
       "        155.238701  , 155.59656316, 158.12480393, 155.95525028,\n",
       "        157.76112697, 156.67510701, 162.55487558, 159.58791472,\n",
       "        156.67510701, 156.31476426, 159.22087271, 154.17004529,\n",
       "        159.95580286, 170.6082389 , 162.18100974, 162.55487558,\n",
       "        162.18100974, 179.0605854 , 164.05897732, 166.34126504,\n",
       "        166.72472126, 179.0605854 , 169.04409316, 169.43378004,\n",
       "        170.21585084, 173.78008287, 173.78008287, 177.827941  ,\n",
       "        180.7174126 , 184.07720015, 178.64875749, 177.827941  ,\n",
       "        186.20871367, 187.93168168, 165.57699635, 228.0342072 ]),\n",
       " array([151.00801542, 172.5837892 , 176.60378207, 170.6082389 ,\n",
       "        164.43717232, 164.43717232, 164.43717232, 150.66070662,\n",
       "        149.62356561, 151.35612484, 151.00801542, 171.39573075,\n",
       "        150.66070662, 151.00801542, 150.31419661, 152.05475297,\n",
       "        152.05475297, 152.05475297, 150.66070662, 150.66070662,\n",
       "        150.66070662, 151.00801542, 151.00801542, 151.00801542,\n",
       "        151.35612484, 151.70503675, 150.66070662, 149.62356561,\n",
       "        149.96848355, 151.35612484, 151.00801542, 149.96848355,\n",
       "        149.96848355, 150.31419661, 151.00801542, 150.31419661,\n",
       "        151.35612484, 153.46169828, 153.46169828, 153.46169828,\n",
       "        152.40527538, 152.05475297, 152.40527538, 152.75660582,\n",
       "        152.05475297, 152.40527538, 151.35612484, 152.40527538,\n",
       "        153.81546403, 153.10874617, 152.75660582, 153.10874617,\n",
       "        153.81546403, 155.238701  , 155.238701  , 155.238701  ,\n",
       "        153.10874617, 153.46169828, 153.46169828, 153.10874617,\n",
       "        155.59656316, 154.52544395, 154.52544395, 157.03628043,\n",
       "        157.03628043, 157.03628043, 155.238701  , 155.95525028,\n",
       "        155.238701  , 155.59656316, 158.12480393, 155.95525028,\n",
       "        157.76112697, 156.67510701, 162.55487558, 159.58791472,\n",
       "        156.67510701, 156.31476426, 159.22087271, 154.17004529,\n",
       "        159.95580286, 170.6082389 , 162.18100974, 162.55487558,\n",
       "        162.18100974, 179.0605854 , 164.05897732, 166.34126504,\n",
       "        166.72472126, 179.0605854 , 169.04409316, 169.43378004,\n",
       "        170.21585084, 173.78008287, 173.78008287, 177.827941  ,\n",
       "        180.7174126 , 184.07720015, 178.64875749, 177.827941  ,\n",
       "        186.20871367, 187.93168168, 165.57699635, 228.0342072 ]),\n",
       " array([151.00801542, 172.5837892 , 176.60378207, 170.6082389 ,\n",
       "        164.43717232, 164.43717232, 164.43717232, 150.66070662,\n",
       "        149.62356561, 151.35612484, 151.00801542, 171.39573075,\n",
       "        150.66070662, 151.00801542, 150.31419661, 152.05475297,\n",
       "        152.05475297, 152.05475297, 150.66070662, 150.66070662,\n",
       "        150.66070662, 151.00801542, 151.00801542, 151.00801542,\n",
       "        151.35612484, 151.70503675, 150.66070662, 149.62356561,\n",
       "        149.96848355, 151.35612484, 151.00801542, 149.96848355,\n",
       "        149.96848355, 150.31419661, 151.00801542, 150.31419661,\n",
       "        151.35612484, 153.46169828, 153.46169828, 153.46169828,\n",
       "        152.40527538, 152.05475297, 152.40527538, 152.75660582,\n",
       "        152.05475297, 152.40527538, 151.35612484, 152.40527538,\n",
       "        153.81546403, 153.10874617, 152.75660582, 153.10874617,\n",
       "        153.81546403, 155.238701  , 155.238701  , 155.238701  ,\n",
       "        153.10874617, 153.46169828, 153.46169828, 153.10874617,\n",
       "        155.59656316, 154.52544395, 154.52544395, 157.03628043,\n",
       "        157.03628043, 157.03628043, 155.238701  , 155.95525028,\n",
       "        155.238701  , 155.59656316, 158.12480393, 155.95525028,\n",
       "        157.76112697, 156.67510701, 162.55487558, 159.58791472,\n",
       "        156.67510701, 156.31476426, 159.22087271, 154.17004529,\n",
       "        159.95580286, 170.6082389 , 162.18100974, 162.55487558,\n",
       "        162.18100974, 179.0605854 , 164.05897732, 166.34126504,\n",
       "        166.72472126, 179.0605854 , 169.04409316, 169.43378004,\n",
       "        170.21585084, 173.78008287, 173.78008287, 177.827941  ,\n",
       "        180.7174126 , 184.07720015, 178.64875749, 177.827941  ,\n",
       "        186.20871367, 187.93168168, 165.57699635, 228.0342072 ]),\n",
       " array([151.00801542, 172.5837892 , 176.60378207, 170.6082389 ,\n",
       "        164.43717232, 164.43717232, 164.43717232, 150.66070662,\n",
       "        149.62356561, 151.35612484, 151.00801542, 171.39573075,\n",
       "        150.66070662, 151.00801542, 150.31419661, 152.05475297,\n",
       "        152.05475297, 152.05475297, 150.66070662, 150.66070662,\n",
       "        150.66070662, 151.00801542, 151.00801542, 151.00801542,\n",
       "        151.35612484, 151.70503675, 150.66070662, 149.62356561,\n",
       "        149.96848355, 151.35612484, 151.00801542, 149.96848355,\n",
       "        149.96848355, 150.31419661, 151.00801542, 150.31419661,\n",
       "        151.35612484, 153.46169828, 153.46169828, 153.46169828,\n",
       "        152.40527538, 152.05475297, 152.40527538, 152.75660582,\n",
       "        152.05475297, 152.40527538, 151.35612484, 152.40527538,\n",
       "        153.81546403, 153.10874617, 152.75660582, 153.10874617,\n",
       "        153.81546403, 155.238701  , 155.238701  , 155.238701  ,\n",
       "        153.10874617, 153.46169828, 153.46169828, 153.10874617,\n",
       "        155.59656316, 154.52544395, 154.52544395, 157.03628043,\n",
       "        157.03628043, 157.03628043, 155.238701  , 155.95525028,\n",
       "        155.238701  , 155.59656316, 158.12480393, 155.95525028,\n",
       "        157.76112697, 156.67510701, 162.55487558, 159.58791472,\n",
       "        156.67510701, 156.31476426, 159.22087271, 154.17004529,\n",
       "        159.95580286, 170.6082389 , 162.18100974, 162.55487558,\n",
       "        162.18100974, 179.0605854 , 164.05897732, 166.34126504,\n",
       "        166.72472126, 179.0605854 , 169.04409316, 169.43378004,\n",
       "        170.21585084, 173.78008287, 173.78008287, 177.827941  ,\n",
       "        180.7174126 , 184.07720015, 178.64875749, 177.827941  ,\n",
       "        186.20871367, 187.93168168, 165.57699635, 228.0342072 ]),\n",
       " array([151.00801542, 172.5837892 , 176.60378207, 170.6082389 ,\n",
       "        164.43717232, 164.43717232, 164.43717232, 150.66070662,\n",
       "        149.62356561, 151.35612484, 151.00801542, 171.39573075,\n",
       "        150.66070662, 151.00801542, 150.31419661, 152.05475297,\n",
       "        152.05475297, 152.05475297, 150.66070662, 150.66070662,\n",
       "        150.66070662, 151.00801542, 151.00801542, 151.00801542,\n",
       "        151.35612484, 151.70503675, 150.66070662, 149.62356561,\n",
       "        149.96848355, 151.35612484, 151.00801542, 149.96848355,\n",
       "        149.96848355, 150.31419661, 151.00801542, 150.31419661,\n",
       "        151.35612484, 153.46169828, 153.46169828, 153.46169828,\n",
       "        152.40527538, 152.05475297, 152.40527538, 152.75660582,\n",
       "        152.05475297, 152.40527538, 151.35612484, 152.40527538,\n",
       "        153.81546403, 153.10874617, 152.75660582, 153.10874617,\n",
       "        153.81546403, 155.238701  , 155.238701  , 155.238701  ,\n",
       "        153.10874617, 153.46169828, 153.46169828, 153.10874617,\n",
       "        155.59656316, 154.52544395, 154.52544395, 157.03628043,\n",
       "        157.03628043, 157.03628043, 155.238701  , 155.95525028,\n",
       "        155.238701  , 155.59656316, 158.12480393, 155.95525028,\n",
       "        157.76112697, 156.67510701, 162.55487558, 159.58791472,\n",
       "        156.67510701, 156.31476426, 159.22087271, 154.17004529,\n",
       "        159.95580286, 170.6082389 , 162.18100974, 162.55487558,\n",
       "        162.18100974, 179.0605854 , 164.05897732, 166.34126504,\n",
       "        166.72472126, 179.0605854 , 169.04409316, 169.43378004,\n",
       "        170.21585084, 173.78008287, 173.78008287, 177.827941  ,\n",
       "        180.7174126 , 184.07720015, 178.64875749, 177.827941  ,\n",
       "        186.20871367, 187.93168168, 165.57699635, 228.0342072 ]),\n",
       " array([151.00801542, 172.5837892 , 176.60378207, 170.6082389 ,\n",
       "        164.43717232, 164.43717232, 164.43717232, 150.66070662,\n",
       "        149.62356561, 151.35612484, 151.00801542, 171.39573075,\n",
       "        150.66070662, 151.00801542, 150.31419661, 152.05475297,\n",
       "        152.05475297, 152.05475297, 150.66070662, 150.66070662,\n",
       "        150.66070662, 151.00801542, 151.00801542, 151.00801542,\n",
       "        151.35612484, 151.70503675, 150.66070662, 149.62356561,\n",
       "        149.96848355, 151.35612484, 151.00801542, 149.96848355,\n",
       "        149.96848355, 150.31419661, 151.00801542, 150.31419661,\n",
       "        151.35612484, 153.46169828, 153.46169828, 153.46169828,\n",
       "        152.40527538, 152.05475297, 152.40527538, 152.75660582,\n",
       "        152.05475297, 152.40527538, 151.35612484, 152.40527538,\n",
       "        153.81546403, 153.10874617, 152.75660582, 153.10874617,\n",
       "        153.81546403, 155.238701  , 155.238701  , 155.238701  ,\n",
       "        153.10874617, 153.46169828, 153.46169828, 153.10874617,\n",
       "        155.59656316, 154.52544395, 154.52544395, 157.03628043,\n",
       "        157.03628043, 157.03628043, 155.238701  , 155.95525028,\n",
       "        155.238701  , 155.59656316, 158.12480393, 155.95525028,\n",
       "        157.76112697, 156.67510701, 162.55487558, 159.58791472,\n",
       "        156.67510701, 156.31476426, 159.22087271, 154.17004529,\n",
       "        159.95580286, 170.6082389 , 162.18100974, 162.55487558,\n",
       "        162.18100974, 179.0605854 , 164.05897732, 166.34126504,\n",
       "        166.72472126, 179.0605854 , 169.04409316, 169.43378004,\n",
       "        170.21585084, 173.78008287, 173.78008287, 177.827941  ,\n",
       "        180.7174126 , 184.07720015, 178.64875749, 177.827941  ,\n",
       "        186.20871367, 187.93168168, 165.57699635, 228.0342072 ]),\n",
       " array([151.00801542, 172.5837892 , 176.60378207, 170.6082389 ,\n",
       "        164.43717232, 164.43717232, 164.43717232, 150.66070662,\n",
       "        149.62356561, 151.35612484, 151.00801542, 171.39573075,\n",
       "        150.66070662, 151.00801542, 150.31419661, 152.05475297,\n",
       "        152.05475297, 152.05475297, 150.66070662, 150.66070662,\n",
       "        150.66070662, 151.00801542, 151.00801542, 151.00801542,\n",
       "        151.35612484, 151.70503675, 150.66070662, 149.62356561,\n",
       "        149.96848355, 151.35612484, 151.00801542, 149.96848355,\n",
       "        149.96848355, 150.31419661, 151.00801542, 150.31419661,\n",
       "        151.35612484, 153.46169828, 153.46169828, 153.46169828,\n",
       "        152.40527538, 152.05475297, 152.40527538, 152.75660582,\n",
       "        152.05475297, 152.40527538, 151.35612484, 152.40527538,\n",
       "        153.81546403, 153.10874617, 152.75660582, 153.10874617,\n",
       "        153.81546403, 155.238701  , 155.238701  , 155.238701  ,\n",
       "        153.10874617, 153.46169828, 153.46169828, 153.10874617,\n",
       "        155.59656316, 154.52544395, 154.52544395, 157.03628043,\n",
       "        157.03628043, 157.03628043, 155.238701  , 155.95525028,\n",
       "        155.238701  , 155.59656316, 158.12480393, 155.95525028,\n",
       "        157.76112697, 156.67510701, 162.55487558, 159.58791472,\n",
       "        156.67510701, 156.31476426, 159.22087271, 154.17004529,\n",
       "        159.95580286, 170.6082389 , 162.18100974, 162.55487558,\n",
       "        162.18100974, 179.0605854 , 164.05897732, 166.34126504,\n",
       "        166.72472126, 179.0605854 , 169.04409316, 169.43378004,\n",
       "        170.21585084, 173.78008287, 173.78008287, 177.827941  ,\n",
       "        180.7174126 , 184.07720015, 178.64875749, 177.827941  ,\n",
       "        186.20871367, 187.93168168, 165.57699635, 228.0342072 ]),\n",
       " array([151.00801542, 172.5837892 , 176.60378207, 170.6082389 ,\n",
       "        164.43717232, 164.43717232, 164.43717232, 150.66070662,\n",
       "        149.62356561, 151.35612484, 151.00801542, 171.39573075,\n",
       "        150.66070662, 151.00801542, 150.31419661, 152.05475297,\n",
       "        152.05475297, 152.05475297, 150.66070662, 150.66070662,\n",
       "        150.66070662, 151.00801542, 151.00801542, 151.00801542,\n",
       "        151.35612484, 151.70503675, 150.66070662, 149.62356561,\n",
       "        149.96848355, 151.35612484, 151.00801542, 149.96848355,\n",
       "        149.96848355, 150.31419661, 151.00801542, 150.31419661,\n",
       "        151.35612484, 153.46169828, 153.46169828, 153.46169828,\n",
       "        152.40527538, 152.05475297, 152.40527538, 152.75660582,\n",
       "        152.05475297, 152.40527538, 151.35612484, 152.40527538,\n",
       "        153.81546403, 153.10874617, 152.75660582, 153.10874617,\n",
       "        153.81546403, 155.238701  , 155.238701  , 155.238701  ,\n",
       "        153.10874617, 153.46169828, 153.46169828, 153.10874617,\n",
       "        155.59656316, 154.52544395, 154.52544395, 157.03628043,\n",
       "        157.03628043, 157.03628043, 155.238701  , 155.95525028,\n",
       "        155.238701  , 155.59656316, 158.12480393, 155.95525028,\n",
       "        157.76112697, 156.67510701, 162.55487558, 159.58791472,\n",
       "        156.67510701, 156.31476426, 159.22087271, 154.17004529,\n",
       "        159.95580286, 170.6082389 , 162.18100974, 162.55487558,\n",
       "        162.18100974, 179.0605854 , 164.05897732, 166.34126504,\n",
       "        166.72472126, 179.0605854 , 169.04409316, 169.43378004,\n",
       "        170.21585084, 173.78008287, 173.78008287, 177.827941  ,\n",
       "        180.7174126 , 184.07720015, 178.64875749, 177.827941  ,\n",
       "        186.20871367, 187.93168168, 165.57699635, 228.0342072 ]),\n",
       " array([151.00801542, 172.5837892 , 176.60378207, 170.6082389 ,\n",
       "        164.43717232, 164.43717232, 164.43717232, 150.66070662,\n",
       "        149.62356561, 151.35612484, 151.00801542, 171.39573075,\n",
       "        150.66070662, 151.00801542, 150.31419661, 152.05475297,\n",
       "        152.05475297, 152.05475297, 150.66070662, 150.66070662,\n",
       "        150.66070662, 151.00801542, 151.00801542, 151.00801542,\n",
       "        151.35612484, 151.70503675, 150.66070662, 149.62356561,\n",
       "        149.96848355, 151.35612484, 151.00801542, 149.96848355,\n",
       "        149.96848355, 150.31419661, 151.00801542, 150.31419661,\n",
       "        151.35612484, 153.46169828, 153.46169828, 153.46169828,\n",
       "        152.40527538, 152.05475297, 152.40527538, 152.75660582,\n",
       "        152.05475297, 152.40527538, 151.35612484, 152.40527538,\n",
       "        153.81546403, 153.10874617, 152.75660582, 153.10874617,\n",
       "        153.81546403, 155.238701  , 155.238701  , 155.238701  ,\n",
       "        153.10874617, 153.46169828, 153.46169828, 153.10874617,\n",
       "        155.59656316, 154.52544395, 154.52544395, 157.03628043,\n",
       "        157.03628043, 157.03628043, 155.238701  , 155.95525028,\n",
       "        155.238701  , 155.59656316, 158.12480393, 155.95525028,\n",
       "        157.76112697, 156.67510701, 162.55487558, 159.58791472,\n",
       "        156.67510701, 156.31476426, 159.22087271, 154.17004529,\n",
       "        159.95580286, 170.6082389 , 162.18100974, 162.55487558,\n",
       "        162.18100974, 179.0605854 , 164.05897732, 166.34126504,\n",
       "        166.72472126, 179.0605854 , 169.04409316, 169.43378004,\n",
       "        170.21585084, 173.78008287, 173.78008287, 177.827941  ,\n",
       "        180.7174126 , 184.07720015, 178.64875749, 177.827941  ,\n",
       "        186.20871367, 187.93168168, 165.57699635, 228.0342072 ]),\n",
       " array([151.00801542, 172.5837892 , 176.60378207, 170.6082389 ,\n",
       "        164.43717232, 164.43717232, 164.43717232, 150.66070662,\n",
       "        149.62356561, 151.35612484, 151.00801542, 171.39573075,\n",
       "        150.66070662, 151.00801542, 150.31419661, 152.05475297,\n",
       "        152.05475297, 152.05475297, 150.66070662, 150.66070662,\n",
       "        150.66070662, 151.00801542, 151.00801542, 151.00801542,\n",
       "        151.35612484, 151.70503675, 150.66070662, 149.62356561,\n",
       "        149.96848355, 151.35612484, 151.00801542, 149.96848355,\n",
       "        149.96848355, 150.31419661, 151.00801542, 150.31419661,\n",
       "        151.35612484, 153.46169828, 153.46169828, 153.46169828,\n",
       "        152.40527538, 152.05475297, 152.40527538, 152.75660582,\n",
       "        152.05475297, 152.40527538, 151.35612484, 152.40527538,\n",
       "        153.81546403, 153.10874617, 152.75660582, 153.10874617,\n",
       "        153.81546403, 155.238701  , 155.238701  , 155.238701  ,\n",
       "        153.10874617, 153.46169828, 153.46169828, 153.10874617,\n",
       "        155.59656316, 154.52544395, 154.52544395, 157.03628043,\n",
       "        157.03628043, 157.03628043, 155.238701  , 155.95525028,\n",
       "        155.238701  , 155.59656316, 158.12480393, 155.95525028,\n",
       "        157.76112697, 156.67510701, 162.55487558, 159.58791472,\n",
       "        156.67510701, 156.31476426, 159.22087271, 154.17004529,\n",
       "        159.95580286, 170.6082389 , 162.18100974, 162.55487558,\n",
       "        162.18100974, 179.0605854 , 164.05897732, 166.34126504,\n",
       "        166.72472126, 179.0605854 , 169.04409316, 169.43378004,\n",
       "        170.21585084, 173.78008287, 173.78008287, 177.827941  ,\n",
       "        180.7174126 , 184.07720015, 178.64875749, 177.827941  ,\n",
       "        186.20871367, 187.93168168, 165.57699635, 228.0342072 ]),\n",
       " array([151.00801542, 172.5837892 , 176.60378207, 170.6082389 ,\n",
       "        164.43717232, 164.43717232, 164.43717232, 150.66070662,\n",
       "        149.62356561, 151.35612484, 151.00801542, 171.39573075,\n",
       "        150.66070662, 151.00801542, 150.31419661, 152.05475297,\n",
       "        152.05475297, 152.05475297, 150.66070662, 150.66070662,\n",
       "        150.66070662, 151.00801542, 151.00801542, 151.00801542,\n",
       "        151.35612484, 151.70503675, 150.66070662, 149.62356561,\n",
       "        149.96848355, 151.35612484, 151.00801542, 149.96848355,\n",
       "        149.96848355, 150.31419661, 151.00801542, 150.31419661,\n",
       "        151.35612484, 153.46169828, 153.46169828, 153.46169828,\n",
       "        152.40527538, 152.05475297, 152.40527538, 152.75660582,\n",
       "        152.05475297, 152.40527538, 151.35612484, 152.40527538,\n",
       "        153.81546403, 153.10874617, 152.75660582, 153.10874617,\n",
       "        153.81546403, 155.238701  , 155.238701  , 155.238701  ,\n",
       "        153.10874617, 153.46169828, 153.46169828, 153.10874617,\n",
       "        155.59656316, 154.52544395, 154.52544395, 157.03628043,\n",
       "        157.03628043, 157.03628043, 155.238701  , 155.95525028,\n",
       "        155.238701  , 155.59656316, 158.12480393, 155.95525028,\n",
       "        157.76112697, 156.67510701, 162.55487558, 159.58791472,\n",
       "        156.67510701, 156.31476426, 159.22087271, 154.17004529,\n",
       "        159.95580286, 170.6082389 , 162.18100974, 162.55487558,\n",
       "        162.18100974, 179.0605854 , 164.05897732, 166.34126504,\n",
       "        166.72472126, 179.0605854 , 169.04409316, 169.43378004,\n",
       "        170.21585084, 173.78008287, 173.78008287, 177.827941  ,\n",
       "        180.7174126 , 184.07720015, 178.64875749, 177.827941  ,\n",
       "        186.20871367, 187.93168168, 165.57699635, 228.0342072 ]),\n",
       " array([151.00801542, 172.5837892 , 176.60378207, 170.6082389 ,\n",
       "        164.43717232, 164.43717232, 164.43717232, 150.66070662,\n",
       "        149.62356561, 151.35612484, 151.00801542, 171.39573075,\n",
       "        150.66070662, 151.00801542, 150.31419661, 152.05475297,\n",
       "        152.05475297, 152.05475297, 150.66070662, 150.66070662,\n",
       "        150.66070662, 151.00801542, 151.00801542, 151.00801542,\n",
       "        151.35612484, 151.70503675, 150.66070662, 149.62356561,\n",
       "        149.96848355, 151.35612484, 151.00801542, 149.96848355,\n",
       "        149.96848355, 150.31419661, 151.00801542, 150.31419661,\n",
       "        151.35612484, 153.46169828, 153.46169828, 153.46169828,\n",
       "        152.40527538, 152.05475297, 152.40527538, 152.75660582,\n",
       "        152.05475297, 152.40527538, 151.35612484, 152.40527538,\n",
       "        153.81546403, 153.10874617, 152.75660582, 153.10874617,\n",
       "        153.81546403, 155.238701  , 155.238701  , 155.238701  ,\n",
       "        153.10874617, 153.46169828, 153.46169828, 153.10874617,\n",
       "        155.59656316, 154.52544395, 154.52544395, 157.03628043,\n",
       "        157.03628043, 157.03628043, 155.238701  , 155.95525028,\n",
       "        155.238701  , 155.59656316, 158.12480393, 155.95525028,\n",
       "        157.76112697, 156.67510701, 162.55487558, 159.58791472,\n",
       "        156.67510701, 156.31476426, 159.22087271, 154.17004529,\n",
       "        159.95580286, 170.6082389 , 162.18100974, 162.55487558,\n",
       "        162.18100974, 179.0605854 , 164.05897732, 166.34126504,\n",
       "        166.72472126, 179.0605854 , 169.04409316, 169.43378004,\n",
       "        170.21585084, 173.78008287, 173.78008287, 177.827941  ,\n",
       "        180.7174126 , 184.07720015, 178.64875749, 177.827941  ,\n",
       "        186.20871367, 187.93168168, 165.57699635, 228.0342072 ]),\n",
       " array([151.00801542, 172.5837892 , 176.60378207, 170.6082389 ,\n",
       "        164.43717232, 164.43717232, 164.43717232, 150.66070662,\n",
       "        149.62356561, 151.35612484, 151.00801542, 171.39573075,\n",
       "        150.66070662, 151.00801542, 150.31419661, 152.05475297,\n",
       "        152.05475297, 152.05475297, 150.66070662, 150.66070662,\n",
       "        150.66070662, 151.00801542, 151.00801542, 151.00801542,\n",
       "        151.35612484, 151.70503675, 150.66070662, 149.62356561,\n",
       "        149.96848355, 151.35612484, 151.00801542, 149.96848355,\n",
       "        149.96848355, 150.31419661, 151.00801542, 150.31419661,\n",
       "        151.35612484, 153.46169828, 153.46169828, 153.46169828,\n",
       "        152.40527538, 152.05475297, 152.40527538, 152.75660582,\n",
       "        152.05475297, 152.40527538, 151.35612484, 152.40527538,\n",
       "        153.81546403, 153.10874617, 152.75660582, 153.10874617,\n",
       "        153.81546403, 155.238701  , 155.238701  , 155.238701  ,\n",
       "        153.10874617, 153.46169828, 153.46169828, 153.10874617,\n",
       "        155.59656316, 154.52544395, 154.52544395, 157.03628043,\n",
       "        157.03628043, 157.03628043, 155.238701  , 155.95525028,\n",
       "        155.238701  , 155.59656316, 158.12480393, 155.95525028,\n",
       "        157.76112697, 156.67510701, 162.55487558, 159.58791472,\n",
       "        156.67510701, 156.31476426, 159.22087271, 154.17004529,\n",
       "        159.95580286, 170.6082389 , 162.18100974, 162.55487558,\n",
       "        162.18100974, 179.0605854 , 164.05897732, 166.34126504,\n",
       "        166.72472126, 179.0605854 , 169.04409316, 169.43378004,\n",
       "        170.21585084, 173.78008287, 173.78008287, 177.827941  ,\n",
       "        180.7174126 , 184.07720015, 178.64875749, 177.827941  ,\n",
       "        186.20871367, 187.93168168, 165.57699635, 228.0342072 ]),\n",
       " array([151.00801542, 172.5837892 , 176.60378207, 170.6082389 ,\n",
       "        164.43717232, 164.43717232, 164.43717232, 150.66070662,\n",
       "        149.62356561, 151.35612484, 151.00801542, 171.39573075,\n",
       "        150.66070662, 151.00801542, 150.31419661, 152.05475297,\n",
       "        152.05475297, 152.05475297, 150.66070662, 150.66070662,\n",
       "        150.66070662, 151.00801542, 151.00801542, 151.00801542,\n",
       "        151.35612484, 151.70503675, 150.66070662, 149.62356561,\n",
       "        149.96848355, 151.35612484, 151.00801542, 149.96848355,\n",
       "        149.96848355, 150.31419661, 151.00801542, 150.31419661,\n",
       "        151.35612484, 153.46169828, 153.46169828, 153.46169828,\n",
       "        152.40527538, 152.05475297, 152.40527538, 152.75660582,\n",
       "        152.05475297, 152.40527538, 151.35612484, 152.40527538,\n",
       "        153.81546403, 153.10874617, 152.75660582, 153.10874617,\n",
       "        153.81546403, 155.238701  , 155.238701  , 155.238701  ,\n",
       "        153.10874617, 153.46169828, 153.46169828, 153.10874617,\n",
       "        155.59656316, 154.52544395, 154.52544395, 157.03628043,\n",
       "        157.03628043, 157.03628043, 155.238701  , 155.95525028,\n",
       "        155.238701  , 155.59656316, 158.12480393, 155.95525028,\n",
       "        157.76112697, 156.67510701, 162.55487558, 159.58791472,\n",
       "        156.67510701, 156.31476426, 159.22087271, 154.17004529,\n",
       "        159.95580286, 170.6082389 , 162.18100974, 162.55487558,\n",
       "        162.18100974, 179.0605854 , 164.05897732, 166.34126504,\n",
       "        166.72472126, 179.0605854 , 169.04409316, 169.43378004,\n",
       "        170.21585084, 173.78008287, 173.78008287, 177.827941  ,\n",
       "        180.7174126 , 184.07720015, 178.64875749, 177.827941  ,\n",
       "        186.20871367, 187.93168168, 165.57699635, 228.0342072 ]),\n",
       " array([151.00801542, 172.5837892 , 176.60378207, 170.6082389 ,\n",
       "        164.43717232, 164.43717232, 164.43717232, 150.66070662,\n",
       "        149.62356561, 151.35612484, 151.00801542, 171.39573075,\n",
       "        150.66070662, 151.00801542, 150.31419661, 152.05475297,\n",
       "        152.05475297, 152.05475297, 150.66070662, 150.66070662,\n",
       "        150.66070662, 151.00801542, 151.00801542, 151.00801542,\n",
       "        151.35612484, 151.70503675, 150.66070662, 149.62356561,\n",
       "        149.96848355, 151.35612484, 151.00801542, 149.96848355,\n",
       "        149.96848355, 150.31419661, 151.00801542, 150.31419661,\n",
       "        151.35612484, 153.46169828, 153.46169828, 153.46169828,\n",
       "        152.40527538, 152.05475297, 152.40527538, 152.75660582,\n",
       "        152.05475297, 152.40527538, 151.35612484, 152.40527538,\n",
       "        153.81546403, 153.10874617, 152.75660582, 153.10874617,\n",
       "        153.81546403, 155.238701  , 155.238701  , 155.238701  ,\n",
       "        153.10874617, 153.46169828, 153.46169828, 153.10874617,\n",
       "        155.59656316, 154.52544395, 154.52544395, 157.03628043,\n",
       "        157.03628043, 157.03628043, 155.238701  , 155.95525028,\n",
       "        155.238701  , 155.59656316, 158.12480393, 155.95525028,\n",
       "        157.76112697, 156.67510701, 162.55487558, 159.58791472,\n",
       "        156.67510701, 156.31476426, 159.22087271, 154.17004529,\n",
       "        159.95580286, 170.6082389 , 162.18100974, 162.55487558,\n",
       "        162.18100974, 179.0605854 , 164.05897732, 166.34126504,\n",
       "        166.72472126, 179.0605854 , 169.04409316, 169.43378004,\n",
       "        170.21585084, 173.78008287, 173.78008287, 177.827941  ,\n",
       "        180.7174126 , 184.07720015, 178.64875749, 177.827941  ,\n",
       "        186.20871367, 187.93168168, 165.57699635, 228.0342072 ]),\n",
       " array([151.00801542, 172.5837892 , 176.60378207, 170.6082389 ,\n",
       "        164.43717232, 164.43717232, 164.43717232, 150.66070662,\n",
       "        149.62356561, 151.35612484, 151.00801542, 171.39573075,\n",
       "        150.66070662, 151.00801542, 150.31419661, 152.05475297,\n",
       "        152.05475297, 152.05475297, 150.66070662, 150.66070662,\n",
       "        150.66070662, 151.00801542, 151.00801542, 151.00801542,\n",
       "        151.35612484, 151.70503675, 150.66070662, 149.62356561,\n",
       "        149.96848355, 151.35612484, 151.00801542, 149.96848355,\n",
       "        149.96848355, 150.31419661, 151.00801542, 150.31419661,\n",
       "        151.35612484, 153.46169828, 153.46169828, 153.46169828,\n",
       "        152.40527538, 152.05475297, 152.40527538, 152.75660582,\n",
       "        152.05475297, 152.40527538, 151.35612484, 152.40527538,\n",
       "        153.81546403, 153.10874617, 152.75660582, 153.10874617,\n",
       "        153.81546403, 155.238701  , 155.238701  , 155.238701  ,\n",
       "        153.10874617, 153.46169828, 153.46169828, 153.10874617,\n",
       "        155.59656316, 154.52544395, 154.52544395, 157.03628043,\n",
       "        157.03628043, 157.03628043, 155.238701  , 155.95525028,\n",
       "        155.238701  , 155.59656316, 158.12480393, 155.95525028,\n",
       "        157.76112697, 156.67510701, 162.55487558, 159.58791472,\n",
       "        156.67510701, 156.31476426, 159.22087271, 154.17004529,\n",
       "        159.95580286, 170.6082389 , 162.18100974, 162.55487558,\n",
       "        162.18100974, 179.0605854 , 164.05897732, 166.34126504,\n",
       "        166.72472126, 179.0605854 , 169.04409316, 169.43378004,\n",
       "        170.21585084, 173.78008287, 173.78008287, 177.827941  ,\n",
       "        180.7174126 , 184.07720015, 178.64875749, 177.827941  ,\n",
       "        186.20871367, 187.93168168, 165.57699635, 228.0342072 ]),\n",
       " array([151.00801542, 172.5837892 , 176.60378207, 170.6082389 ,\n",
       "        164.43717232, 164.43717232, 164.43717232, 150.66070662,\n",
       "        149.62356561, 151.35612484, 151.00801542, 171.39573075,\n",
       "        150.66070662, 151.00801542, 150.31419661, 152.05475297,\n",
       "        152.05475297, 152.05475297, 150.66070662, 150.66070662,\n",
       "        150.66070662, 151.00801542, 151.00801542, 151.00801542,\n",
       "        151.35612484, 151.70503675, 150.66070662, 149.62356561,\n",
       "        149.96848355, 151.35612484, 151.00801542, 149.96848355,\n",
       "        149.96848355, 150.31419661, 151.00801542, 150.31419661,\n",
       "        151.35612484, 153.46169828, 153.46169828, 153.46169828,\n",
       "        152.40527538, 152.05475297, 152.40527538, 152.75660582,\n",
       "        152.05475297, 152.40527538, 151.35612484, 152.40527538,\n",
       "        153.81546403, 153.10874617, 152.75660582, 153.10874617,\n",
       "        153.81546403, 155.238701  , 155.238701  , 155.238701  ,\n",
       "        153.10874617, 153.46169828, 153.46169828, 153.10874617,\n",
       "        155.59656316, 154.52544395, 154.52544395, 157.03628043,\n",
       "        157.03628043, 157.03628043, 155.238701  , 155.95525028,\n",
       "        155.238701  , 155.59656316, 158.12480393, 155.95525028,\n",
       "        157.76112697, 156.67510701, 162.55487558, 159.58791472,\n",
       "        156.67510701, 156.31476426, 159.22087271, 154.17004529,\n",
       "        159.95580286, 170.6082389 , 162.18100974, 162.55487558,\n",
       "        162.18100974, 179.0605854 , 164.05897732, 166.34126504,\n",
       "        166.72472126, 179.0605854 , 169.04409316, 169.43378004,\n",
       "        170.21585084, 173.78008287, 173.78008287, 177.827941  ,\n",
       "        180.7174126 , 184.07720015, 178.64875749, 177.827941  ,\n",
       "        186.20871367, 187.93168168, 165.57699635, 228.0342072 ]),\n",
       " array([151.00801542, 172.5837892 , 176.60378207, 170.6082389 ,\n",
       "        164.43717232, 164.43717232, 164.43717232, 150.66070662,\n",
       "        149.62356561, 151.35612484, 151.00801542, 171.39573075,\n",
       "        150.66070662, 151.00801542, 150.31419661, 152.05475297,\n",
       "        152.05475297, 152.05475297, 150.66070662, 150.66070662,\n",
       "        150.66070662, 151.00801542, 151.00801542, 151.00801542,\n",
       "        151.35612484, 151.70503675, 150.66070662, 149.62356561,\n",
       "        149.96848355, 151.35612484, 151.00801542, 149.96848355,\n",
       "        149.96848355, 150.31419661, 151.00801542, 150.31419661,\n",
       "        151.35612484, 153.46169828, 153.46169828, 153.46169828,\n",
       "        152.40527538, 152.05475297, 152.40527538, 152.75660582,\n",
       "        152.05475297, 152.40527538, 151.35612484, 152.40527538,\n",
       "        153.81546403, 153.10874617, 152.75660582, 153.10874617,\n",
       "        153.81546403, 155.238701  , 155.238701  , 155.238701  ,\n",
       "        153.10874617, 153.46169828, 153.46169828, 153.10874617,\n",
       "        155.59656316, 154.52544395, 154.52544395, 157.03628043,\n",
       "        157.03628043, 157.03628043, 155.238701  , 155.95525028,\n",
       "        155.238701  , 155.59656316, 158.12480393, 155.95525028,\n",
       "        157.76112697, 156.67510701, 162.55487558, 159.58791472,\n",
       "        156.67510701, 156.31476426, 159.22087271, 154.17004529,\n",
       "        159.95580286, 170.6082389 , 162.18100974, 162.55487558,\n",
       "        162.18100974, 179.0605854 , 164.05897732, 166.34126504,\n",
       "        166.72472126, 179.0605854 , 169.04409316, 169.43378004,\n",
       "        170.21585084, 173.78008287, 173.78008287, 177.827941  ,\n",
       "        180.7174126 , 184.07720015, 178.64875749, 177.827941  ,\n",
       "        186.20871367, 187.93168168, 165.57699635, 228.0342072 ]),\n",
       " array([151.00801542, 172.5837892 , 176.60378207, 170.6082389 ,\n",
       "        164.43717232, 164.43717232, 164.43717232, 150.66070662,\n",
       "        149.62356561, 151.35612484, 151.00801542, 171.39573075,\n",
       "        150.66070662, 151.00801542, 150.31419661, 152.05475297,\n",
       "        152.05475297, 152.05475297, 150.66070662, 150.66070662,\n",
       "        150.66070662, 151.00801542, 151.00801542, 151.00801542,\n",
       "        151.35612484, 151.70503675, 150.66070662, 149.62356561,\n",
       "        149.96848355, 151.35612484, 151.00801542, 149.96848355,\n",
       "        149.96848355, 150.31419661, 151.00801542, 150.31419661,\n",
       "        151.35612484, 153.46169828, 153.46169828, 153.46169828,\n",
       "        152.40527538, 152.05475297, 152.40527538, 152.75660582,\n",
       "        152.05475297, 152.40527538, 151.35612484, 152.40527538,\n",
       "        153.81546403, 153.10874617, 152.75660582, 153.10874617,\n",
       "        153.81546403, 155.238701  , 155.238701  , 155.238701  ,\n",
       "        153.10874617, 153.46169828, 153.46169828, 153.10874617,\n",
       "        155.59656316, 154.52544395, 154.52544395, 157.03628043,\n",
       "        157.03628043, 157.03628043, 155.238701  , 155.95525028,\n",
       "        155.238701  , 155.59656316, 158.12480393, 155.95525028,\n",
       "        157.76112697, 156.67510701, 162.55487558, 159.58791472,\n",
       "        156.67510701, 156.31476426, 159.22087271, 154.17004529,\n",
       "        159.95580286, 170.6082389 , 162.18100974, 162.55487558,\n",
       "        162.18100974, 179.0605854 , 164.05897732, 166.34126504,\n",
       "        166.72472126, 179.0605854 , 169.04409316, 169.43378004,\n",
       "        170.21585084, 173.78008287, 173.78008287, 177.827941  ,\n",
       "        180.7174126 , 184.07720015, 178.64875749, 177.827941  ,\n",
       "        186.20871367, 187.93168168, 165.57699635, 228.0342072 ]),\n",
       " array([151.00801542, 172.5837892 , 176.60378207, 170.6082389 ,\n",
       "        164.43717232, 164.43717232, 164.43717232, 150.66070662,\n",
       "        149.62356561, 151.35612484, 151.00801542, 171.39573075,\n",
       "        150.66070662, 151.00801542, 150.31419661, 152.05475297,\n",
       "        152.05475297, 152.05475297, 150.66070662, 150.66070662,\n",
       "        150.66070662, 151.00801542, 151.00801542, 151.00801542,\n",
       "        151.35612484, 151.70503675, 150.66070662, 149.62356561,\n",
       "        149.96848355, 151.35612484, 151.00801542, 149.96848355,\n",
       "        149.96848355, 150.31419661, 151.00801542, 150.31419661,\n",
       "        151.35612484, 153.46169828, 153.46169828, 153.46169828,\n",
       "        152.40527538, 152.05475297, 152.40527538, 152.75660582,\n",
       "        152.05475297, 152.40527538, 151.35612484, 152.40527538,\n",
       "        153.81546403, 153.10874617, 152.75660582, 153.10874617,\n",
       "        153.81546403, 155.238701  , 155.238701  , 155.238701  ,\n",
       "        153.10874617, 153.46169828, 153.46169828, 153.10874617,\n",
       "        155.59656316, 154.52544395, 154.52544395, 157.03628043,\n",
       "        157.03628043, 157.03628043, 155.238701  , 155.95525028,\n",
       "        155.238701  , 155.59656316, 158.12480393, 155.95525028,\n",
       "        157.76112697, 156.67510701, 162.55487558, 159.58791472,\n",
       "        156.67510701, 156.31476426, 159.22087271, 154.17004529,\n",
       "        159.95580286, 170.6082389 , 162.18100974, 162.55487558,\n",
       "        162.18100974, 179.0605854 , 164.05897732, 166.34126504,\n",
       "        166.72472126, 179.0605854 , 169.04409316, 169.43378004,\n",
       "        170.21585084, 173.78008287, 173.78008287, 177.827941  ,\n",
       "        180.7174126 , 184.07720015, 178.64875749, 177.827941  ,\n",
       "        186.20871367, 187.93168168, 165.57699635, 228.0342072 ]),\n",
       " array([151.00801542, 172.5837892 , 176.60378207, 170.6082389 ,\n",
       "        164.43717232, 164.43717232, 164.43717232, 150.66070662,\n",
       "        149.62356561, 151.35612484, 151.00801542, 171.39573075,\n",
       "        150.66070662, 151.00801542, 150.31419661, 152.05475297,\n",
       "        152.05475297, 152.05475297, 150.66070662, 150.66070662,\n",
       "        150.66070662, 151.00801542, 151.00801542, 151.00801542,\n",
       "        151.35612484, 151.70503675, 150.66070662, 149.62356561,\n",
       "        149.96848355, 151.35612484, 151.00801542, 149.96848355,\n",
       "        149.96848355, 150.31419661, 151.00801542, 150.31419661,\n",
       "        151.35612484, 153.46169828, 153.46169828, 153.46169828,\n",
       "        152.40527538, 152.05475297, 152.40527538, 152.75660582,\n",
       "        152.05475297, 152.40527538, 151.35612484, 152.40527538,\n",
       "        153.81546403, 153.10874617, 152.75660582, 153.10874617,\n",
       "        153.81546403, 155.238701  , 155.238701  , 155.238701  ,\n",
       "        153.10874617, 153.46169828, 153.46169828, 153.10874617,\n",
       "        155.59656316, 154.52544395, 154.52544395, 157.03628043,\n",
       "        157.03628043, 157.03628043, 155.238701  , 155.95525028,\n",
       "        155.238701  , 155.59656316, 158.12480393, 155.95525028,\n",
       "        157.76112697, 156.67510701, 162.55487558, 159.58791472,\n",
       "        156.67510701, 156.31476426, 159.22087271, 154.17004529,\n",
       "        159.95580286, 170.6082389 , 162.18100974, 162.55487558,\n",
       "        162.18100974, 179.0605854 , 164.05897732, 166.34126504,\n",
       "        166.72472126, 179.0605854 , 169.04409316, 169.43378004,\n",
       "        170.21585084, 173.78008287, 173.78008287, 177.827941  ,\n",
       "        180.7174126 , 184.07720015, 178.64875749, 177.827941  ,\n",
       "        186.20871367, 187.93168168, 165.57699635, 228.0342072 ]),\n",
       " array([151.00801542, 172.5837892 , 176.60378207, 170.6082389 ,\n",
       "        164.43717232, 164.43717232, 164.43717232, 150.66070662,\n",
       "        149.62356561, 151.35612484, 151.00801542, 171.39573075,\n",
       "        150.66070662, 151.00801542, 150.31419661, 152.05475297,\n",
       "        152.05475297, 152.05475297, 150.66070662, 150.66070662,\n",
       "        150.66070662, 151.00801542, 151.00801542, 151.00801542,\n",
       "        151.35612484, 151.70503675, 150.66070662, 149.62356561,\n",
       "        149.96848355, 151.35612484, 151.00801542, 149.96848355,\n",
       "        149.96848355, 150.31419661, 151.00801542, 150.31419661,\n",
       "        151.35612484, 153.46169828, 153.46169828, 153.46169828,\n",
       "        152.40527538, 152.05475297, 152.40527538, 152.75660582,\n",
       "        152.05475297, 152.40527538, 151.35612484, 152.40527538,\n",
       "        153.81546403, 153.10874617, 152.75660582, 153.10874617,\n",
       "        153.81546403, 155.238701  , 155.238701  , 155.238701  ,\n",
       "        153.10874617, 153.46169828, 153.46169828, 153.10874617,\n",
       "        155.59656316, 154.52544395, 154.52544395, 157.03628043,\n",
       "        157.03628043, 157.03628043, 155.238701  , 155.95525028,\n",
       "        155.238701  , 155.59656316, 158.12480393, 155.95525028,\n",
       "        157.76112697, 156.67510701, 162.55487558, 159.58791472,\n",
       "        156.67510701, 156.31476426, 159.22087271, 154.17004529,\n",
       "        159.95580286, 170.6082389 , 162.18100974, 162.55487558,\n",
       "        162.18100974, 179.0605854 , 164.05897732, 166.34126504,\n",
       "        166.72472126, 179.0605854 , 169.04409316, 169.43378004,\n",
       "        170.21585084, 173.78008287, 173.78008287, 177.827941  ,\n",
       "        180.7174126 , 184.07720015, 178.64875749, 177.827941  ,\n",
       "        186.20871367, 187.93168168, 165.57699635, 228.0342072 ]),\n",
       " array([151.00801542, 172.5837892 , 176.60378207, 170.6082389 ,\n",
       "        164.43717232, 164.43717232, 164.43717232, 150.66070662,\n",
       "        149.62356561, 151.35612484, 151.00801542, 171.39573075,\n",
       "        150.66070662, 151.00801542, 150.31419661, 152.05475297,\n",
       "        152.05475297, 152.05475297, 150.66070662, 150.66070662,\n",
       "        150.66070662, 151.00801542, 151.00801542, 151.00801542,\n",
       "        151.35612484, 151.70503675, 150.66070662, 149.62356561,\n",
       "        149.96848355, 151.35612484, 151.00801542, 149.96848355,\n",
       "        149.96848355, 150.31419661, 151.00801542, 150.31419661,\n",
       "        151.35612484, 153.46169828, 153.46169828, 153.46169828,\n",
       "        152.40527538, 152.05475297, 152.40527538, 152.75660582,\n",
       "        152.05475297, 152.40527538, 151.35612484, 152.40527538,\n",
       "        153.81546403, 153.10874617, 152.75660582, 153.10874617,\n",
       "        153.81546403, 155.238701  , 155.238701  , 155.238701  ,\n",
       "        153.10874617, 153.46169828, 153.46169828, 153.10874617,\n",
       "        155.59656316, 154.52544395, 154.52544395, 157.03628043,\n",
       "        157.03628043, 157.03628043, 155.238701  , 155.95525028,\n",
       "        155.238701  , 155.59656316, 158.12480393, 155.95525028,\n",
       "        157.76112697, 156.67510701, 162.55487558, 159.58791472,\n",
       "        156.67510701, 156.31476426, 159.22087271, 154.17004529,\n",
       "        159.95580286, 170.6082389 , 162.18100974, 162.55487558,\n",
       "        162.18100974, 179.0605854 , 164.05897732, 166.34126504,\n",
       "        166.72472126, 179.0605854 , 169.04409316, 169.43378004,\n",
       "        170.21585084, 173.78008287, 173.78008287, 177.827941  ,\n",
       "        180.7174126 , 184.07720015, 178.64875749, 177.827941  ,\n",
       "        186.20871367, 187.93168168, 165.57699635, 228.0342072 ]),\n",
       " array([151.00801542, 172.5837892 , 176.60378207, 170.6082389 ,\n",
       "        164.43717232, 164.43717232, 164.43717232, 150.66070662,\n",
       "        149.62356561, 151.35612484, 151.00801542, 171.39573075,\n",
       "        150.66070662, 151.00801542, 150.31419661, 152.05475297,\n",
       "        152.05475297, 152.05475297, 150.66070662, 150.66070662,\n",
       "        150.66070662, 151.00801542, 151.00801542, 151.00801542,\n",
       "        151.35612484, 151.70503675, 150.66070662, 149.62356561,\n",
       "        149.96848355, 151.35612484, 151.00801542, 149.96848355,\n",
       "        149.96848355, 150.31419661, 151.00801542, 150.31419661,\n",
       "        151.35612484, 153.46169828, 153.46169828, 153.46169828,\n",
       "        152.40527538, 152.05475297, 152.40527538, 152.75660582,\n",
       "        152.05475297, 152.40527538, 151.35612484, 152.40527538,\n",
       "        153.81546403, 153.10874617, 152.75660582, 153.10874617,\n",
       "        153.81546403, 155.238701  , 155.238701  , 155.238701  ,\n",
       "        153.10874617, 153.46169828, 153.46169828, 153.10874617,\n",
       "        155.59656316, 154.52544395, 154.52544395, 157.03628043,\n",
       "        157.03628043, 157.03628043, 155.238701  , 155.95525028,\n",
       "        155.238701  , 155.59656316, 158.12480393, 155.95525028,\n",
       "        157.76112697, 156.67510701, 162.55487558, 159.58791472,\n",
       "        156.67510701, 156.31476426, 159.22087271, 154.17004529,\n",
       "        159.95580286, 170.6082389 , 162.18100974, 162.55487558,\n",
       "        162.18100974, 179.0605854 , 164.05897732, 166.34126504,\n",
       "        166.72472126, 179.0605854 , 169.04409316, 169.43378004,\n",
       "        170.21585084, 173.78008287, 173.78008287, 177.827941  ,\n",
       "        180.7174126 , 184.07720015, 178.64875749, 177.827941  ,\n",
       "        186.20871367, 187.93168168, 165.57699635, 228.0342072 ]),\n",
       " array([151.00801542, 172.5837892 , 176.60378207, 170.6082389 ,\n",
       "        164.43717232, 164.43717232, 164.43717232, 150.66070662,\n",
       "        149.62356561, 151.35612484, 151.00801542, 171.39573075,\n",
       "        150.66070662, 151.00801542, 150.31419661, 152.05475297,\n",
       "        152.05475297, 152.05475297, 150.66070662, 150.66070662,\n",
       "        150.66070662, 151.00801542, 151.00801542, 151.00801542,\n",
       "        151.35612484, 151.70503675, 150.66070662, 149.62356561,\n",
       "        149.96848355, 151.35612484, 151.00801542, 149.96848355,\n",
       "        149.96848355, 150.31419661, 151.00801542, 150.31419661,\n",
       "        151.35612484, 153.46169828, 153.46169828, 153.46169828,\n",
       "        152.40527538, 152.05475297, 152.40527538, 152.75660582,\n",
       "        152.05475297, 152.40527538, 151.35612484, 152.40527538,\n",
       "        153.81546403, 153.10874617, 152.75660582, 153.10874617,\n",
       "        153.81546403, 155.238701  , 155.238701  , 155.238701  ,\n",
       "        153.10874617, 153.46169828, 153.46169828, 153.10874617,\n",
       "        155.59656316, 154.52544395, 154.52544395, 157.03628043,\n",
       "        157.03628043, 157.03628043, 155.238701  , 155.95525028,\n",
       "        155.238701  , 155.59656316, 158.12480393, 155.95525028,\n",
       "        157.76112697, 156.67510701, 162.55487558, 159.58791472,\n",
       "        156.67510701, 156.31476426, 159.22087271, 154.17004529,\n",
       "        159.95580286, 170.6082389 , 162.18100974, 162.55487558,\n",
       "        162.18100974, 179.0605854 , 164.05897732, 166.34126504,\n",
       "        166.72472126, 179.0605854 , 169.04409316, 169.43378004,\n",
       "        170.21585084, 173.78008287, 173.78008287, 177.827941  ,\n",
       "        180.7174126 , 184.07720015, 178.64875749, 177.827941  ,\n",
       "        186.20871367, 187.93168168, 165.57699635, 228.0342072 ]),\n",
       " array([151.00801542, 172.5837892 , 176.60378207, 170.6082389 ,\n",
       "        164.43717232, 164.43717232, 164.43717232, 150.66070662,\n",
       "        149.62356561, 151.35612484, 151.00801542, 171.39573075,\n",
       "        150.66070662, 151.00801542, 150.31419661, 152.05475297,\n",
       "        152.05475297, 152.05475297, 150.66070662, 150.66070662,\n",
       "        150.66070662, 151.00801542, 151.00801542, 151.00801542,\n",
       "        151.35612484, 151.70503675, 150.66070662, 149.62356561,\n",
       "        149.96848355, 151.35612484, 151.00801542, 149.96848355,\n",
       "        149.96848355, 150.31419661, 151.00801542, 150.31419661,\n",
       "        151.35612484, 153.46169828, 153.46169828, 153.46169828,\n",
       "        152.40527538, 152.05475297, 152.40527538, 152.75660582,\n",
       "        152.05475297, 152.40527538, 151.35612484, 152.40527538,\n",
       "        153.81546403, 153.10874617, 152.75660582, 153.10874617,\n",
       "        153.81546403, 155.238701  , 155.238701  , 155.238701  ,\n",
       "        153.10874617, 153.46169828, 153.46169828, 153.10874617,\n",
       "        155.59656316, 154.52544395, 154.52544395, 157.03628043,\n",
       "        157.03628043, 157.03628043, 155.238701  , 155.95525028,\n",
       "        155.238701  , 155.59656316, 158.12480393, 155.95525028,\n",
       "        157.76112697, 156.67510701, 162.55487558, 159.58791472,\n",
       "        156.67510701, 156.31476426, 159.22087271, 154.17004529,\n",
       "        159.95580286, 170.6082389 , 162.18100974, 162.55487558,\n",
       "        162.18100974, 179.0605854 , 164.05897732, 166.34126504,\n",
       "        166.72472126, 179.0605854 , 169.04409316, 169.43378004,\n",
       "        170.21585084, 173.78008287, 173.78008287, 177.827941  ,\n",
       "        180.7174126 , 184.07720015, 178.64875749, 177.827941  ,\n",
       "        186.20871367, 187.93168168, 165.57699635, 228.0342072 ]),\n",
       " array([151.00801542, 172.5837892 , 176.60378207, 170.6082389 ,\n",
       "        164.43717232, 164.43717232, 164.43717232, 150.66070662,\n",
       "        149.62356561, 151.35612484, 151.00801542, 171.39573075,\n",
       "        150.66070662, 151.00801542, 150.31419661, 152.05475297,\n",
       "        152.05475297, 152.05475297, 150.66070662, 150.66070662,\n",
       "        150.66070662, 151.00801542, 151.00801542, 151.00801542,\n",
       "        151.35612484, 151.70503675, 150.66070662, 149.62356561,\n",
       "        149.96848355, 151.35612484, 151.00801542, 149.96848355,\n",
       "        149.96848355, 150.31419661, 151.00801542, 150.31419661,\n",
       "        151.35612484, 153.46169828, 153.46169828, 153.46169828,\n",
       "        152.40527538, 152.05475297, 152.40527538, 152.75660582,\n",
       "        152.05475297, 152.40527538, 151.35612484, 152.40527538,\n",
       "        153.81546403, 153.10874617, 152.75660582, 153.10874617,\n",
       "        153.81546403, 155.238701  , 155.238701  , 155.238701  ,\n",
       "        153.10874617, 153.46169828, 153.46169828, 153.10874617,\n",
       "        155.59656316, 154.52544395, 154.52544395, 157.03628043,\n",
       "        157.03628043, 157.03628043, 155.238701  , 155.95525028,\n",
       "        155.238701  , 155.59656316, 158.12480393, 155.95525028,\n",
       "        157.76112697, 156.67510701, 162.55487558, 159.58791472,\n",
       "        156.67510701, 156.31476426, 159.22087271, 154.17004529,\n",
       "        159.95580286, 170.6082389 , 162.18100974, 162.55487558,\n",
       "        162.18100974, 179.0605854 , 164.05897732, 166.34126504,\n",
       "        166.72472126, 179.0605854 , 169.04409316, 169.43378004,\n",
       "        170.21585084, 173.78008287, 173.78008287, 177.827941  ,\n",
       "        180.7174126 , 184.07720015, 178.64875749, 177.827941  ,\n",
       "        186.20871367, 187.93168168, 165.57699635, 228.0342072 ]),\n",
       " array([151.00801542, 172.5837892 , 176.60378207, 170.6082389 ,\n",
       "        164.43717232, 164.43717232, 164.43717232, 150.66070662,\n",
       "        149.62356561, 151.35612484, 151.00801542, 171.39573075,\n",
       "        150.66070662, 151.00801542, 150.31419661, 152.05475297,\n",
       "        152.05475297, 152.05475297, 150.66070662, 150.66070662,\n",
       "        150.66070662, 151.00801542, 151.00801542, 151.00801542,\n",
       "        151.35612484, 151.70503675, 150.66070662, 149.62356561,\n",
       "        149.96848355, 151.35612484, 151.00801542, 149.96848355,\n",
       "        149.96848355, 150.31419661, 151.00801542, 150.31419661,\n",
       "        151.35612484, 153.46169828, 153.46169828, 153.46169828,\n",
       "        152.40527538, 152.05475297, 152.40527538, 152.75660582,\n",
       "        152.05475297, 152.40527538, 151.35612484, 152.40527538,\n",
       "        153.81546403, 153.10874617, 152.75660582, 153.10874617,\n",
       "        153.81546403, 155.238701  , 155.238701  , 155.238701  ,\n",
       "        153.10874617, 153.46169828, 153.46169828, 153.10874617,\n",
       "        155.59656316, 154.52544395, 154.52544395, 157.03628043,\n",
       "        157.03628043, 157.03628043, 155.238701  , 155.95525028,\n",
       "        155.238701  , 155.59656316, 158.12480393, 155.95525028,\n",
       "        157.76112697, 156.67510701, 162.55487558, 159.58791472,\n",
       "        156.67510701, 156.31476426, 159.22087271, 154.17004529,\n",
       "        159.95580286, 170.6082389 , 162.18100974, 162.55487558,\n",
       "        162.18100974, 179.0605854 , 164.05897732, 166.34126504,\n",
       "        166.72472126, 179.0605854 , 169.04409316, 169.43378004,\n",
       "        170.21585084, 173.78008287, 173.78008287, 177.827941  ,\n",
       "        180.7174126 , 184.07720015, 178.64875749, 177.827941  ,\n",
       "        186.20871367, 187.93168168, 165.57699635, 228.0342072 ]),\n",
       " array([151.00801542, 172.5837892 , 176.60378207, 170.6082389 ,\n",
       "        164.43717232, 164.43717232, 164.43717232, 150.66070662,\n",
       "        149.62356561, 151.35612484, 151.00801542, 171.39573075,\n",
       "        150.66070662, 151.00801542, 150.31419661, 152.05475297,\n",
       "        152.05475297, 152.05475297, 150.66070662, 150.66070662,\n",
       "        150.66070662, 151.00801542, 151.00801542, 151.00801542,\n",
       "        151.35612484, 151.70503675, 150.66070662, 149.62356561,\n",
       "        149.96848355, 151.35612484, 151.00801542, 149.96848355,\n",
       "        149.96848355, 150.31419661, 151.00801542, 150.31419661,\n",
       "        151.35612484, 153.46169828, 153.46169828, 153.46169828,\n",
       "        152.40527538, 152.05475297, 152.40527538, 152.75660582,\n",
       "        152.05475297, 152.40527538, 151.35612484, 152.40527538,\n",
       "        153.81546403, 153.10874617, 152.75660582, 153.10874617,\n",
       "        153.81546403, 155.238701  , 155.238701  , 155.238701  ,\n",
       "        153.10874617, 153.46169828, 153.46169828, 153.10874617,\n",
       "        155.59656316, 154.52544395, 154.52544395, 157.03628043,\n",
       "        157.03628043, 157.03628043, 155.238701  , 155.95525028,\n",
       "        155.238701  , 155.59656316, 158.12480393, 155.95525028,\n",
       "        157.76112697, 156.67510701, 162.55487558, 159.58791472,\n",
       "        156.67510701, 156.31476426, 159.22087271, 154.17004529,\n",
       "        159.95580286, 170.6082389 , 162.18100974, 162.55487558,\n",
       "        162.18100974, 179.0605854 , 164.05897732, 166.34126504,\n",
       "        166.72472126, 179.0605854 , 169.04409316, 169.43378004,\n",
       "        170.21585084, 173.78008287, 173.78008287, 177.827941  ,\n",
       "        180.7174126 , 184.07720015, 178.64875749, 177.827941  ,\n",
       "        186.20871367, 187.93168168, 165.57699635, 228.0342072 ]),\n",
       " array([151.00801542, 172.5837892 , 176.60378207, 170.6082389 ,\n",
       "        164.43717232, 164.43717232, 164.43717232, 150.66070662,\n",
       "        149.62356561, 151.35612484, 151.00801542, 171.39573075,\n",
       "        150.66070662, 151.00801542, 150.31419661, 152.05475297,\n",
       "        152.05475297, 152.05475297, 150.66070662, 150.66070662,\n",
       "        150.66070662, 151.00801542, 151.00801542, 151.00801542,\n",
       "        151.35612484, 151.70503675, 150.66070662, 149.62356561,\n",
       "        149.96848355, 151.35612484, 151.00801542, 149.96848355,\n",
       "        149.96848355, 150.31419661, 151.00801542, 150.31419661,\n",
       "        151.35612484, 153.46169828, 153.46169828, 153.46169828,\n",
       "        152.40527538, 152.05475297, 152.40527538, 152.75660582,\n",
       "        152.05475297, 152.40527538, 151.35612484, 152.40527538,\n",
       "        153.81546403, 153.10874617, 152.75660582, 153.10874617,\n",
       "        153.81546403, 155.238701  , 155.238701  , 155.238701  ,\n",
       "        153.10874617, 153.46169828, 153.46169828, 153.10874617,\n",
       "        155.59656316, 154.52544395, 154.52544395, 157.03628043,\n",
       "        157.03628043, 157.03628043, 155.238701  , 155.95525028,\n",
       "        155.238701  , 155.59656316, 158.12480393, 155.95525028,\n",
       "        157.76112697, 156.67510701, 162.55487558, 159.58791472,\n",
       "        156.67510701, 156.31476426, 159.22087271, 154.17004529,\n",
       "        159.95580286, 170.6082389 , 162.18100974, 162.55487558,\n",
       "        162.18100974, 179.0605854 , 164.05897732, 166.34126504,\n",
       "        166.72472126, 179.0605854 , 169.04409316, 169.43378004,\n",
       "        170.21585084, 173.78008287, 173.78008287, 177.827941  ,\n",
       "        180.7174126 , 184.07720015, 178.64875749, 177.827941  ,\n",
       "        186.20871367, 187.93168168, 165.57699635, 228.0342072 ]),\n",
       " array([151.00801542, 172.5837892 , 176.60378207, 170.6082389 ,\n",
       "        164.43717232, 164.43717232, 164.43717232, 150.66070662,\n",
       "        149.62356561, 151.35612484, 151.00801542, 171.39573075,\n",
       "        150.66070662, 151.00801542, 150.31419661, 152.05475297,\n",
       "        152.05475297, 152.05475297, 150.66070662, 150.66070662,\n",
       "        150.66070662, 151.00801542, 151.00801542, 151.00801542,\n",
       "        151.35612484, 151.70503675, 150.66070662, 149.62356561,\n",
       "        149.96848355, 151.35612484, 151.00801542, 149.96848355,\n",
       "        149.96848355, 150.31419661, 151.00801542, 150.31419661,\n",
       "        151.35612484, 153.46169828, 153.46169828, 153.46169828,\n",
       "        152.40527538, 152.05475297, 152.40527538, 152.75660582,\n",
       "        152.05475297, 152.40527538, 151.35612484, 152.40527538,\n",
       "        153.81546403, 153.10874617, 152.75660582, 153.10874617,\n",
       "        153.81546403, 155.238701  , 155.238701  , 155.238701  ,\n",
       "        153.10874617, 153.46169828, 153.46169828, 153.10874617,\n",
       "        155.59656316, 154.52544395, 154.52544395, 157.03628043,\n",
       "        157.03628043, 157.03628043, 155.238701  , 155.95525028,\n",
       "        155.238701  , 155.59656316, 158.12480393, 155.95525028,\n",
       "        157.76112697, 156.67510701, 162.55487558, 159.58791472,\n",
       "        156.67510701, 156.31476426, 159.22087271, 154.17004529,\n",
       "        159.95580286, 170.6082389 , 162.18100974, 162.55487558,\n",
       "        162.18100974, 179.0605854 , 164.05897732, 166.34126504,\n",
       "        166.72472126, 179.0605854 , 169.04409316, 169.43378004,\n",
       "        170.21585084, 173.78008287, 173.78008287, 177.827941  ,\n",
       "        180.7174126 , 184.07720015, 178.64875749, 177.827941  ,\n",
       "        186.20871367, 187.93168168, 165.57699635, 228.0342072 ]),\n",
       " array([151.00801542, 172.5837892 , 176.60378207, 170.6082389 ,\n",
       "        164.43717232, 164.43717232, 164.43717232, 150.66070662,\n",
       "        149.62356561, 151.35612484, 151.00801542, 171.39573075,\n",
       "        150.66070662, 151.00801542, 150.31419661, 152.05475297,\n",
       "        152.05475297, 152.05475297, 150.66070662, 150.66070662,\n",
       "        150.66070662, 151.00801542, 151.00801542, 151.00801542,\n",
       "        151.35612484, 151.70503675, 150.66070662, 149.62356561,\n",
       "        149.96848355, 151.35612484, 151.00801542, 149.96848355,\n",
       "        149.96848355, 150.31419661, 151.00801542, 150.31419661,\n",
       "        151.35612484, 153.46169828, 153.46169828, 153.46169828,\n",
       "        152.40527538, 152.05475297, 152.40527538, 152.75660582,\n",
       "        152.05475297, 152.40527538, 151.35612484, 152.40527538,\n",
       "        153.81546403, 153.10874617, 152.75660582, 153.10874617,\n",
       "        153.81546403, 155.238701  , 155.238701  , 155.238701  ,\n",
       "        153.10874617, 153.46169828, 153.46169828, 153.10874617,\n",
       "        155.59656316, 154.52544395, 154.52544395, 157.03628043,\n",
       "        157.03628043, 157.03628043, 155.238701  , 155.95525028,\n",
       "        155.238701  , 155.59656316, 158.12480393, 155.95525028,\n",
       "        157.76112697, 156.67510701, 162.55487558, 159.58791472,\n",
       "        156.67510701, 156.31476426, 159.22087271, 154.17004529,\n",
       "        159.95580286, 170.6082389 , 162.18100974, 162.55487558,\n",
       "        162.18100974, 179.0605854 , 164.05897732, 166.34126504,\n",
       "        166.72472126, 179.0605854 , 169.04409316, 169.43378004,\n",
       "        170.21585084, 173.78008287, 173.78008287, 177.827941  ,\n",
       "        180.7174126 , 184.07720015, 178.64875749, 177.827941  ,\n",
       "        186.20871367, 187.93168168, 165.57699635, 228.0342072 ]),\n",
       " array([151.00801542, 172.5837892 , 176.60378207, 170.6082389 ,\n",
       "        164.43717232, 164.43717232, 164.43717232, 150.66070662,\n",
       "        149.62356561, 151.35612484, 151.00801542, 171.39573075,\n",
       "        150.66070662, 151.00801542, 150.31419661, 152.05475297,\n",
       "        152.05475297, 152.05475297, 150.66070662, 150.66070662,\n",
       "        150.66070662, 151.00801542, 151.00801542, 151.00801542,\n",
       "        151.35612484, 151.70503675, 150.66070662, 149.62356561,\n",
       "        149.96848355, 151.35612484, 151.00801542, 149.96848355,\n",
       "        149.96848355, 150.31419661, 151.00801542, 150.31419661,\n",
       "        151.35612484, 153.46169828, 153.46169828, 153.46169828,\n",
       "        152.40527538, 152.05475297, 152.40527538, 152.75660582,\n",
       "        152.05475297, 152.40527538, 151.35612484, 152.40527538,\n",
       "        153.81546403, 153.10874617, 152.75660582, 153.10874617,\n",
       "        153.81546403, 155.238701  , 155.238701  , 155.238701  ,\n",
       "        153.10874617, 153.46169828, 153.46169828, 153.10874617,\n",
       "        155.59656316, 154.52544395, 154.52544395, 157.03628043,\n",
       "        157.03628043, 157.03628043, 155.238701  , 155.95525028,\n",
       "        155.238701  , 155.59656316, 158.12480393, 155.95525028,\n",
       "        157.76112697, 156.67510701, 162.55487558, 159.58791472,\n",
       "        156.67510701, 156.31476426, 159.22087271, 154.17004529,\n",
       "        159.95580286, 170.6082389 , 162.18100974, 162.55487558,\n",
       "        162.18100974, 179.0605854 , 164.05897732, 166.34126504,\n",
       "        166.72472126, 179.0605854 , 169.04409316, 169.43378004,\n",
       "        170.21585084, 173.78008287, 173.78008287, 177.827941  ,\n",
       "        180.7174126 , 184.07720015, 178.64875749, 177.827941  ,\n",
       "        186.20871367, 187.93168168, 165.57699635, 228.0342072 ]),\n",
       " array([151.00801542, 172.5837892 , 176.60378207, 170.6082389 ,\n",
       "        164.43717232, 164.43717232, 164.43717232, 150.66070662,\n",
       "        149.62356561, 151.35612484, 151.00801542, 171.39573075,\n",
       "        150.66070662, 151.00801542, 150.31419661, 152.05475297,\n",
       "        152.05475297, 152.05475297, 150.66070662, 150.66070662,\n",
       "        150.66070662, 151.00801542, 151.00801542, 151.00801542,\n",
       "        151.35612484, 151.70503675, 150.66070662, 149.62356561,\n",
       "        149.96848355, 151.35612484, 151.00801542, 149.96848355,\n",
       "        149.96848355, 150.31419661, 151.00801542, 150.31419661,\n",
       "        151.35612484, 153.46169828, 153.46169828, 153.46169828,\n",
       "        152.40527538, 152.05475297, 152.40527538, 152.75660582,\n",
       "        152.05475297, 152.40527538, 151.35612484, 152.40527538,\n",
       "        153.81546403, 153.10874617, 152.75660582, 153.10874617,\n",
       "        153.81546403, 155.238701  , 155.238701  , 155.238701  ,\n",
       "        153.10874617, 153.46169828, 153.46169828, 153.10874617,\n",
       "        155.59656316, 154.52544395, 154.52544395, 157.03628043,\n",
       "        157.03628043, 157.03628043, 155.238701  , 155.95525028,\n",
       "        155.238701  , 155.59656316, 158.12480393, 155.95525028,\n",
       "        157.76112697, 156.67510701, 162.55487558, 159.58791472,\n",
       "        156.67510701, 156.31476426, 159.22087271, 154.17004529,\n",
       "        159.95580286, 170.6082389 , 162.18100974, 162.55487558,\n",
       "        162.18100974, 179.0605854 , 164.05897732, 166.34126504,\n",
       "        166.72472126, 179.0605854 , 169.04409316, 169.43378004,\n",
       "        170.21585084, 173.78008287, 173.78008287, 177.827941  ,\n",
       "        180.7174126 , 184.07720015, 178.64875749, 177.827941  ,\n",
       "        186.20871367, 187.93168168, 165.57699635, 228.0342072 ]),\n",
       " array([151.00801542, 172.5837892 , 176.60378207, 170.6082389 ,\n",
       "        164.43717232, 164.43717232, 164.43717232, 150.66070662,\n",
       "        149.62356561, 151.35612484, 151.00801542, 171.39573075,\n",
       "        150.66070662, 151.00801542, 150.31419661, 152.05475297,\n",
       "        152.05475297, 152.05475297, 150.66070662, 150.66070662,\n",
       "        150.66070662, 151.00801542, 151.00801542, 151.00801542,\n",
       "        151.35612484, 151.70503675, 150.66070662, 149.62356561,\n",
       "        149.96848355, 151.35612484, 151.00801542, 149.96848355,\n",
       "        149.96848355, 150.31419661, 151.00801542, 150.31419661,\n",
       "        151.35612484, 153.46169828, 153.46169828, 153.46169828,\n",
       "        152.40527538, 152.05475297, 152.40527538, 152.75660582,\n",
       "        152.05475297, 152.40527538, 151.35612484, 152.40527538,\n",
       "        153.81546403, 153.10874617, 152.75660582, 153.10874617,\n",
       "        153.81546403, 155.238701  , 155.238701  , 155.238701  ,\n",
       "        153.10874617, 153.46169828, 153.46169828, 153.10874617,\n",
       "        155.59656316, 154.52544395, 154.52544395, 157.03628043,\n",
       "        157.03628043, 157.03628043, 155.238701  , 155.95525028,\n",
       "        155.238701  , 155.59656316, 158.12480393, 155.95525028,\n",
       "        157.76112697, 156.67510701, 162.55487558, 159.58791472,\n",
       "        156.67510701, 156.31476426, 159.22087271, 154.17004529,\n",
       "        159.95580286, 170.6082389 , 162.18100974, 162.55487558,\n",
       "        162.18100974, 179.0605854 , 164.05897732, 166.34126504,\n",
       "        166.72472126, 179.0605854 , 169.04409316, 169.43378004,\n",
       "        170.21585084, 173.78008287, 173.78008287, 177.827941  ,\n",
       "        180.7174126 , 184.07720015, 178.64875749, 177.827941  ,\n",
       "        186.20871367, 187.93168168, 165.57699635, 228.0342072 ]),\n",
       " array([151.00801542, 172.5837892 , 176.60378207, 170.6082389 ,\n",
       "        164.43717232, 164.43717232, 164.43717232, 150.66070662,\n",
       "        149.62356561, 151.35612484, 151.00801542, 171.39573075,\n",
       "        150.66070662, 151.00801542, 150.31419661, 152.05475297,\n",
       "        152.05475297, 152.05475297, 150.66070662, 150.66070662,\n",
       "        150.66070662, 151.00801542, 151.00801542, 151.00801542,\n",
       "        151.35612484, 151.70503675, 150.66070662, 149.62356561,\n",
       "        149.96848355, 151.35612484, 151.00801542, 149.96848355,\n",
       "        149.96848355, 150.31419661, 151.00801542, 150.31419661,\n",
       "        151.35612484, 153.46169828, 153.46169828, 153.46169828,\n",
       "        152.40527538, 152.05475297, 152.40527538, 152.75660582,\n",
       "        152.05475297, 152.40527538, 151.35612484, 152.40527538,\n",
       "        153.81546403, 153.10874617, 152.75660582, 153.10874617,\n",
       "        153.81546403, 155.238701  , 155.238701  , 155.238701  ,\n",
       "        153.10874617, 153.46169828, 153.46169828, 153.10874617,\n",
       "        155.59656316, 154.52544395, 154.52544395, 157.03628043,\n",
       "        157.03628043, 157.03628043, 155.238701  , 155.95525028,\n",
       "        155.238701  , 155.59656316, 158.12480393, 155.95525028,\n",
       "        157.76112697, 156.67510701, 162.55487558, 159.58791472,\n",
       "        156.67510701, 156.31476426, 159.22087271, 154.17004529,\n",
       "        159.95580286, 170.6082389 , 162.18100974, 162.55487558,\n",
       "        162.18100974, 179.0605854 , 164.05897732, 166.34126504,\n",
       "        166.72472126, 179.0605854 , 169.04409316, 169.43378004,\n",
       "        170.21585084, 173.78008287, 173.78008287, 177.827941  ,\n",
       "        180.7174126 , 184.07720015, 178.64875749, 177.827941  ,\n",
       "        186.20871367, 187.93168168, 165.57699635, 228.0342072 ]),\n",
       " array([151.00801542, 172.5837892 , 176.60378207, 170.6082389 ,\n",
       "        164.43717232, 164.43717232, 164.43717232, 150.66070662,\n",
       "        149.62356561, 151.35612484, 151.00801542, 171.39573075,\n",
       "        150.66070662, 151.00801542, 150.31419661, 152.05475297,\n",
       "        152.05475297, 152.05475297, 150.66070662, 150.66070662,\n",
       "        150.66070662, 151.00801542, 151.00801542, 151.00801542,\n",
       "        151.35612484, 151.70503675, 150.66070662, 149.62356561,\n",
       "        149.96848355, 151.35612484, 151.00801542, 149.96848355,\n",
       "        149.96848355, 150.31419661, 151.00801542, 150.31419661,\n",
       "        151.35612484, 153.46169828, 153.46169828, 153.46169828,\n",
       "        152.40527538, 152.05475297, 152.40527538, 152.75660582,\n",
       "        152.05475297, 152.40527538, 151.35612484, 152.40527538,\n",
       "        153.81546403, 153.10874617, 152.75660582, 153.10874617,\n",
       "        153.81546403, 155.238701  , 155.238701  , 155.238701  ,\n",
       "        153.10874617, 153.46169828, 153.46169828, 153.10874617,\n",
       "        155.59656316, 154.52544395, 154.52544395, 157.03628043,\n",
       "        157.03628043, 157.03628043, 155.238701  , 155.95525028,\n",
       "        155.238701  , 155.59656316, 158.12480393, 155.95525028,\n",
       "        157.76112697, 156.67510701, 162.55487558, 159.58791472,\n",
       "        156.67510701, 156.31476426, 159.22087271, 154.17004529,\n",
       "        159.95580286, 170.6082389 , 162.18100974, 162.55487558,\n",
       "        162.18100974, 179.0605854 , 164.05897732, 166.34126504,\n",
       "        166.72472126, 179.0605854 , 169.04409316, 169.43378004,\n",
       "        170.21585084, 173.78008287, 173.78008287, 177.827941  ,\n",
       "        180.7174126 , 184.07720015, 178.64875749, 177.827941  ,\n",
       "        186.20871367, 187.93168168, 165.57699635, 228.0342072 ]),\n",
       " array([151.00801542, 172.5837892 , 176.60378207, 170.6082389 ,\n",
       "        164.43717232, 164.43717232, 164.43717232, 150.66070662,\n",
       "        149.62356561, 151.35612484, 151.00801542, 171.39573075,\n",
       "        150.66070662, 151.00801542, 150.31419661, 152.05475297,\n",
       "        152.05475297, 152.05475297, 150.66070662, 150.66070662,\n",
       "        150.66070662, 151.00801542, 151.00801542, 151.00801542,\n",
       "        151.35612484, 151.70503675, 150.66070662, 149.62356561,\n",
       "        149.96848355, 151.35612484, 151.00801542, 149.96848355,\n",
       "        149.96848355, 150.31419661, 151.00801542, 150.31419661,\n",
       "        151.35612484, 153.46169828, 153.46169828, 153.46169828,\n",
       "        152.40527538, 152.05475297, 152.40527538, 152.75660582,\n",
       "        152.05475297, 152.40527538, 151.35612484, 152.40527538,\n",
       "        153.81546403, 153.10874617, 152.75660582, 153.10874617,\n",
       "        153.81546403, 155.238701  , 155.238701  , 155.238701  ,\n",
       "        153.10874617, 153.46169828, 153.46169828, 153.10874617,\n",
       "        155.59656316, 154.52544395, 154.52544395, 157.03628043,\n",
       "        157.03628043, 157.03628043, 155.238701  , 155.95525028,\n",
       "        155.238701  , 155.59656316, 158.12480393, 155.95525028,\n",
       "        157.76112697, 156.67510701, 162.55487558, 159.58791472,\n",
       "        156.67510701, 156.31476426, 159.22087271, 154.17004529,\n",
       "        159.95580286, 170.6082389 , 162.18100974, 162.55487558,\n",
       "        162.18100974, 179.0605854 , 164.05897732, 166.34126504,\n",
       "        166.72472126, 179.0605854 , 169.04409316, 169.43378004,\n",
       "        170.21585084, 173.78008287, 173.78008287, 177.827941  ,\n",
       "        180.7174126 , 184.07720015, 178.64875749, 177.827941  ,\n",
       "        186.20871367, 187.93168168, 165.57699635, 228.0342072 ]),\n",
       " array([151.00801542, 172.5837892 , 176.60378207, 170.6082389 ,\n",
       "        164.43717232, 164.43717232, 164.43717232, 150.66070662,\n",
       "        149.62356561, 151.35612484, 151.00801542, 171.39573075,\n",
       "        150.66070662, 151.00801542, 150.31419661, 152.05475297,\n",
       "        152.05475297, 152.05475297, 150.66070662, 150.66070662,\n",
       "        150.66070662, 151.00801542, 151.00801542, 151.00801542,\n",
       "        151.35612484, 151.70503675, 150.66070662, 149.62356561,\n",
       "        149.96848355, 151.35612484, 151.00801542, 149.96848355,\n",
       "        149.96848355, 150.31419661, 151.00801542, 150.31419661,\n",
       "        151.35612484, 153.46169828, 153.46169828, 153.46169828,\n",
       "        152.40527538, 152.05475297, 152.40527538, 152.75660582,\n",
       "        152.05475297, 152.40527538, 151.35612484, 152.40527538,\n",
       "        153.81546403, 153.10874617, 152.75660582, 153.10874617,\n",
       "        153.81546403, 155.238701  , 155.238701  , 155.238701  ,\n",
       "        153.10874617, 153.46169828, 153.46169828, 153.10874617,\n",
       "        155.59656316, 154.52544395, 154.52544395, 157.03628043,\n",
       "        157.03628043, 157.03628043, 155.238701  , 155.95525028,\n",
       "        155.238701  , 155.59656316, 158.12480393, 155.95525028,\n",
       "        157.76112697, 156.67510701, 162.55487558, 159.58791472,\n",
       "        156.67510701, 156.31476426, 159.22087271, 154.17004529,\n",
       "        159.95580286, 170.6082389 , 162.18100974, 162.55487558,\n",
       "        162.18100974, 179.0605854 , 164.05897732, 166.34126504,\n",
       "        166.72472126, 179.0605854 , 169.04409316, 169.43378004,\n",
       "        170.21585084, 173.78008287, 173.78008287, 177.827941  ,\n",
       "        180.7174126 , 184.07720015, 178.64875749, 177.827941  ,\n",
       "        186.20871367, 187.93168168, 165.57699635, 228.0342072 ]),\n",
       " array([151.00801542, 172.5837892 , 176.60378207, 170.6082389 ,\n",
       "        164.43717232, 164.43717232, 164.43717232, 150.66070662,\n",
       "        149.62356561, 151.35612484, 151.00801542, 171.39573075,\n",
       "        150.66070662, 151.00801542, 150.31419661, 152.05475297,\n",
       "        152.05475297, 152.05475297, 150.66070662, 150.66070662,\n",
       "        150.66070662, 151.00801542, 151.00801542, 151.00801542,\n",
       "        151.35612484, 151.70503675, 150.66070662, 149.62356561,\n",
       "        149.96848355, 151.35612484, 151.00801542, 149.96848355,\n",
       "        149.96848355, 150.31419661, 151.00801542, 150.31419661,\n",
       "        151.35612484, 153.46169828, 153.46169828, 153.46169828,\n",
       "        152.40527538, 152.05475297, 152.40527538, 152.75660582,\n",
       "        152.05475297, 152.40527538, 151.35612484, 152.40527538,\n",
       "        153.81546403, 153.10874617, 152.75660582, 153.10874617,\n",
       "        153.81546403, 155.238701  , 155.238701  , 155.238701  ,\n",
       "        153.10874617, 153.46169828, 153.46169828, 153.10874617,\n",
       "        155.59656316, 154.52544395, 154.52544395, 157.03628043,\n",
       "        157.03628043, 157.03628043, 155.238701  , 155.95525028,\n",
       "        155.238701  , 155.59656316, 158.12480393, 155.95525028,\n",
       "        157.76112697, 156.67510701, 162.55487558, 159.58791472,\n",
       "        156.67510701, 156.31476426, 159.22087271, 154.17004529,\n",
       "        159.95580286, 170.6082389 , 162.18100974, 162.55487558,\n",
       "        162.18100974, 179.0605854 , 164.05897732, 166.34126504,\n",
       "        166.72472126, 179.0605854 , 169.04409316, 169.43378004,\n",
       "        170.21585084, 173.78008287, 173.78008287, 177.827941  ,\n",
       "        180.7174126 , 184.07720015, 178.64875749, 177.827941  ,\n",
       "        186.20871367, 187.93168168, 165.57699635, 228.0342072 ]),\n",
       " array([151.00801542, 172.5837892 , 176.60378207, 170.6082389 ,\n",
       "        164.43717232, 164.43717232, 164.43717232, 150.66070662,\n",
       "        149.62356561, 151.35612484, 151.00801542, 171.39573075,\n",
       "        150.66070662, 151.00801542, 150.31419661, 152.05475297,\n",
       "        152.05475297, 152.05475297, 150.66070662, 150.66070662,\n",
       "        150.66070662, 151.00801542, 151.00801542, 151.00801542,\n",
       "        151.35612484, 151.70503675, 150.66070662, 149.62356561,\n",
       "        149.96848355, 151.35612484, 151.00801542, 149.96848355,\n",
       "        149.96848355, 150.31419661, 151.00801542, 150.31419661,\n",
       "        151.35612484, 153.46169828, 153.46169828, 153.46169828,\n",
       "        152.40527538, 152.05475297, 152.40527538, 152.75660582,\n",
       "        152.05475297, 152.40527538, 151.35612484, 152.40527538,\n",
       "        153.81546403, 153.10874617, 152.75660582, 153.10874617,\n",
       "        153.81546403, 155.238701  , 155.238701  , 155.238701  ,\n",
       "        153.10874617, 153.46169828, 153.46169828, 153.10874617,\n",
       "        155.59656316, 154.52544395, 154.52544395, 157.03628043,\n",
       "        157.03628043, 157.03628043, 155.238701  , 155.95525028,\n",
       "        155.238701  , 155.59656316, 158.12480393, 155.95525028,\n",
       "        157.76112697, 156.67510701, 162.55487558, 159.58791472,\n",
       "        156.67510701, 156.31476426, 159.22087271, 154.17004529,\n",
       "        159.95580286, 170.6082389 , 162.18100974, 162.55487558,\n",
       "        162.18100974, 179.0605854 , 164.05897732, 166.34126504,\n",
       "        166.72472126, 179.0605854 , 169.04409316, 169.43378004,\n",
       "        170.21585084, 173.78008287, 173.78008287, 177.827941  ,\n",
       "        180.7174126 , 184.07720015, 178.64875749, 177.827941  ,\n",
       "        186.20871367, 187.93168168, 165.57699635, 228.0342072 ]),\n",
       " array([151.00801542, 172.5837892 , 176.60378207, 170.6082389 ,\n",
       "        164.43717232, 164.43717232, 164.43717232, 150.66070662,\n",
       "        149.62356561, 151.35612484, 151.00801542, 171.39573075,\n",
       "        150.66070662, 151.00801542, 150.31419661, 152.05475297,\n",
       "        152.05475297, 152.05475297, 150.66070662, 150.66070662,\n",
       "        150.66070662, 151.00801542, 151.00801542, 151.00801542,\n",
       "        151.35612484, 151.70503675, 150.66070662, 149.62356561,\n",
       "        149.96848355, 151.35612484, 151.00801542, 149.96848355,\n",
       "        149.96848355, 150.31419661, 151.00801542, 150.31419661,\n",
       "        151.35612484, 153.46169828, 153.46169828, 153.46169828,\n",
       "        152.40527538, 152.05475297, 152.40527538, 152.75660582,\n",
       "        152.05475297, 152.40527538, 151.35612484, 152.40527538,\n",
       "        153.81546403, 153.10874617, 152.75660582, 153.10874617,\n",
       "        153.81546403, 155.238701  , 155.238701  , 155.238701  ,\n",
       "        153.10874617, 153.46169828, 153.46169828, 153.10874617,\n",
       "        155.59656316, 154.52544395, 154.52544395, 157.03628043,\n",
       "        157.03628043, 157.03628043, 155.238701  , 155.95525028,\n",
       "        155.238701  , 155.59656316, 158.12480393, 155.95525028,\n",
       "        157.76112697, 156.67510701, 162.55487558, 159.58791472,\n",
       "        156.67510701, 156.31476426, 159.22087271, 154.17004529,\n",
       "        159.95580286, 170.6082389 , 162.18100974, 162.55487558,\n",
       "        162.18100974, 179.0605854 , 164.05897732, 166.34126504,\n",
       "        166.72472126, 179.0605854 , 169.04409316, 169.43378004,\n",
       "        170.21585084, 173.78008287, 173.78008287, 177.827941  ,\n",
       "        180.7174126 , 184.07720015, 178.64875749, 177.827941  ,\n",
       "        186.20871367, 187.93168168, 165.57699635, 228.0342072 ]),\n",
       " array([151.00801542, 172.5837892 , 176.60378207, 170.6082389 ,\n",
       "        164.43717232, 164.43717232, 164.43717232, 150.66070662,\n",
       "        149.62356561, 151.35612484, 151.00801542, 171.39573075,\n",
       "        150.66070662, 151.00801542, 150.31419661, 152.05475297,\n",
       "        152.05475297, 152.05475297, 150.66070662, 150.66070662,\n",
       "        150.66070662, 151.00801542, 151.00801542, 151.00801542,\n",
       "        151.35612484, 151.70503675, 150.66070662, 149.62356561,\n",
       "        149.96848355, 151.35612484, 151.00801542, 149.96848355,\n",
       "        149.96848355, 150.31419661, 151.00801542, 150.31419661,\n",
       "        151.35612484, 153.46169828, 153.46169828, 153.46169828,\n",
       "        152.40527538, 152.05475297, 152.40527538, 152.75660582,\n",
       "        152.05475297, 152.40527538, 151.35612484, 152.40527538,\n",
       "        153.81546403, 153.10874617, 152.75660582, 153.10874617,\n",
       "        153.81546403, 155.238701  , 155.238701  , 155.238701  ,\n",
       "        153.10874617, 153.46169828, 153.46169828, 153.10874617,\n",
       "        155.59656316, 154.52544395, 154.52544395, 157.03628043,\n",
       "        157.03628043, 157.03628043, 155.238701  , 155.95525028,\n",
       "        155.238701  , 155.59656316, 158.12480393, 155.95525028,\n",
       "        157.76112697, 156.67510701, 162.55487558, 159.58791472,\n",
       "        156.67510701, 156.31476426, 159.22087271, 154.17004529,\n",
       "        159.95580286, 170.6082389 , 162.18100974, 162.55487558,\n",
       "        162.18100974, 179.0605854 , 164.05897732, 166.34126504,\n",
       "        166.72472126, 179.0605854 , 169.04409316, 169.43378004,\n",
       "        170.21585084, 173.78008287, 173.78008287, 177.827941  ,\n",
       "        180.7174126 , 184.07720015, 178.64875749, 177.827941  ,\n",
       "        186.20871367, 187.93168168, 165.57699635, 228.0342072 ]),\n",
       " array([151.00801542, 172.5837892 , 176.60378207, 170.6082389 ,\n",
       "        164.43717232, 164.43717232, 164.43717232, 150.66070662,\n",
       "        149.62356561, 151.35612484, 151.00801542, 171.39573075,\n",
       "        150.66070662, 151.00801542, 150.31419661, 152.05475297,\n",
       "        152.05475297, 152.05475297, 150.66070662, 150.66070662,\n",
       "        150.66070662, 151.00801542, 151.00801542, 151.00801542,\n",
       "        151.35612484, 151.70503675, 150.66070662, 149.62356561,\n",
       "        149.96848355, 151.35612484, 151.00801542, 149.96848355,\n",
       "        149.96848355, 150.31419661, 151.00801542, 150.31419661,\n",
       "        151.35612484, 153.46169828, 153.46169828, 153.46169828,\n",
       "        152.40527538, 152.05475297, 152.40527538, 152.75660582,\n",
       "        152.05475297, 152.40527538, 151.35612484, 152.40527538,\n",
       "        153.81546403, 153.10874617, 152.75660582, 153.10874617,\n",
       "        153.81546403, 155.238701  , 155.238701  , 155.238701  ,\n",
       "        153.10874617, 153.46169828, 153.46169828, 153.10874617,\n",
       "        155.59656316, 154.52544395, 154.52544395, 157.03628043,\n",
       "        157.03628043, 157.03628043, 155.238701  , 155.95525028,\n",
       "        155.238701  , 155.59656316, 158.12480393, 155.95525028,\n",
       "        157.76112697, 156.67510701, 162.55487558, 159.58791472,\n",
       "        156.67510701, 156.31476426, 159.22087271, 154.17004529,\n",
       "        159.95580286, 170.6082389 , 162.18100974, 162.55487558,\n",
       "        162.18100974, 179.0605854 , 164.05897732, 166.34126504,\n",
       "        166.72472126, 179.0605854 , 169.04409316, 169.43378004,\n",
       "        170.21585084, 173.78008287, 173.78008287, 177.827941  ,\n",
       "        180.7174126 , 184.07720015, 178.64875749, 177.827941  ,\n",
       "        186.20871367, 187.93168168, 165.57699635, 228.0342072 ]),\n",
       " array([151.00801542, 172.5837892 , 176.60378207, 170.6082389 ,\n",
       "        164.43717232, 164.43717232, 164.43717232, 150.66070662,\n",
       "        149.62356561, 151.35612484, 151.00801542, 171.39573075,\n",
       "        150.66070662, 151.00801542, 150.31419661, 152.05475297,\n",
       "        152.05475297, 152.05475297, 150.66070662, 150.66070662,\n",
       "        150.66070662, 151.00801542, 151.00801542, 151.00801542,\n",
       "        151.35612484, 151.70503675, 150.66070662, 149.62356561,\n",
       "        149.96848355, 151.35612484, 151.00801542, 149.96848355,\n",
       "        149.96848355, 150.31419661, 151.00801542, 150.31419661,\n",
       "        151.35612484, 153.46169828, 153.46169828, 153.46169828,\n",
       "        152.40527538, 152.05475297, 152.40527538, 152.75660582,\n",
       "        152.05475297, 152.40527538, 151.35612484, 152.40527538,\n",
       "        153.81546403, 153.10874617, 152.75660582, 153.10874617,\n",
       "        153.81546403, 155.238701  , 155.238701  , 155.238701  ,\n",
       "        153.10874617, 153.46169828, 153.46169828, 153.10874617,\n",
       "        155.59656316, 154.52544395, 154.52544395, 157.03628043,\n",
       "        157.03628043, 157.03628043, 155.238701  , 155.95525028,\n",
       "        155.238701  , 155.59656316, 158.12480393, 155.95525028,\n",
       "        157.76112697, 156.67510701, 162.55487558, 159.58791472,\n",
       "        156.67510701, 156.31476426, 159.22087271, 154.17004529,\n",
       "        159.95580286, 170.6082389 , 162.18100974, 162.55487558,\n",
       "        162.18100974, 179.0605854 , 164.05897732, 166.34126504,\n",
       "        166.72472126, 179.0605854 , 169.04409316, 169.43378004,\n",
       "        170.21585084, 173.78008287, 173.78008287, 177.827941  ,\n",
       "        180.7174126 , 184.07720015, 178.64875749, 177.827941  ,\n",
       "        186.20871367, 187.93168168, 165.57699635, 228.0342072 ]),\n",
       " array([151.00801542, 172.5837892 , 176.60378207, 170.6082389 ,\n",
       "        164.43717232, 164.43717232, 164.43717232, 150.66070662,\n",
       "        149.62356561, 151.35612484, 151.00801542, 171.39573075,\n",
       "        150.66070662, 151.00801542, 150.31419661, 152.05475297,\n",
       "        152.05475297, 152.05475297, 150.66070662, 150.66070662,\n",
       "        150.66070662, 151.00801542, 151.00801542, 151.00801542,\n",
       "        151.35612484, 151.70503675, 150.66070662, 149.62356561,\n",
       "        149.96848355, 151.35612484, 151.00801542, 149.96848355,\n",
       "        149.96848355, 150.31419661, 151.00801542, 150.31419661,\n",
       "        151.35612484, 153.46169828, 153.46169828, 153.46169828,\n",
       "        152.40527538, 152.05475297, 152.40527538, 152.75660582,\n",
       "        152.05475297, 152.40527538, 151.35612484, 152.40527538,\n",
       "        153.81546403, 153.10874617, 152.75660582, 153.10874617,\n",
       "        153.81546403, 155.238701  , 155.238701  , 155.238701  ,\n",
       "        153.10874617, 153.46169828, 153.46169828, 153.10874617,\n",
       "        155.59656316, 154.52544395, 154.52544395, 157.03628043,\n",
       "        157.03628043, 157.03628043, 155.238701  , 155.95525028,\n",
       "        155.238701  , 155.59656316, 158.12480393, 155.95525028,\n",
       "        157.76112697, 156.67510701, 162.55487558, 159.58791472,\n",
       "        156.67510701, 156.31476426, 159.22087271, 154.17004529,\n",
       "        159.95580286, 170.6082389 , 162.18100974, 162.55487558,\n",
       "        162.18100974, 179.0605854 , 164.05897732, 166.34126504,\n",
       "        166.72472126, 179.0605854 , 169.04409316, 169.43378004,\n",
       "        170.21585084, 173.78008287, 173.78008287, 177.827941  ,\n",
       "        180.7174126 , 184.07720015, 178.64875749, 177.827941  ,\n",
       "        186.20871367, 187.93168168, 165.57699635, 228.0342072 ]),\n",
       " array([151.00801542, 172.5837892 , 176.60378207, 170.6082389 ,\n",
       "        164.43717232, 164.43717232, 164.43717232, 150.66070662,\n",
       "        149.62356561, 151.35612484, 151.00801542, 171.39573075,\n",
       "        150.66070662, 151.00801542, 150.31419661, 152.05475297,\n",
       "        152.05475297, 152.05475297, 150.66070662, 150.66070662,\n",
       "        150.66070662, 151.00801542, 151.00801542, 151.00801542,\n",
       "        151.35612484, 151.70503675, 150.66070662, 149.62356561,\n",
       "        149.96848355, 151.35612484, 151.00801542, 149.96848355,\n",
       "        149.96848355, 150.31419661, 151.00801542, 150.31419661,\n",
       "        151.35612484, 153.46169828, 153.46169828, 153.46169828,\n",
       "        152.40527538, 152.05475297, 152.40527538, 152.75660582,\n",
       "        152.05475297, 152.40527538, 151.35612484, 152.40527538,\n",
       "        153.81546403, 153.10874617, 152.75660582, 153.10874617,\n",
       "        153.81546403, 155.238701  , 155.238701  , 155.238701  ,\n",
       "        153.10874617, 153.46169828, 153.46169828, 153.10874617,\n",
       "        155.59656316, 154.52544395, 154.52544395, 157.03628043,\n",
       "        157.03628043, 157.03628043, 155.238701  , 155.95525028,\n",
       "        155.238701  , 155.59656316, 158.12480393, 155.95525028,\n",
       "        157.76112697, 156.67510701, 162.55487558, 159.58791472,\n",
       "        156.67510701, 156.31476426, 159.22087271, 154.17004529,\n",
       "        159.95580286, 170.6082389 , 162.18100974, 162.55487558,\n",
       "        162.18100974, 179.0605854 , 164.05897732, 166.34126504,\n",
       "        166.72472126, 179.0605854 , 169.04409316, 169.43378004,\n",
       "        170.21585084, 173.78008287, 173.78008287, 177.827941  ,\n",
       "        180.7174126 , 184.07720015, 178.64875749, 177.827941  ,\n",
       "        186.20871367, 187.93168168, 165.57699635, 228.0342072 ]),\n",
       " array([151.00801542, 172.5837892 , 176.60378207, 170.6082389 ,\n",
       "        164.43717232, 164.43717232, 164.43717232, 150.66070662,\n",
       "        149.62356561, 151.35612484, 151.00801542, 171.39573075,\n",
       "        150.66070662, 151.00801542, 150.31419661, 152.05475297,\n",
       "        152.05475297, 152.05475297, 150.66070662, 150.66070662,\n",
       "        150.66070662, 151.00801542, 151.00801542, 151.00801542,\n",
       "        151.35612484, 151.70503675, 150.66070662, 149.62356561,\n",
       "        149.96848355, 151.35612484, 151.00801542, 149.96848355,\n",
       "        149.96848355, 150.31419661, 151.00801542, 150.31419661,\n",
       "        151.35612484, 153.46169828, 153.46169828, 153.46169828,\n",
       "        152.40527538, 152.05475297, 152.40527538, 152.75660582,\n",
       "        152.05475297, 152.40527538, 151.35612484, 152.40527538,\n",
       "        153.81546403, 153.10874617, 152.75660582, 153.10874617,\n",
       "        153.81546403, 155.238701  , 155.238701  , 155.238701  ,\n",
       "        153.10874617, 153.46169828, 153.46169828, 153.10874617,\n",
       "        155.59656316, 154.52544395, 154.52544395, 157.03628043,\n",
       "        157.03628043, 157.03628043, 155.238701  , 155.95525028,\n",
       "        155.238701  , 155.59656316, 158.12480393, 155.95525028,\n",
       "        157.76112697, 156.67510701, 162.55487558, 159.58791472,\n",
       "        156.67510701, 156.31476426, 159.22087271, 154.17004529,\n",
       "        159.95580286, 170.6082389 , 162.18100974, 162.55487558,\n",
       "        162.18100974, 179.0605854 , 164.05897732, 166.34126504,\n",
       "        166.72472126, 179.0605854 , 169.04409316, 169.43378004,\n",
       "        170.21585084, 173.78008287, 173.78008287, 177.827941  ,\n",
       "        180.7174126 , 184.07720015, 178.64875749, 177.827941  ,\n",
       "        186.20871367, 187.93168168, 165.57699635, 228.0342072 ]),\n",
       " array([151.00801542, 172.5837892 , 176.60378207, 170.6082389 ,\n",
       "        164.43717232, 164.43717232, 164.43717232, 150.66070662,\n",
       "        149.62356561, 151.35612484, 151.00801542, 171.39573075,\n",
       "        150.66070662, 151.00801542, 150.31419661, 152.05475297,\n",
       "        152.05475297, 152.05475297, 150.66070662, 150.66070662,\n",
       "        150.66070662, 151.00801542, 151.00801542, 151.00801542,\n",
       "        151.35612484, 151.70503675, 150.66070662, 149.62356561,\n",
       "        149.96848355, 151.35612484, 151.00801542, 149.96848355,\n",
       "        149.96848355, 150.31419661, 151.00801542, 150.31419661,\n",
       "        151.35612484, 153.46169828, 153.46169828, 153.46169828,\n",
       "        152.40527538, 152.05475297, 152.40527538, 152.75660582,\n",
       "        152.05475297, 152.40527538, 151.35612484, 152.40527538,\n",
       "        153.81546403, 153.10874617, 152.75660582, 153.10874617,\n",
       "        153.81546403, 155.238701  , 155.238701  , 155.238701  ,\n",
       "        153.10874617, 153.46169828, 153.46169828, 153.10874617,\n",
       "        155.59656316, 154.52544395, 154.52544395, 157.03628043,\n",
       "        157.03628043, 157.03628043, 155.238701  , 155.95525028,\n",
       "        155.238701  , 155.59656316, 158.12480393, 155.95525028,\n",
       "        157.76112697, 156.67510701, 162.55487558, 159.58791472,\n",
       "        156.67510701, 156.31476426, 159.22087271, 154.17004529,\n",
       "        159.95580286, 170.6082389 , 162.18100974, 162.55487558,\n",
       "        162.18100974, 179.0605854 , 164.05897732, 166.34126504,\n",
       "        166.72472126, 179.0605854 , 169.04409316, 169.43378004,\n",
       "        170.21585084, 173.78008287, 173.78008287, 177.827941  ,\n",
       "        180.7174126 , 184.07720015, 178.64875749, 177.827941  ,\n",
       "        186.20871367, 187.93168168, 165.57699635, 228.0342072 ]),\n",
       " array([151.00801542, 172.5837892 , 176.60378207, 170.6082389 ,\n",
       "        164.43717232, 164.43717232, 164.43717232, 150.66070662,\n",
       "        149.62356561, 151.35612484, 151.00801542, 171.39573075,\n",
       "        150.66070662, 151.00801542, 150.31419661, 152.05475297,\n",
       "        152.05475297, 152.05475297, 150.66070662, 150.66070662,\n",
       "        150.66070662, 151.00801542, 151.00801542, 151.00801542,\n",
       "        151.35612484, 151.70503675, 150.66070662, 149.62356561,\n",
       "        149.96848355, 151.35612484, 151.00801542, 149.96848355,\n",
       "        149.96848355, 150.31419661, 151.00801542, 150.31419661,\n",
       "        151.35612484, 153.46169828, 153.46169828, 153.46169828,\n",
       "        152.40527538, 152.05475297, 152.40527538, 152.75660582,\n",
       "        152.05475297, 152.40527538, 151.35612484, 152.40527538,\n",
       "        153.81546403, 153.10874617, 152.75660582, 153.10874617,\n",
       "        153.81546403, 155.238701  , 155.238701  , 155.238701  ,\n",
       "        153.10874617, 153.46169828, 153.46169828, 153.10874617,\n",
       "        155.59656316, 154.52544395, 154.52544395, 157.03628043,\n",
       "        157.03628043, 157.03628043, 155.238701  , 155.95525028,\n",
       "        155.238701  , 155.59656316, 158.12480393, 155.95525028,\n",
       "        157.76112697, 156.67510701, 162.55487558, 159.58791472,\n",
       "        156.67510701, 156.31476426, 159.22087271, 154.17004529,\n",
       "        159.95580286, 170.6082389 , 162.18100974, 162.55487558,\n",
       "        162.18100974, 179.0605854 , 164.05897732, 166.34126504,\n",
       "        166.72472126, 179.0605854 , 169.04409316, 169.43378004,\n",
       "        170.21585084, 173.78008287, 173.78008287, 177.827941  ,\n",
       "        180.7174126 , 184.07720015, 178.64875749, 177.827941  ,\n",
       "        186.20871367, 187.93168168, 165.57699635, 228.0342072 ]),\n",
       " array([151.00801542, 172.5837892 , 176.60378207, 170.6082389 ,\n",
       "        164.43717232, 164.43717232, 164.43717232, 150.66070662,\n",
       "        149.62356561, 151.35612484, 151.00801542, 171.39573075,\n",
       "        150.66070662, 151.00801542, 150.31419661, 152.05475297,\n",
       "        152.05475297, 152.05475297, 150.66070662, 150.66070662,\n",
       "        150.66070662, 151.00801542, 151.00801542, 151.00801542,\n",
       "        151.35612484, 151.70503675, 150.66070662, 149.62356561,\n",
       "        149.96848355, 151.35612484, 151.00801542, 149.96848355,\n",
       "        149.96848355, 150.31419661, 151.00801542, 150.31419661,\n",
       "        151.35612484, 153.46169828, 153.46169828, 153.46169828,\n",
       "        152.40527538, 152.05475297, 152.40527538, 152.75660582,\n",
       "        152.05475297, 152.40527538, 151.35612484, 152.40527538,\n",
       "        153.81546403, 153.10874617, 152.75660582, 153.10874617,\n",
       "        153.81546403, 155.238701  , 155.238701  , 155.238701  ,\n",
       "        153.10874617, 153.46169828, 153.46169828, 153.10874617,\n",
       "        155.59656316, 154.52544395, 154.52544395, 157.03628043,\n",
       "        157.03628043, 157.03628043, 155.238701  , 155.95525028,\n",
       "        155.238701  , 155.59656316, 158.12480393, 155.95525028,\n",
       "        157.76112697, 156.67510701, 162.55487558, 159.58791472,\n",
       "        156.67510701, 156.31476426, 159.22087271, 154.17004529,\n",
       "        159.95580286, 170.6082389 , 162.18100974, 162.55487558,\n",
       "        162.18100974, 179.0605854 , 164.05897732, 166.34126504,\n",
       "        166.72472126, 179.0605854 , 169.04409316, 169.43378004,\n",
       "        170.21585084, 173.78008287, 173.78008287, 177.827941  ,\n",
       "        180.7174126 , 184.07720015, 178.64875749, 177.827941  ,\n",
       "        186.20871367, 187.93168168, 165.57699635, 228.0342072 ]),\n",
       " array([151.00801542, 172.5837892 , 176.60378207, 170.6082389 ,\n",
       "        164.43717232, 164.43717232, 164.43717232, 150.66070662,\n",
       "        149.62356561, 151.35612484, 151.00801542, 171.39573075,\n",
       "        150.66070662, 151.00801542, 150.31419661, 152.05475297,\n",
       "        152.05475297, 152.05475297, 150.66070662, 150.66070662,\n",
       "        150.66070662, 151.00801542, 151.00801542, 151.00801542,\n",
       "        151.35612484, 151.70503675, 150.66070662, 149.62356561,\n",
       "        149.96848355, 151.35612484, 151.00801542, 149.96848355,\n",
       "        149.96848355, 150.31419661, 151.00801542, 150.31419661,\n",
       "        151.35612484, 153.46169828, 153.46169828, 153.46169828,\n",
       "        152.40527538, 152.05475297, 152.40527538, 152.75660582,\n",
       "        152.05475297, 152.40527538, 151.35612484, 152.40527538,\n",
       "        153.81546403, 153.10874617, 152.75660582, 153.10874617,\n",
       "        153.81546403, 155.238701  , 155.238701  , 155.238701  ,\n",
       "        153.10874617, 153.46169828, 153.46169828, 153.10874617,\n",
       "        155.59656316, 154.52544395, 154.52544395, 157.03628043,\n",
       "        157.03628043, 157.03628043, 155.238701  , 155.95525028,\n",
       "        155.238701  , 155.59656316, 158.12480393, 155.95525028,\n",
       "        157.76112697, 156.67510701, 162.55487558, 159.58791472,\n",
       "        156.67510701, 156.31476426, 159.22087271, 154.17004529,\n",
       "        159.95580286, 170.6082389 , 162.18100974, 162.55487558,\n",
       "        162.18100974, 179.0605854 , 164.05897732, 166.34126504,\n",
       "        166.72472126, 179.0605854 , 169.04409316, 169.43378004,\n",
       "        170.21585084, 173.78008287, 173.78008287, 177.827941  ,\n",
       "        180.7174126 , 184.07720015, 178.64875749, 177.827941  ,\n",
       "        186.20871367, 187.93168168, 165.57699635, 228.0342072 ]),\n",
       " array([151.00801542, 172.5837892 , 176.60378207, 170.6082389 ,\n",
       "        164.43717232, 164.43717232, 164.43717232, 150.66070662,\n",
       "        149.62356561, 151.35612484, 151.00801542, 171.39573075,\n",
       "        150.66070662, 151.00801542, 150.31419661, 152.05475297,\n",
       "        152.05475297, 152.05475297, 150.66070662, 150.66070662,\n",
       "        150.66070662, 151.00801542, 151.00801542, 151.00801542,\n",
       "        151.35612484, 151.70503675, 150.66070662, 149.62356561,\n",
       "        149.96848355, 151.35612484, 151.00801542, 149.96848355,\n",
       "        149.96848355, 150.31419661, 151.00801542, 150.31419661,\n",
       "        151.35612484, 153.46169828, 153.46169828, 153.46169828,\n",
       "        152.40527538, 152.05475297, 152.40527538, 152.75660582,\n",
       "        152.05475297, 152.40527538, 151.35612484, 152.40527538,\n",
       "        153.81546403, 153.10874617, 152.75660582, 153.10874617,\n",
       "        153.81546403, 155.238701  , 155.238701  , 155.238701  ,\n",
       "        153.10874617, 153.46169828, 153.46169828, 153.10874617,\n",
       "        155.59656316, 154.52544395, 154.52544395, 157.03628043,\n",
       "        157.03628043, 157.03628043, 155.238701  , 155.95525028,\n",
       "        155.238701  , 155.59656316, 158.12480393, 155.95525028,\n",
       "        157.76112697, 156.67510701, 162.55487558, 159.58791472,\n",
       "        156.67510701, 156.31476426, 159.22087271, 154.17004529,\n",
       "        159.95580286, 170.6082389 , 162.18100974, 162.55487558,\n",
       "        162.18100974, 179.0605854 , 164.05897732, 166.34126504,\n",
       "        166.72472126, 179.0605854 , 169.04409316, 169.43378004,\n",
       "        170.21585084, 173.78008287, 173.78008287, 177.827941  ,\n",
       "        180.7174126 , 184.07720015, 178.64875749, 177.827941  ,\n",
       "        186.20871367, 187.93168168, 165.57699635, 228.0342072 ]),\n",
       " array([151.00801542, 172.5837892 , 176.60378207, 170.6082389 ,\n",
       "        164.43717232, 164.43717232, 164.43717232, 150.66070662,\n",
       "        149.62356561, 151.35612484, 151.00801542, 171.39573075,\n",
       "        150.66070662, 151.00801542, 150.31419661, 152.05475297,\n",
       "        152.05475297, 152.05475297, 150.66070662, 150.66070662,\n",
       "        150.66070662, 151.00801542, 151.00801542, 151.00801542,\n",
       "        151.35612484, 151.70503675, 150.66070662, 149.62356561,\n",
       "        149.96848355, 151.35612484, 151.00801542, 149.96848355,\n",
       "        149.96848355, 150.31419661, 151.00801542, 150.31419661,\n",
       "        151.35612484, 153.46169828, 153.46169828, 153.46169828,\n",
       "        152.40527538, 152.05475297, 152.40527538, 152.75660582,\n",
       "        152.05475297, 152.40527538, 151.35612484, 152.40527538,\n",
       "        153.81546403, 153.10874617, 152.75660582, 153.10874617,\n",
       "        153.81546403, 155.238701  , 155.238701  , 155.238701  ,\n",
       "        153.10874617, 153.46169828, 153.46169828, 153.10874617,\n",
       "        155.59656316, 154.52544395, 154.52544395, 157.03628043,\n",
       "        157.03628043, 157.03628043, 155.238701  , 155.95525028,\n",
       "        155.238701  , 155.59656316, 158.12480393, 155.95525028,\n",
       "        157.76112697, 156.67510701, 162.55487558, 159.58791472,\n",
       "        156.67510701, 156.31476426, 159.22087271, 154.17004529,\n",
       "        159.95580286, 170.6082389 , 162.18100974, 162.55487558,\n",
       "        162.18100974, 179.0605854 , 164.05897732, 166.34126504,\n",
       "        166.72472126, 179.0605854 , 169.04409316, 169.43378004,\n",
       "        170.21585084, 173.78008287, 173.78008287, 177.827941  ,\n",
       "        180.7174126 , 184.07720015, 178.64875749, 177.827941  ,\n",
       "        186.20871367, 187.93168168, 165.57699635, 228.0342072 ])]"
      ]
     },
     "execution_count": 396,
     "metadata": {},
     "output_type": "execute_result"
    }
   ],
   "source": [
    "distance=[]\n",
    "for i in range(len(beehive_data)):\n",
    "    dist.append(pow(10,(beehive_data[:,0]+(2.5*beehive_data[:,1])+0.17)/5)) \n",
    "dist\n",
    "#dis =np.average(distance, axis=-1, weights=p)#beehive_data[:,2])\n",
    "#print('Average distance to the beehive cluster: {}'.format(dis))  "
   ]
  },
  {
   "cell_type": "code",
   "execution_count": 397,
   "metadata": {},
   "outputs": [
    {
     "name": "stdout",
     "output_type": "stream",
     "text": [
      "END OF ASSIGNMENT 02\n",
      "************************************************************************************************************************\n",
      "************************************************************************************************************************\n",
      "************************************************************************************************************************\n",
      "************************************************************************************************************************\n"
     ]
    }
   ],
   "source": [
    "print('END OF ASSIGNMENT 02')\n",
    "print('*'*120)\n",
    "print('*'*120)\n",
    "print('*'*120)\n",
    "print('*'*120)"
   ]
  },
  {
   "cell_type": "code",
   "execution_count": 414,
   "metadata": {},
   "outputs": [
    {
     "data": {
      "text/plain": [
       "array([[1.0000000e+00, 1.3337110e+02, 5.7598427e+01, 3.9515216e-02],\n",
       "       [2.0000000e+00, 1.3368567e+02, 5.7480250e+01, 4.1055806e-02],\n",
       "       [3.0000000e+00, 1.3601717e+02, 5.7092330e+01, 4.6571030e-02],\n",
       "       ...,\n",
       "       [4.6540000e+03, 2.2807332e+02, 2.9657210e+01, 6.9021840e-02],\n",
       "       [4.6550000e+03, 2.2704141e+02, 2.9222193e+01, 1.1129715e-01],\n",
       "       [4.6560000e+03, 2.2817638e+02, 2.7799559e+01, 6.8651415e-02]])"
      ]
     },
     "execution_count": 414,
     "metadata": {},
     "output_type": "execute_result"
    }
   ],
   "source": [
    "galaxies_data = np.loadtxt('galaxies.csv', delimiter=',')\n",
    "galaxies_data"
   ]
  },
  {
   "cell_type": "code",
   "execution_count": 421,
   "metadata": {},
   "outputs": [
    {
     "name": "stdout",
     "output_type": "stream",
     "text": [
      "300000000.0\n"
     ]
    }
   ],
   "source": [
    "c=3e8\n",
    "print(c)"
   ]
  },
  {
   "cell_type": "code",
   "execution_count": 591,
   "metadata": {
    "scrolled": true
   },
   "outputs": [
    {
     "name": "stdout",
     "output_type": "stream",
     "text": [
      "Total galaxies = 4656\n",
      "Distance to galaxy index 456 is 576.3638142857143 Mpc\n"
     ]
    }
   ],
   "source": [
    "def dist(sno):\n",
    "    H0=70 #in km/s/Mpc\n",
    "    c=3e5 #in km/s\n",
    "    z=galaxies_data[sno-1][3]\n",
    "    d=z*c/H0\n",
    "    return(d)\n",
    "\n",
    "l=len(galaxies_data)\n",
    "print('Total galaxies = {}'.format(l))\n",
    "sno=456\n",
    "print(f\"Distance to galaxy index {sno} is {dist(sno)} Mpc\")\n",
    "#for i in range(len(galaxies_dat)):\n",
    " #   print(dist(galaxies_data([:,1]))"
   ]
  },
  {
   "cell_type": "code",
   "execution_count": 586,
   "metadata": {},
   "outputs": [
    {
     "name": "stdout",
     "output_type": "stream",
     "text": [
      "The no of galaxies inside the given distance 2 is 0\n"
     ]
    }
   ],
   "source": [
    "def galfind(dlim):\n",
    "    d=0\n",
    "    for i in range(len(galaxies_data)):\n",
    "        if(dist(i)<=dlim):\n",
    "            d+=1\n",
    "    return(d)\n",
    "dlim=2\n",
    "print(f\"The no of galaxies inside the given distance {dlim} is {galfind(dlim)}\")"
   ]
  },
  {
   "cell_type": "code",
   "execution_count": 584,
   "metadata": {},
   "outputs": [
    {
     "data": {
      "text/plain": [
       "2.719620857142857"
      ]
     },
     "execution_count": 584,
     "metadata": {},
     "output_type": "execute_result"
    }
   ],
   "source": [
    "dist(2599)"
   ]
  },
  {
   "cell_type": "code",
   "execution_count": 578,
   "metadata": {},
   "outputs": [
    {
     "data": {
      "text/plain": [
       "array([ 133.3711 ,  133.68567,  136.01717, ..., 4654.     , 4655.     ,\n",
       "       4656.     ])"
      ]
     },
     "execution_count": 578,
     "metadata": {},
     "output_type": "execute_result"
    }
   ],
   "source": [
    "np.max(galaxies_data, axis=-1)"
   ]
  },
  {
   "cell_type": "code",
   "execution_count": 554,
   "metadata": {},
   "outputs": [
    {
     "data": {
      "text/plain": [
       "array([(2599., 120.05894 , 46.04257 , 0.00063458),\n",
       "       (2092., 183.03893 , 36.16891 , 0.00076181),\n",
       "       (1118., 210.62358 , 54.271004, 0.00166604), ...,\n",
       "       (1389., 209.23418 , 43.313477, 0.14989385),\n",
       "       (3007., 124.342316, 27.796206, 0.1501887 ),\n",
       "       (  27., 232.16734 , 43.022682, 0.27818364)],\n",
       "      dtype=[('Sno', '<f4'), ('Ra', '<f4'), ('Dec', '<f4'), ('Redshift', '<f4')])"
      ]
     },
     "execution_count": 554,
     "metadata": {},
     "output_type": "execute_result"
    }
   ],
   "source": [
    "from io import StringIO\n",
    "g_dat = np.loadtxt('galaxies.csv',dtype={'names': ('Sno','Ra','Dec','Redshift'),'formats':('f4','f4','f4','f4')},delimiter=',')\n",
    "np.sort(g_dat, order='Redshift')"
   ]
  },
  {
   "cell_type": "code",
   "execution_count": 605,
   "metadata": {},
   "outputs": [],
   "source": [
    "H0=70 #in km/s/Mpc\n",
    "c=3e5 #in km/s\n",
    "def cosine_law(s1, s2, ang_sep):\n",
    "    diff= (s1*s1)+(s2*s2)-2*s1*s2*np.cos(ang_sep)\n",
    "    return diff"
   ]
  },
  {
   "cell_type": "code",
   "execution_count": 607,
   "metadata": {},
   "outputs": [
    {
     "data": {
      "text/plain": [
       "3975.775704430489"
      ]
     },
     "execution_count": 607,
     "metadata": {},
     "output_type": "execute_result"
    }
   ],
   "source": [
    "i1=1000 #index 1\n",
    "i2=2000 #index 2\n",
    "ra1= galaxies_data[i1][1]\n",
    "ra2= galaxies_data[i2][1]\n",
    "dec1= galaxies_data[i1][2]\n",
    "dec2= galaxies_data[i2][2]\n",
    "ang_sep=np.sin(dec1)*np.sin(dec2) + np.cos(dec1)*np.cos(dec2)*np.cos(ra1-ra2)\n",
    "#ang_sep=np.arccos((np.sin(dec1)*np.sin(dec2))+(np.cos(dec1)*np.cos(dec2)*np.cos(ra1-ra2))\n",
    "cosine_law(dist(i1),dist(i2),ang_sep) "
   ]
  },
  {
   "cell_type": "code",
   "execution_count": 608,
   "metadata": {},
   "outputs": [
    {
     "name": "stdout",
     "output_type": "stream",
     "text": [
      "END OF ASSIGNMENT 03\n",
      "************************************************************************************************************************\n",
      "************************************************************************************************************************\n",
      "************************************************************************************************************************\n",
      "************************************************************************************************************************\n"
     ]
    }
   ],
   "source": [
    "print('END OF ASSIGNMENT 03')\n",
    "print('*'*120)\n",
    "print('*'*120)\n",
    "print('*'*120)\n",
    "print('*'*120)"
   ]
  },
  {
   "cell_type": "code",
   "execution_count": 298,
   "metadata": {},
   "outputs": [
    {
     "data": {
      "text/plain": [
       "[<matplotlib.lines.Line2D at 0x2631a766448>]"
      ]
     },
     "execution_count": 298,
     "metadata": {},
     "output_type": "execute_result"
    }
   ],
   "source": [
    "import matplotlib.pyplot as plt\n",
    "import numpy as np\n",
    "x=np.arange(0,2*np.pi,0.5)\n",
    "y=np.cos(x)\n",
    "plt.plot(x,y)"
   ]
  },
  {
   "cell_type": "code",
   "execution_count": 574,
   "metadata": {},
   "outputs": [],
   "source": [
    "plt.plot?"
   ]
  },
  {
   "cell_type": "code",
   "execution_count": 299,
   "metadata": {
    "scrolled": true
   },
   "outputs": [],
   "source": [
    "y=[]\n",
    "for i in range (1,1000,1):\n",
    "    y.append(i*i)\n",
    "y    \n",
    "plt.plot(y, color='red')\n",
    "plt.xlabel('x axis')\n",
    "plt.ylabel('y=x^2 axis')#plt.plot([2,4,8,16,32,164,128,])\n",
    "plt.show()"
   ]
  },
  {
   "cell_type": "code",
   "execution_count": 55,
   "metadata": {},
   "outputs": [],
   "source": [
    "plt.legend?"
   ]
  },
  {
   "cell_type": "code",
   "execution_count": 300,
   "metadata": {},
   "outputs": [
    {
     "data": {
      "text/plain": [
       "<matplotlib.legend.Legend at 0x2631a963f88>"
      ]
     },
     "execution_count": 300,
     "metadata": {},
     "output_type": "execute_result"
    }
   ],
   "source": [
    "xval= np.random.randn(1000)\n",
    "yval1= np.sin(np.pi*xval)+0.5*np.random.randn(1000)#xval\n",
    "yval2= np.cos(np.pi*xval)+0.5*np.random.randn(1000)#xval\n",
    "plt.figure(figsize=[8,6])\n",
    "plt.scatter(xval,yval1,s=1,c='green',label='Sine')\n",
    "plt.scatter(xval,yval2,s=1,c='red',label='cosine')\n",
    "plt.title('Scatter Plot')\n",
    "plt.xlabel('X values')\n",
    "plt.ylabel('Y values')\n",
    "plt.legend()"
   ]
  },
  {
   "cell_type": "code",
   "execution_count": 301,
   "metadata": {},
   "outputs": [],
   "source": [
    "data, freq, time = np.loadtxt('GW_data_file.csv',delimiter=',')\n",
    "plt.figure(figsize=[15,3])\n",
    "plt.plot(time,data,'r')\n",
    "plt.grid()\n",
    "plt.xlabel('Time')\n",
    "plt.ylabel('Strain Data')\n",
    "plt.show()"
   ]
  },
  {
   "cell_type": "code",
   "execution_count": 302,
   "metadata": {
    "scrolled": true
   },
   "outputs": [],
   "source": [
    "plt.figure(figsize=[15,3])\n",
    "plt.plot(time,freq,'b')\n",
    "plt.grid()\n",
    "plt.xlabel('Time')\n",
    "plt.ylabel('Frequency')\n",
    "plt.show()"
   ]
  },
  {
   "cell_type": "code",
   "execution_count": 122,
   "metadata": {},
   "outputs": [
    {
     "data": {
      "text/plain": [
       "array([  4,  10,  18,  27,  33,  52,  56,  66,  76,  86,  90, 102, 138,\n",
       "       152, 175, 201, 216, 225, 248, 252, 267, 273, 279, 283, 290, 329,\n",
       "       340, 345, 387, 419, 431, 453, 484, 526, 567, 605, 630, 664, 685,\n",
       "       701, 715, 725, 734, 742, 751, 757, 767, 776, 780, 794, 797, 809],\n",
       "      dtype=int64)"
      ]
     },
     "execution_count": 122,
     "metadata": {},
     "output_type": "execute_result"
    }
   ],
   "source": [
    "zero_crossings=np.where(np.diff(np.sign(data)))[0]\n",
    "zero_crossings\n",
    "#len(zero_crossings)"
   ]
  },
  {
   "cell_type": "code",
   "execution_count": null,
   "metadata": {},
   "outputs": [],
   "source": []
  },
  {
   "cell_type": "code",
   "execution_count": 110,
   "metadata": {},
   "outputs": [],
   "source": [
    "f=[]\n",
    "for i in range(len(zero_crossings)):\n",
    "    f.append(float(freq[zero_crossings[i]]))\n",
    "t=[]\n",
    "for i in range(len(zero_crossings)):\n",
    "    t.append(float(time[zero_crossings[i]]))\n",
    "    "
   ]
  },
  {
   "cell_type": "code",
   "execution_count": 123,
   "metadata": {},
   "outputs": [],
   "source": [
    "zc=[]\n",
    "for i in range(len(data)-1):\n",
    "    if (data[i]==0 and data[i+1]!=0):\n",
    "        zc.append(i)\n",
    "    elif (data[i]>0 and data[i+1]<0):\n",
    "        zc.append(i)\n",
    "    elif (data[i]<0 and data[i+1]>0):\n",
    "        zc.append(i)\n",
    "#zc        "
   ]
  },
  {
   "cell_type": "code",
   "execution_count": 286,
   "metadata": {},
   "outputs": [],
   "source": [
    "plt.figure(figsize=[10,5])\n",
    "plt.grid()\n",
    "plt.scatter(t,f,s=10,color='r')\n",
    "plt.ylabel('ZFrequency')\n",
    "plt.show()"
   ]
  },
  {
   "cell_type": "code",
   "execution_count": 287,
   "metadata": {},
   "outputs": [
    {
     "data": {
      "text/plain": [
       "[<matplotlib.lines.Line2D at 0x263182e5108>]"
      ]
     },
     "execution_count": 287,
     "metadata": {},
     "output_type": "execute_result"
    }
   ],
   "source": [
    "k=np.arange(0,50)\n",
    "plt.plot(k,k**k,'b--')"
   ]
  },
  {
   "cell_type": "code",
   "execution_count": 140,
   "metadata": {},
   "outputs": [
    {
     "name": "stdout",
     "output_type": "stream",
     "text": [
      "END OF ASSIGNMENT 04\n",
      "************************************************************************************************************************\n",
      "************************************************************************************************************************\n",
      "************************************************************************************************************************\n",
      "************************************************************************************************************************\n"
     ]
    }
   ],
   "source": [
    "print('END OF ASSIGNMENT 04')\n",
    "print('*'*120)\n",
    "print('*'*120)\n",
    "print('*'*120)\n",
    "print('*'*120)"
   ]
  },
  {
   "cell_type": "code",
   "execution_count": 2,
   "metadata": {},
   "outputs": [],
   "source": [
    "from astropy.io import fits\n",
    "import numpy as np\n",
    "import matplotlib.pyplot as plt\n",
    "from astropy.stats import sigma_clipped_stats"
   ]
  },
  {
   "cell_type": "code",
   "execution_count": 6,
   "metadata": {},
   "outputs": [
    {
     "name": "stdout",
     "output_type": "stream",
     "text": [
      "Filename: Messier3.fits\n",
      "No.    Name      Ver    Type      Cards   Dimensions   Format\n",
      "  0  PRIMARY       1 PrimaryHDU     115   (4096, 4108)   int16 (rescales to uint16)   \n"
     ]
    }
   ],
   "source": [
    "m3_fits=fits.open('Messier3.fits')\n",
    "m3_fits.info()"
   ]
  },
  {
   "cell_type": "code",
   "execution_count": 176,
   "metadata": {},
   "outputs": [
    {
     "data": {
      "text/plain": [
       "True"
      ]
     },
     "execution_count": 176,
     "metadata": {},
     "output_type": "execute_result"
    }
   ],
   "source": [
    "m3_header=m3_fits[0].header\n",
    "m3_header[0]"
   ]
  },
  {
   "cell_type": "code",
   "execution_count": 177,
   "metadata": {},
   "outputs": [
    {
     "data": {
      "text/plain": [
       "'start of exposure'"
      ]
     },
     "execution_count": 177,
     "metadata": {},
     "output_type": "execute_result"
    }
   ],
   "source": [
    "m3_header.comments['DATE-OBS'] #these are the comments in the Header file"
   ]
  },
  {
   "cell_type": "code",
   "execution_count": 191,
   "metadata": {},
   "outputs": [
    {
     "name": "stdout",
     "output_type": "stream",
     "text": [
      "(4108, 4096) uint16\n"
     ]
    }
   ],
   "source": [
    "m3_data=m3_fits[0].data\n",
    "#m3_data\n",
    "print(m3_data.shape, m3_data.dtype)"
   ]
  },
  {
   "cell_type": "code",
   "execution_count": 1331,
   "metadata": {},
   "outputs": [
    {
     "data": {
      "text/plain": [
       "[[5, 6, 7, 8]]"
      ]
     },
     "execution_count": 1331,
     "metadata": {},
     "output_type": "execute_result"
    }
   ],
   "source": [
    "a=[[[1,2],[99,98],3,4],[5,6,7,8],[9,10,11,12],[13,14,15,16]]\n",
    "#a[0][1][:1]\n",
    "a[1:2]"
   ]
  },
  {
   "cell_type": "code",
   "execution_count": 228,
   "metadata": {},
   "outputs": [
    {
     "name": "stdout",
     "output_type": "stream",
     "text": [
      "[[1450 1473 1413 1360 1280]\n",
      " [1397 1406 1453 1486 1383]\n",
      " [1328 1489 1553 1635 1546]\n",
      " [1442 1535 1661 1743 1548]\n",
      " [1418 1579 1702 1788 1575]]\n"
     ]
    }
   ],
   "source": [
    "print(m3_data[2020:2025,2010:2015])"
   ]
  },
  {
   "cell_type": "code",
   "execution_count": 235,
   "metadata": {},
   "outputs": [],
   "source": [
    "plt.imshow?"
   ]
  },
  {
   "cell_type": "code",
   "execution_count": 274,
   "metadata": {},
   "outputs": [
    {
     "data": {
      "text/plain": [
       "<Figure size 432x432 with 0 Axes>"
      ]
     },
     "execution_count": 274,
     "metadata": {},
     "output_type": "execute_result"
    },
    {
     "data": {
      "text/plain": [
       "<Figure size 432x432 with 0 Axes>"
      ]
     },
     "metadata": {},
     "output_type": "display_data"
    }
   ],
   "source": [
    "plt.figure(figsize=[6,6])\n",
    "#plt.imshow(m3_data,cmap='gray')"
   ]
  },
  {
   "cell_type": "code",
   "execution_count": 1381,
   "metadata": {},
   "outputs": [
    {
     "data": {
      "text/plain": [
       "(518.644561515872, 520.0, 14.913550654695545)"
      ]
     },
     "execution_count": 1381,
     "metadata": {},
     "output_type": "execute_result"
    }
   ],
   "source": [
    "mean, median , std=sigma_clipped_stats(m3_data)\n",
    "mean, median, std"
   ]
  },
  {
   "cell_type": "code",
   "execution_count": 1282,
   "metadata": {},
   "outputs": [
    {
     "name": "stdout",
     "output_type": "stream",
     "text": [
      "Warning: Cannot change to a different GUI toolkit: notebook. Using qt instead.\n"
     ]
    }
   ],
   "source": [
    "%matplotlib notebook"
   ]
  },
  {
   "cell_type": "code",
   "execution_count": 1382,
   "metadata": {},
   "outputs": [
    {
     "data": {
      "text/plain": [
       "<matplotlib.colorbar.Colorbar at 0x263cd161fc8>"
      ]
     },
     "execution_count": 1382,
     "metadata": {},
     "output_type": "execute_result"
    },
    {
     "data": {
      "image/png": "[encoded data removed]",
      "text/plain": [
       "<Figure size 432x432 with 2 Axes>"
      ]
     },
     "metadata": {
      "needs_background": "light"
     },
     "output_type": "display_data"
    }
   ],
   "source": [
    "plt.figure(figsize=[6,6])\n",
    "plt.imshow(m3_data, vmin=median-5*std, vmax= median+5*std,cmap = 'twilight' )\n",
    "plt.imshow(m3_data, vmin = median - 5*std, vmax = median + 5*std, cmap='gray')\n",
    "plt.colorbar()\n"
   ]
  },
  {
   "cell_type": "code",
   "execution_count": 1285,
   "metadata": {},
   "outputs": [],
   "source": [
    "%matplotlib inline"
   ]
  },
  {
   "cell_type": "code",
   "execution_count": 393,
   "metadata": {},
   "outputs": [
    {
     "name": "stdout",
     "output_type": "stream",
     "text": [
      "[[417 429 431]\n",
      " [418 429 415]\n",
      " [431 410 426]]\n"
     ]
    },
    {
     "data": {
      "text/plain": [
       "array([[417, 429, 431, ..., 419, 430, 423],\n",
       "       [418, 429, 415, ..., 431, 434, 418],\n",
       "       [431, 410, 426, ..., 426, 428, 434],\n",
       "       ...,\n",
       "       [434, 410, 405, ..., 425, 413, 423],\n",
       "       [402, 433, 424, ..., 421, 419, 428],\n",
       "       [425, 418, 419, ..., 416, 431, 402]], dtype=uint16)"
      ]
     },
     "execution_count": 393,
     "metadata": {},
     "output_type": "execute_result"
    }
   ],
   "source": [
    "a=[[1,2,3],[4,5,[6,44,55]],[7,8,9]]\n",
    "##len(m3_data[1,2])\n",
    "\n",
    "print(m3_data[0:3,0:3])\n",
    "m3_data"
   ]
  },
  {
   "cell_type": "code",
   "execution_count": 405,
   "metadata": {
    "scrolled": false
   },
   "outputs": [
    {
     "name": "stdout",
     "output_type": "stream",
     "text": [
      "[[ 0  1  2  3  4  5  6]\n",
      " [ 7  8  9 10 11 12 13]\n",
      " [14 15 16 17 18 19 20]\n",
      " [21 22 23 24 25 26 27]\n",
      " [28 29 30 31 32 33 34]]\n"
     ]
    },
    {
     "data": {
      "text/plain": [
       "array([ 0,  1,  2,  3,  4,  5,  6,  7,  8,  9, 10, 11, 12, 13, 14, 15, 16,\n",
       "       17, 18, 19, 20, 21, 22, 23, 24, 25, 26, 27, 28, 29, 30, 31, 32, 33,\n",
       "       34])"
      ]
     },
     "execution_count": 405,
     "metadata": {},
     "output_type": "execute_result"
    }
   ],
   "source": [
    "y = np.arange(35).reshape(5,7)\n",
    "print(y)\n",
    "y[0:5:3,0:2:1]\n",
    "f=y.flatten()\n",
    "f"
   ]
  },
  {
   "cell_type": "code",
   "execution_count": 445,
   "metadata": {},
   "outputs": [],
   "source": [
    "#plt.hist?\n",
    "#np.arange\n",
    "np.ndarray.flatten?\n",
    "plt.plot?"
   ]
  },
  {
   "cell_type": "code",
   "execution_count": 400,
   "metadata": {},
   "outputs": [
    {
     "data": {
      "text/plain": [
       "(array([2., 0., 0., 0., 0., 0., 0., 0., 0., 1.]),\n",
       " array([1. , 1.1, 1.2, 1.3, 1.4, 1.5, 1.6, 1.7, 1.8, 1.9, 2. ]),\n",
       " <a list of 10 Patch objects>)"
      ]
     },
     "execution_count": 400,
     "metadata": {},
     "output_type": "execute_result"
    }
   ],
   "source": [
    "a=[1,2,1]\n",
    "plt.hist(a)\n",
    "#plt.show()"
   ]
  },
  {
   "cell_type": "code",
   "execution_count": 548,
   "metadata": {},
   "outputs": [
    {
     "data": {
      "text/plain": [
       "(518.644561515872, 520.0, 14.913550654695545)"
      ]
     },
     "execution_count": 548,
     "metadata": {},
     "output_type": "execute_result"
    }
   ],
   "source": [
    "mean, median , std=sigma_clipped_stats(m3_data)\n",
    "mean, median ,std"
   ]
  },
  {
   "cell_type": "code",
   "execution_count": 553,
   "metadata": {
    "scrolled": true
   },
   "outputs": [
    {
     "data": {
      "text/plain": [
       "Text(0.5, 1, 'No of pixels vs Counts')"
      ]
     },
     "execution_count": 553,
     "metadata": {},
     "output_type": "execute_result"
    }
   ],
   "source": [
    "import numpy as np\n",
    "import matplotlib.pyplot as plt\n",
    "\n",
    "\n",
    "#MAKING THE SIZE OF BINS AND NUM_PIXELS EQUAL BY SHIFINTING THE INDEX AND TAKING MEAN  \n",
    "def background_pixel(array,max,min):\n",
    "    #bins=np.arange(vmin,vmax,1)\n",
    "    flattened_array=array.flatten()\n",
    "    num_pixels, bin_edges= np.histogram(flattened_array,bins=np.arange(min,max,1))\n",
    "    bins = 0.5*(bin_edges[1:] + bin_edges[:-1])\n",
    "    return num_pixels,bins\n",
    "\n",
    "\n"
   ]
  },
  {
   "cell_type": "code",
   "execution_count": 1213,
   "metadata": {},
   "outputs": [
    {
     "data": {
      "text/plain": [
       "Text(0.5, 1.0, 'With central cluster')"
      ]
     },
     "execution_count": 1213,
     "metadata": {},
     "output_type": "execute_result"
    },
    {
     "data": {
      "image/png": "[encoded data removed]",
      "text/plain": [
       "<Figure size 432x288 with 1 Axes>"
      ]
     },
     "metadata": {
      "needs_background": "light"
     },
     "output_type": "display_data"
    }
   ],
   "source": [
    "background_pixel(m3_data,vmin,vmax)\n",
    "vmin=median-5*std\n",
    "vmax=median+5*std\n",
    "plt.plot(bins,num_pixels)\n",
    "plt.grid()\n",
    "plt.xlabel('Counts')\n",
    "plt.ylabel('No of pixels')\n",
    "plt.title('With central cluster')\n",
    "#len(bins),len(bin_edges),len(num_pixels), len(flattened_array),max(flattened_array), min(flattened_array)\n",
    "#print(bin_edges)\n",
    "#print(bins)\n",
    "#print(bin_edges[1:])"
   ]
  },
  {
   "cell_type": "code",
   "execution_count": 534,
   "metadata": {},
   "outputs": [
    {
     "data": {
      "text/plain": [
       "[<matplotlib.lines.Line2D at 0x2633220e388>]"
      ]
     },
     "execution_count": 534,
     "metadata": {},
     "output_type": "execute_result"
    }
   ],
   "source": [
    "\n",
    "#FOR FULL DATA  \n",
    "\n",
    "#bins = 0.5*(bin_edges[1:] + bin_edges[:-1])\n",
    "#flattened_array=m3_data.flatten()\n",
    "#num_pixels, bin_edges= np.histogram(flattened_array,bins=np.arange(min(flattened_array),max(flattened_array),1))\n",
    "#plt.plot(bins,num_pixels,color='g')\n"
   ]
  },
  {
   "cell_type": "code",
   "execution_count": 480,
   "metadata": {},
   "outputs": [
    {
     "name": "stdout",
     "output_type": "stream",
     "text": [
      "MEAN FOR RESPECTIVE IMAGE SECTIONS: NW,NE,SE,SW,CENTRE\n",
      "--------------------------------------------------\n",
      "490.8842026666667\n",
      "487.45234311111113\n",
      "488.4348977777778\n",
      "486.1680977777778\n",
      "642.156984\n"
     ]
    }
   ],
   "source": [
    "print('MEAN FOR RESPECTIVE IMAGE SECTIONS: NW,NE,SE,SW,CENTRE')\n",
    "print('-'*50)\n",
    "data_1=m3_data[0:750,0:750]\n",
    "print(np.mean(data_1))\n",
    "data_2=m3_data[0:750,3250:4000]\n",
    "print(np.mean(data_2))\n",
    "data_3=m3_data[3250:4000,0:750]\n",
    "print(np.mean(data_3))\n",
    "data_4=m3_data[3250:4000,3250:4000]\n",
    "print(np.mean(data_4))\n",
    "data_5=m3_data[1750:2250,1750:2250]\n",
    "print(np.mean(data_5))"
   ]
  },
  {
   "cell_type": "code",
   "execution_count": 565,
   "metadata": {},
   "outputs": [],
   "source": [
    "plt.plot?"
   ]
  },
  {
   "cell_type": "code",
   "execution_count": 560,
   "metadata": {},
   "outputs": [
    {
     "data": {
      "text/plain": [
       "Text(0.5, 1.0, 'Without the central cluster')"
      ]
     },
     "execution_count": 560,
     "metadata": {},
     "output_type": "execute_result"
    }
   ],
   "source": [
    "exclude_cluster=np.concatenate([m3_data[:1000,:],m3_data[3000:,:],m3_data[1000:3000,:1000],m3_data[1000:3000,3000:]],axis=None)\n",
    "background_pixel(exclude_cluster,vmax,vmin)\n",
    "plt.plot(bins,num_pixels,color='r')\n",
    "plt.grid()\n",
    "plt.xlabel('Counts')\n",
    "plt.ylabel('No of pixels')\n",
    "plt.title('Without the central cluster')"
   ]
  },
  {
   "cell_type": "code",
   "execution_count": 1196,
   "metadata": {},
   "outputs": [
    {
     "data": {
      "image/png": "[encoded data removed]",
      "text/plain": [
       "<Figure size 432x288 with 1 Axes>"
      ]
     },
     "metadata": {
      "needs_background": "light"
     },
     "output_type": "display_data"
    }
   ],
   "source": [
    "background_pixel(exclude_cluster,vmax,vmin)\n",
    "plt.plot(bins,num_pixels,color='r')\n",
    "plt.xlabel('bins')\n",
    "plt.ylabel('number of pixels')\n",
    "#background_pixel(m3_data,vmin,vmax)\n",
    "#plt.plot(bins,num_pixels,color='g',linestyle='--')\n",
    "plt.grid()\n",
    "plt.show()"
   ]
  },
  {
   "cell_type": "code",
   "execution_count": 573,
   "metadata": {},
   "outputs": [
    {
     "name": "stdout",
     "output_type": "stream",
     "text": [
      "END OF ASSIGNMENT 05\n",
      "************************************************************************************************************************\n",
      "************************************************************************************************************************\n",
      "************************************************************************************************************************\n",
      "************************************************************************************************************************\n"
     ]
    }
   ],
   "source": [
    "print('END OF ASSIGNMENT 05')\n",
    "print('*'*120)\n",
    "print('*'*120)\n",
    "print('*'*120)\n",
    "print('*'*120)"
   ]
  },
  {
   "cell_type": "code",
   "execution_count": 596,
   "metadata": {},
   "outputs": [
    {
     "data": {
      "text/html": [
       "<html>\n",
       "    <head>\n",
       "        This is <i> first</i> webpage\n",
       "    </head>\n",
       "    <body>\n",
       "        <p class=\"neat\">\n",
       "        <b> This is really neat !</b>\n",
       "        </p>\n",
       "        <p class =\"neat very neat\">\n",
       "        <a href = \"https://www.wikipedia.org/\" id=\"very very neat\" >\n",
       "        Wikipedia, the Free Encyclopedia. </a>\n",
       "        </p>\n",
       "    </body>\n",
       "</html>\n"
      ],
      "text/plain": [
       "<IPython.core.display.HTML object>"
      ]
     },
     "metadata": {},
     "output_type": "display_data"
    }
   ],
   "source": [
    "%%HTML\n",
    "<html>\n",
    "    <head>\n",
    "        This is <i> first</i> webpage\n",
    "    </head>\n",
    "    <body>\n",
    "        <p class=\"neat\">\n",
    "        <b> This is really neat !</b>\n",
    "        </p>\n",
    "        <p class =\"neat very neat\">\n",
    "        <a href = \"https://www.wikipedia.org/\" id=\"very very neat\" >\n",
    "        Wikipedia, the Free Encyclopedia. </a>\n",
    "        </p>\n",
    "    </body>\n",
    "</html>"
   ]
  },
  {
   "cell_type": "code",
   "execution_count": 586,
   "metadata": {},
   "outputs": [
    {
     "data": {
      "text/html": [
       "<html>   \n",
       "\n",
       "    <head>                                    \n",
       "        This is <i>really</i> neat!           \n",
       "    </head>\n",
       "    \n",
       "    <body>                                    \n",
       "    \n",
       "        <p class = \"neat\">                     <!-- This 'p' tag is part of 1 class-->\n",
       "        <b>This is <i>really</i> neat!</b>\n",
       "        </p>                                  \n",
       "                \n",
       "        <p class = \"neat very-neat\">            <!--This 'p' tag is part of 2 classes-->    \n",
       "        <a href = \"https://www.tech-iitb.org/krittika/\" id=\"very-very-neat\">\n",
       "        Krittika, the Astronomy Club of IIT Bombay </a>  \n",
       "        </p>\n",
       "    </body>\n",
       "    \n",
       "</html>\n"
      ],
      "text/plain": [
       "<IPython.core.display.HTML object>"
      ]
     },
     "metadata": {},
     "output_type": "display_data"
    }
   ],
   "source": [
    "%%HTML\n",
    "<html>   \n",
    "\n",
    "    <head>                                    \n",
    "        This is <i>really</i> neat!           \n",
    "    </head>\n",
    "    \n",
    "    <body>                                    \n",
    "    \n",
    "        <p class = \"neat\">                     <!-- This 'p' tag is part of 1 class-->\n",
    "        <b>This is <i>really</i> neat!</b>\n",
    "        </p>                                  \n",
    "                \n",
    "        <p class = \"neat very-neat\">            <!--This 'p' tag is part of 2 classes-->    \n",
    "        <a href = \"https://www.tech-iitb.org/krittika/\" id=\"very-very-neat\">\n",
    "        Krittika, the Astronomy Club of IIT Bombay </a>  \n",
    "        </p>\n",
    "    </body>\n",
    "    \n",
    "</html>"
   ]
  },
  {
   "cell_type": "code",
   "execution_count": 598,
   "metadata": {},
   "outputs": [
    {
     "data": {
      "text/plain": [
       "<Response [200]>"
      ]
     },
     "execution_count": 598,
     "metadata": {},
     "output_type": "execute_result"
    }
   ],
   "source": [
    "import requests\n",
    "page=requests.get(\"https://fathimazarin.github.io/simple.html\")\n",
    "page"
   ]
  },
  {
   "cell_type": "code",
   "execution_count": 601,
   "metadata": {},
   "outputs": [
    {
     "data": {
      "text/plain": [
       "b'<html>   \\n\\n    <head>                                    \\n        This is <i>really</i> neat!          \\n    </head>\\n    \\n    <body>                                    \\n    \\n        <p class = \"neat\">\\n        <b>This is <i>really</i> neat!</b>\\n        </p>                                  \\n                \\n        <p class = \"neat very-neat\">        \\n        <a href = \"https://www.tech-iitb.org/krittika/\" id=\"very-very-neat\">\\nKrittika, the Astronomy Club of IIT Bombay</a>  \\n            \\n        </p>\\n    </body>\\n    \\n</html>\\n'"
      ]
     },
     "execution_count": 601,
     "metadata": {},
     "output_type": "execute_result"
    }
   ],
   "source": [
    "page.content"
   ]
  },
  {
   "cell_type": "code",
   "execution_count": 608,
   "metadata": {},
   "outputs": [],
   "source": [
    "from bs4 import BeautifulSoup\n",
    "soup = BeautifulSoup(page.content, 'html.parser')"
   ]
  },
  {
   "cell_type": "code",
   "execution_count": 1205,
   "metadata": {},
   "outputs": [],
   "source": [
    "#print(soup.prettify())\n"
   ]
  },
  {
   "cell_type": "code",
   "execution_count": 610,
   "metadata": {},
   "outputs": [
    {
     "data": {
      "text/plain": [
       "<p class=\"neat\">\n",
       "<b>This is <i>really</i> neat!</b>\n",
       "</p>"
      ]
     },
     "execution_count": 610,
     "metadata": {},
     "output_type": "execute_result"
    }
   ],
   "source": [
    "soup.find('p') #What datatype does it return?\n"
   ]
  },
  {
   "cell_type": "code",
   "execution_count": 611,
   "metadata": {},
   "outputs": [
    {
     "data": {
      "text/plain": [
       "'\\nThis is really neat!\\n'"
      ]
     },
     "execution_count": 611,
     "metadata": {},
     "output_type": "execute_result"
    }
   ],
   "source": [
    "soup.find_all('p')[0].get_text()\n"
   ]
  },
  {
   "cell_type": "code",
   "execution_count": 612,
   "metadata": {},
   "outputs": [
    {
     "data": {
      "text/plain": [
       "'\\n\\nKrittika, the Astronomy Club of IIT Bombay\\n'"
      ]
     },
     "execution_count": 612,
     "metadata": {},
     "output_type": "execute_result"
    }
   ],
   "source": [
    "soup.find_all('p')[1].get_text()\n"
   ]
  },
  {
   "cell_type": "code",
   "execution_count": 615,
   "metadata": {},
   "outputs": [
    {
     "name": "stdout",
     "output_type": "stream",
     "text": [
      "\n",
      "\n",
      "Krittika, the Astronomy Club of IIT Bombay\n",
      "\n"
     ]
    }
   ],
   "source": [
    "print(soup.find_all('p')[1].get_text())     #Why do you think there is a difference in output ?\n"
   ]
  },
  {
   "cell_type": "code",
   "execution_count": 616,
   "metadata": {},
   "outputs": [
    {
     "data": {
      "text/plain": [
       "<p class=\"neat very-neat\">\n",
       "<a href=\"https://www.tech-iitb.org/krittika/\" id=\"very-very-neat\">\n",
       "Krittika, the Astronomy Club of IIT Bombay</a>\n",
       "</p>"
      ]
     },
     "execution_count": 616,
     "metadata": {},
     "output_type": "execute_result"
    }
   ],
   "source": [
    "krittika=soup.find_all('p')[1]\n",
    "krittika"
   ]
  },
  {
   "cell_type": "code",
   "execution_count": 617,
   "metadata": {},
   "outputs": [
    {
     "data": {
      "text/plain": [
       "[<a href=\"https://www.tech-iitb.org/krittika/\" id=\"very-very-neat\">\n",
       " Krittika, the Astronomy Club of IIT Bombay</a>]"
      ]
     },
     "execution_count": 617,
     "metadata": {},
     "output_type": "execute_result"
    }
   ],
   "source": [
    "krittika.find_all('a')  #The find_all() function can also be used to search for tags inside a parent tag\n"
   ]
  },
  {
   "cell_type": "code",
   "execution_count": 620,
   "metadata": {},
   "outputs": [
    {
     "data": {
      "text/plain": [
       "<a href=\"https://www.tech-iitb.org/krittika/\" id=\"very-very-neat\">\n",
       "Krittika, the Astronomy Club of IIT Bombay</a>"
      ]
     },
     "execution_count": 620,
     "metadata": {},
     "output_type": "execute_result"
    }
   ],
   "source": [
    "krittika.find_all('a')[0]\n"
   ]
  },
  {
   "cell_type": "code",
   "execution_count": 621,
   "metadata": {},
   "outputs": [
    {
     "data": {
      "text/plain": [
       "'\\nKrittika, the Astronomy Club of IIT Bombay'"
      ]
     },
     "execution_count": 621,
     "metadata": {},
     "output_type": "execute_result"
    }
   ],
   "source": [
    "krittika.find_all('a')[0].get_text()\n"
   ]
  },
  {
   "cell_type": "code",
   "execution_count": 632,
   "metadata": {},
   "outputs": [
    {
     "data": {
      "text/plain": [
       "'Krittika, the Astronomy Club of IIT Bombay'"
      ]
     },
     "execution_count": 632,
     "metadata": {},
     "output_type": "execute_result"
    }
   ],
   "source": [
    "soup.find_all('p')[1].get_text().replace('\\n','')  #What do you think this code does?\n"
   ]
  },
  {
   "cell_type": "code",
   "execution_count": 633,
   "metadata": {},
   "outputs": [
    {
     "data": {
      "text/plain": [
       "[<p class=\"neat\">\n",
       " <b>This is <i>really</i> neat!</b>\n",
       " </p>,\n",
       " <p class=\"neat very-neat\">\n",
       " <a href=\"https://www.tech-iitb.org/krittika/\" id=\"very-very-neat\">\n",
       " Krittika, the Astronomy Club of IIT Bombay</a>\n",
       " </p>]"
      ]
     },
     "execution_count": 633,
     "metadata": {},
     "output_type": "execute_result"
    }
   ],
   "source": [
    "soup.find_all('p', attrs={\"class\":\"neat\"})\n"
   ]
  },
  {
   "cell_type": "code",
   "execution_count": 634,
   "metadata": {},
   "outputs": [
    {
     "data": {
      "text/plain": [
       "[<p class=\"neat very-neat\">\n",
       " <a href=\"https://www.tech-iitb.org/krittika/\" id=\"very-very-neat\">\n",
       " Krittika, the Astronomy Club of IIT Bombay</a>\n",
       " </p>]"
      ]
     },
     "execution_count": 634,
     "metadata": {},
     "output_type": "execute_result"
    }
   ],
   "source": [
    "soup.find_all('p',attrs={\"class\":\"very-neat\"})\n"
   ]
  },
  {
   "cell_type": "code",
   "execution_count": 635,
   "metadata": {},
   "outputs": [
    {
     "data": {
      "text/plain": [
       "[<a href=\"https://www.tech-iitb.org/krittika/\" id=\"very-very-neat\">\n",
       " Krittika, the Astronomy Club of IIT Bombay</a>]"
      ]
     },
     "execution_count": 635,
     "metadata": {},
     "output_type": "execute_result"
    }
   ],
   "source": [
    "soup.find_all(id=\"very-very-neat\")\n"
   ]
  },
  {
   "cell_type": "code",
   "execution_count": 636,
   "metadata": {},
   "outputs": [],
   "source": [
    "#ACTUAL WEBPAGES XD"
   ]
  },
  {
   "cell_type": "code",
   "execution_count": 670,
   "metadata": {},
   "outputs": [],
   "source": [
    "page=requests.get(\"https://en.wikipedia.org/wiki/Lists_of_stars_by_constellation\")\n",
    "soup=BeautifulSoup(page.content, \"html.parser\")"
   ]
  },
  {
   "cell_type": "code",
   "execution_count": 671,
   "metadata": {},
   "outputs": [
    {
     "name": "stdout",
     "output_type": "stream",
     "text": [
      "['Andromeda', 'Antlia', 'Apus', 'Aquarius', 'Aquila', 'Ara', 'Aries', 'Auriga', 'Boötes', 'Caelum', 'Camelopardalis', 'Cancer', 'Canes Venatici', 'Canis Major', 'Canis Minor', 'Capricornus', 'Carina', 'Cassiopeia', 'Centaurus', 'Cepheus', 'Cetus', 'Chamaeleon ', 'Circinus', 'Columba', 'Coma Berenices', 'Corona Australis', 'Corona Borealis', 'Corvus', 'Crater', 'Crux', 'Cygnus', 'Delphinus', 'Dorado', 'Draco', 'Equuleus', 'Eridanus', 'Fornax', 'Gemini', 'Grus', 'Hercules', 'Horologium', 'Hydra', 'Hydrus', 'Indus ', 'Lacerta', 'Leo', 'Leo Minor', 'Lepus', 'Libra', 'Lupus', 'Lynx', 'Lyra', 'Mensa', 'Microscopium', 'Monoceros', 'Musca', 'Norma', 'Octans', 'Ophiuchus', 'Orion', 'Pavo', 'Pegasus', 'Perseus', 'Phoenix', 'Pictor', 'Pisces ', 'Piscis Austrinus', 'Puppis', 'Pyxis', 'Reticulum', 'Sagitta', 'Sagittarius', 'Scorpius', 'Sculptor', 'Scutum', 'Serpens', 'Sextans', 'Taurus', 'Telescopium', 'Triangulum', 'Triangulum Australe', 'Tucana', 'Ursa Major', 'Ursa Minor', 'Vela', 'Virgo', 'Volans', 'Vulpecula ']\n"
     ]
    }
   ],
   "source": [
    "soup.find_all('li')\n",
    "#print(soup.find_all('li')[7].get_text())\n",
    "constellations=[]\n",
    "for element in soup.find_all('li')[5:93]:\n",
    "    constellations.append(element.get_text())\n",
    "print(constellations)    "
   ]
  },
  {
   "cell_type": "code",
   "execution_count": 702,
   "metadata": {},
   "outputs": [],
   "source": [
    "import requests\n",
    "import numpy as np\n",
    "from bs4 import BeautifulSoup\n",
    "import matplotlib.pyplot as plt"
   ]
  },
  {
   "cell_type": "code",
   "execution_count": 703,
   "metadata": {},
   "outputs": [],
   "source": [
    "def get_coords(ra_s, dec_s):\n",
    "    h_ind = ra_s.find('h')\n",
    "    m_ind = ra_s.find('m')\n",
    "    s_ind = ra_s.find('s')    \n",
    "    h = float(ra_s[:h_ind])\n",
    "    m = float(ra_s[(h_ind+1):m_ind])\n",
    "    s = float(ra_s[(m_ind+1):s_ind])\n",
    "    ra = h + m/60 + s/3600\n",
    "    if dec_s[0] == '+':\n",
    "        sign = 1\n",
    "    else:\n",
    "        sign = -1\n",
    "    d_ind = dec_s.find('°')\n",
    "    m_ind = dec_s.find('′')\n",
    "    s_ind = dec_s.find('″')\n",
    "    d = float(dec_s[1:d_ind])\n",
    "    m = float(dec_s[(d_ind+1):m_ind])\n",
    "    s = float(dec_s[(m_ind+1):s_ind])\n",
    "    dec = sign*(d + m/60 + s/3600)\n",
    "    return ra, dec"
   ]
  },
  {
   "cell_type": "code",
   "execution_count": 764,
   "metadata": {},
   "outputs": [],
   "source": [
    "def get_map(constellation):           #The get_map() that does not skip stars\n",
    "    url = f'https://en.wikipedia.org/wiki/List_of_stars_in_{constellation}'\n",
    "    r = requests.get(url)\n",
    "\n",
    "    soup = BeautifulSoup(r.content, 'lxml')\n",
    "\n",
    "    tab = soup.find_all('table', attrs={'class':'wikitable sortable'})[0]\n",
    "\n",
    "    data = [[]]\n",
    "    for i in tab.find_all('tr'):\n",
    "        row = []\n",
    "        for j in i.find_all('td'):\n",
    "            row.append(j.get_text())\n",
    "        data.append(row)\n",
    "\n",
    "    heads = []\n",
    "    for i in tab.find_all('tr')[:1]:\n",
    "        for j in i.find_all('th'):\n",
    "            heads.append(j.get_text().strip('\\n'))\n",
    "\n",
    "    name_ind = heads.index('Name')\n",
    "    ra_ind = heads.index('RA')\n",
    "    dec_ind = heads.index('Dec')\n",
    "\n",
    "    mag_ind = heads.index('vis.mag.')\n",
    "\n",
    "    name = []\n",
    "    ra = []\n",
    "    dec = []\n",
    "    mag = []\n",
    "    for i in data[2:-2]:\n",
    "        name_string = i[name_ind]\n",
    "        \n",
    "        if i[ra_ind] != '' and i[dec_ind] != '' and i[mag_ind] != '' and i[ra_ind] != ' ' and i[dec_ind] != ' ' and i[mag_ind] != ' ' and i[mag_ind][0] != 'n':\n",
    "            ra_string = i[ra_ind].replace('\\xa0', '')\n",
    "            dec_string = i[dec_ind].replace('\\xa0', '')\n",
    "            mag_string = i[mag_ind]\n",
    "            if mag_string[0]=='−':\n",
    "                mag_string = '-'+mag_string[1:]\n",
    "            if mag_string[0]=='~':\n",
    "                mag_string = mag_string[1:]\n",
    "            mag_str = mag_string[0]\n",
    "            for c in mag_string[1:]:\n",
    "                if ord(c) > 45 and ord(c) < 59:\n",
    "                    mag_str += c\n",
    "                else:\n",
    "                    break\n",
    "            i = mag_string.find('.')\n",
    "            mag_string = mag_string[:(i+3)]\n",
    "                                \n",
    "            ra_i, dec_i = get_coords(ra_string, dec_string)\n",
    "            mag.append(float(mag_str))\n",
    "            name.append(name_string)\n",
    "            ra.append(ra_i)\n",
    "            dec.append(dec_i)\n",
    "\n",
    "    name = np.array(name)\n",
    "    ra = np.array(ra)\n",
    "    dec = np.array(dec)\n",
    "    mag = np.array(mag)\n",
    "    return name, ra, dec, mag"
   ]
  },
  {
   "cell_type": "code",
   "execution_count": 833,
   "metadata": {},
   "outputs": [],
   "source": [
    "name, ra, dec, mag=get_map('Orion')\n",
    "#name, ra, dec, mag\n",
    "#print(ra)\n"
   ]
  },
  {
   "cell_type": "code",
   "execution_count": 681,
   "metadata": {},
   "outputs": [
    {
     "data": {
      "text/plain": [
       "1.2246467991473532e-16"
      ]
     },
     "execution_count": 681,
     "metadata": {},
     "output_type": "execute_result"
    }
   ],
   "source": [
    "np.sin(np.pi)"
   ]
  },
  {
   "cell_type": "code",
   "execution_count": 755,
   "metadata": {},
   "outputs": [
    {
     "name": "stdout",
     "output_type": "stream",
     "text": [
      "Warning: Cannot change to a different GUI toolkit: notebook. Using qt instead.\n"
     ]
    }
   ],
   "source": [
    "%matplotlib notebook"
   ]
  },
  {
   "cell_type": "code",
   "execution_count": 834,
   "metadata": {},
   "outputs": [],
   "source": [
    "def stereo_project(ra,dec):\n",
    "    #theta=np.deg2rad(ra)*15\n",
    "    #phi=np.deg2rad(dec)\n",
    "    theta = np.deg2rad(90-dec + dec.mean())\n",
    "    phi = np.deg2rad((ra-ra.mean())*15)\n",
    "    R=np.cos(phi/2)/np.sin(phi/2)\n",
    "    Theta=theta\n",
    "    x=np.cos(theta)*np.sin(phi)\n",
    "    y=np.sin(theta)*np.sin(phi)\n",
    "    z=np.cos(phi)\n",
    "    X=x/(1-z)\n",
    "    Y=y/(1-z)\n",
    "    return X,Y"
   ]
  },
  {
   "cell_type": "code",
   "execution_count": 789,
   "metadata": {},
   "outputs": [],
   "source": [
    "plt.scatter?"
   ]
  },
  {
   "cell_type": "code",
   "execution_count": 847,
   "metadata": {},
   "outputs": [
    {
     "data": {
      "text/plain": [
       "<matplotlib.collections.PathCollection at 0x2638c3afd88>"
      ]
     },
     "execution_count": 847,
     "metadata": {},
     "output_type": "execute_result"
    }
   ],
   "source": [
    "s= 10**(-mag/2.5)\n",
    "t=s/s.max()*50\n",
    "X,Y=stereo_project(ra,dec)\n",
    "plt.figure(figsize=(10,10))\n",
    "plt.gca().set_facecolor('k')\n",
    "#plt.xticks([])\n",
    "#plt.yticks([])\n",
    "#plt.xlim(0.75,1.43)\n",
    "#plt.ylim(-0.29,0.29)\n",
    "plt.scatter(X,Y,s=t,norm=50,color='w')"
   ]
  },
  {
   "cell_type": "code",
   "execution_count": 761,
   "metadata": {},
   "outputs": [
    {
     "data": {
      "text/plain": [
       "[<matplotlib.lines.Line2D at 0x2633cbfeec8>]"
      ]
     },
     "execution_count": 761,
     "metadata": {},
     "output_type": "execute_result"
    }
   ],
   "source": [
    "#R,Theta=stereo_project(ra,dec)\n",
    "#plt.polar(R,Theta,'ro')"
   ]
  },
  {
   "cell_type": "code",
   "execution_count": 733,
   "metadata": {},
   "outputs": [],
   "source": [
    "import requests\n",
    "from bs4 import BeautifulSoup"
   ]
  },
  {
   "cell_type": "code",
   "execution_count": 734,
   "metadata": {},
   "outputs": [],
   "source": [
    "\n",
    "import numpy as np\n",
    "import matplotlib.pyplot as plt"
   ]
  },
  {
   "cell_type": "code",
   "execution_count": 735,
   "metadata": {},
   "outputs": [],
   "source": [
    "def get_map(constellation):           #The get_map() that does not skip stars\n",
    "    url = f'https://en.wikipedia.org/wiki/List_of_stars_in_{constellation}'\n",
    "    r = requests.get(url)\n",
    "\n",
    "    soup = BeautifulSoup(r.content, 'lxml')\n",
    "\n",
    "    tab = soup.find_all('table', attrs={'class':'wikitable sortable'})[0]\n",
    "\n",
    "    data = [[]]\n",
    "    for i in tab.find_all('tr'):\n",
    "        row = []\n",
    "        for j in i.find_all('td'):\n",
    "            row.append(j.get_text())\n",
    "        data.append(row)\n",
    "\n",
    "    heads = []\n",
    "    for i in tab.find_all('tr')[:1]:\n",
    "        for j in i.find_all('th'):\n",
    "            heads.append(j.get_text().strip('\\n'))\n",
    "\n",
    "    name_ind = heads.index('Name')\n",
    "    ra_ind = heads.index('RA')\n",
    "    dec_ind = heads.index('Dec')\n",
    "\n",
    "    mag_ind = heads.index('vis.mag.')\n",
    "\n",
    "    name = []\n",
    "    ra = []\n",
    "    dec = []\n",
    "    mag = []\n",
    "    for i in data[2:-2]:\n",
    "        name_string = i[name_ind]\n",
    "        \n",
    "        if i[ra_ind] != '' and i[dec_ind] != '' and i[mag_ind] != '' and i[ra_ind] != ' ' and i[dec_ind] != ' ' and i[mag_ind] != ' ' and i[mag_ind][0] != 'n':\n",
    "            ra_string = i[ra_ind].replace('\\xa0', '')\n",
    "            dec_string = i[dec_ind].replace('\\xa0', '')\n",
    "            mag_string = i[mag_ind]\n",
    "            if mag_string[0]=='−':\n",
    "                mag_string = '-'+mag_string[1:]\n",
    "            if mag_string[0]=='~':\n",
    "                mag_string = mag_string[1:]\n",
    "            mag_str = mag_string[0]\n",
    "            for c in mag_string[1:]:\n",
    "                if ord(c) > 45 and ord(c) < 59:\n",
    "                    mag_str += c\n",
    "                else:\n",
    "                    break\n",
    "            i = mag_string.find('.')\n",
    "            mag_string = mag_string[:(i+3)]\n",
    "                                \n",
    "            ra_i, dec_i = get_coords(ra_string, dec_string)\n",
    "            mag.append(float(mag_str))\n",
    "            name.append(name_string)\n",
    "            ra.append(ra_i)\n",
    "            dec.append(dec_i)\n",
    "\n",
    "    name = np.array(name)\n",
    "    ra = np.array(ra)\n",
    "    dec = np.array(dec)\n",
    "    mag = np.array(mag)\n",
    "    return name, ra, dec, mag"
   ]
  },
  {
   "cell_type": "code",
   "execution_count": null,
   "metadata": {},
   "outputs": [],
   "source": [
    "def project(ra, dec): # Stereographic Projection. \n",
    "    theta = np.deg2rad(90-dec + dec.mean())\n",
    "    phi = np.deg2rad((ra-ra.mean())*15)\n",
    "    x = np.sin(theta)*np.cos(phi)\n",
    "    y = np.sin(theta)*np.sin(phi)\n",
    "    z = np.cos(theta)\n",
    "    X = x/(1-z)\n",
    "    Y = y/(1-z)\n",
    "    return X,Y"
   ]
  },
  {
   "cell_type": "code",
   "execution_count": 846,
   "metadata": {},
   "outputs": [],
   "source": [
    "def plot(constellation, return_data = False, orientation=0, norm=50, **kwargs):   \n",
    "    name, ra, dec, mag = get_map(constellation)\n",
    "    x, y = project(ra, dec)\n",
    "    s = 10**(-mag/2.5)\n",
    "    if norm!=None:\n",
    "        s= s/s.max()*norm\n",
    "    if 'figure' not in kwargs:\n",
    "        plt.figure(figsize=(10,10))\n",
    "    plt.gca().set_facecolor('k')\n",
    "    if 'color' not in kwargs:\n",
    "        kwargs['color'] = 'w'\n",
    "    if orientation == 0:\n",
    "        plt.scatter(x, y, s=s, **kwargs)\n",
    "    elif orientation == 1:\n",
    "        plt.scatter(-y, x, s=s, **kwargs)\n",
    "    elif orientation == 2:\n",
    "        plt.scatter(-x, -y, s=s, **kwargs)\n",
    "    elif orientation == 3:\n",
    "        plt.scatter(y, -x, s=s, **kwargs)\n",
    "    #plt.xticks([])\n",
    "    #plt.yticks([])\n",
    "    if return_data:\n",
    "        return name, ra, dec, mag, s"
   ]
  },
  {
   "cell_type": "code",
   "execution_count": 845,
   "metadata": {},
   "outputs": [],
   "source": [
    "plot('Orion',orientation=0)"
   ]
  },
  {
   "cell_type": "code",
   "execution_count": 848,
   "metadata": {},
   "outputs": [],
   "source": [
    "##TASK 2###"
   ]
  },
  {
   "cell_type": "code",
   "execution_count": 925,
   "metadata": {},
   "outputs": [],
   "source": [
    "moon_page=requests.get(\"https://en.wikipedia.org/wiki/List_of_natural_satellites\")\n",
    "soup= BeautifulSoup(moon_page.content,'lxml')\n",
    "table = soup.find_all('table', attrs={'class':'wikitable sortable'})[0]\n",
    "data = [[]]\n",
    "for i in table.find_all('tr'):\n",
    "    row = []\n",
    "    for j in i.find_all('td'):\n",
    "        row.append(j.get_text())\n",
    "    data.append(row)\n",
    "heads = []\n",
    "for i in table.find_all('tr')[:1]:\n",
    "    for j in i.find_all('th'):\n",
    "        heads.append(j.get_text().strip('\\n'))\n",
    "#del_data=np.delete(data,1,0) \n",
    "#data\n",
    "#heads"
   ]
  },
  {
   "cell_type": "code",
   "execution_count": 920,
   "metadata": {},
   "outputs": [
    {
     "data": {
      "text/plain": [
       "220"
      ]
     },
     "execution_count": 920,
     "metadata": {},
     "output_type": "execute_result"
    }
   ],
   "source": [
    "final=[[]]\n",
    "final[0]=[\"Name of moon\",\"Planet\",\"Radius\"]\n",
    "for i in data:\n",
    "    if i!=[]:\n",
    "        final.append([i[3],i[1],i[4]])\n",
    "final \n",
    "len(final)"
   ]
  },
  {
   "cell_type": "code",
   "execution_count": 926,
   "metadata": {},
   "outputs": [],
   "source": [
    "for i in final[1:-1]:\n",
    "    i[2]=i[2].split('±')[0]\n",
    "#final    "
   ]
  },
  {
   "cell_type": "code",
   "execution_count": 928,
   "metadata": {},
   "outputs": [
    {
     "name": "stdout",
     "output_type": "stream",
     "text": [
      "END OF ASSIGNMENT 06\n",
      "************************************************************************************************************************\n",
      "************************************************************************************************************************\n",
      "************************************************************************************************************************\n",
      "************************************************************************************************************************\n"
     ]
    }
   ],
   "source": [
    "print('END OF ASSIGNMENT 06')\n",
    "print('*'*120)\n",
    "print('*'*120)\n",
    "print('*'*120)\n",
    "print('*'*120)"
   ]
  },
  {
   "cell_type": "code",
   "execution_count": 929,
   "metadata": {},
   "outputs": [],
   "source": [
    "%matplotlib inline"
   ]
  },
  {
   "cell_type": "code",
   "execution_count": 932,
   "metadata": {},
   "outputs": [],
   "source": [
    "import numpy as np\n",
    "from scipy.optimize import curve_fit as cf\n",
    "import matplotlib.pyplot as plt"
   ]
  },
  {
   "cell_type": "code",
   "execution_count": 951,
   "metadata": {},
   "outputs": [],
   "source": [
    "def newton(r,G,m):\n",
    "    return G*m*m/(r*r)"
   ]
  },
  {
   "cell_type": "code",
   "execution_count": 939,
   "metadata": {},
   "outputs": [
    {
     "data": {
      "text/plain": [
       "0.00503"
      ]
     },
     "execution_count": 939,
     "metadata": {},
     "output_type": "execute_result"
    }
   ],
   "source": [
    "x=5.03e-3\n",
    "x"
   ]
  },
  {
   "cell_type": "code",
   "execution_count": 966,
   "metadata": {
    "scrolled": true
   },
   "outputs": [
    {
     "data": {
      "text/plain": [
       "<matplotlib.collections.PathCollection at 0x26392318448>"
      ]
     },
     "execution_count": 966,
     "metadata": {},
     "output_type": "execute_result"
    },
    {
     "data": {
      "image/png": "[encoded data removed]",
      "text/plain": [
       "<Figure size 432x288 with 1 Axes>"
      ]
     },
     "metadata": {
      "needs_background": "light"
     },
     "output_type": "display_data"
    }
   ],
   "source": [
    "x_data = np.arange(1,100,1)\n",
    "y_data = newton(x_data, 1, 1)\n",
    "plt.scatter(x_data,y_data,s=1,color='k')"
   ]
  },
  {
   "cell_type": "code",
   "execution_count": 956,
   "metadata": {},
   "outputs": [
    {
     "data": {
      "text/plain": [
       "(array([1., 1.]),\n",
       " array([[ 0., -0.],\n",
       "        [-0.,  0.]]))"
      ]
     },
     "execution_count": 956,
     "metadata": {},
     "output_type": "execute_result"
    }
   ],
   "source": [
    "p_opt,p_cov=cf(newton,x_data,y_data)\n",
    "p_opt,p_cov"
   ]
  },
  {
   "cell_type": "code",
   "execution_count": 963,
   "metadata": {},
   "outputs": [
    {
     "data": {
      "text/plain": [
       "<matplotlib.collections.PathCollection at 0x26390e8e3c8>"
      ]
     },
     "execution_count": 963,
     "metadata": {},
     "output_type": "execute_result"
    },
    {
     "data": {
      "image/png": "[encoded data removed]",
      "text/plain": [
       "<Figure size 432x288 with 1 Axes>"
      ]
     },
     "metadata": {
      "needs_background": "light"
     },
     "output_type": "display_data"
    }
   ],
   "source": [
    "plt.plot(x_data, newton(x_data,*p_opt),label='best fit',color='k')\n",
    "plt.scatter(x_data,y_data,label='OG data',s=1,color='darkorange')"
   ]
  },
  {
   "cell_type": "code",
   "execution_count": 975,
   "metadata": {},
   "outputs": [
    {
     "data": {
      "text/plain": [
       "<matplotlib.legend.Legend at 0x2638cf70c08>"
      ]
     },
     "execution_count": 975,
     "metadata": {},
     "output_type": "execute_result"
    },
    {
     "data": {
      "image/png": "[encoded data removed]",
      "text/plain": [
       "<Figure size 432x288 with 1 Axes>"
      ]
     },
     "metadata": {
      "needs_background": "light"
     },
     "output_type": "display_data"
    }
   ],
   "source": [
    "def lin_func(x,m,c):\n",
    "    return m*x + c\n",
    "xdata = np.arange(0,4,0.01)\n",
    "ydata = lin_func(xdata,1.2,1.5) + 0.2 * np.random.randn(len(xdata))\n",
    "#plt.scatter(xdata,ydata,s=1)\n",
    "p_opt, p_cov = cf(lin_func,xdata,ydata)\n",
    "#plt.figure(figsize=[10,10])\n",
    "plt.plot(xdata,lin_func(xdata,*p_opt),label='Best Fit',color='g')\n",
    "# * before a separable object unpacks it. So you don't need to write lin_func(xdata,p_opt[0],p_opt[1]). The *\n",
    "# does it for you.\n",
    "plt.scatter(xdata,ydata,label='OG_Data',s=1,color='darkorange')\n",
    "# Yes, you can have scatter plot and a normal plot in one\n",
    "plt.xlabel('x')\n",
    "plt.ylabel('y')\n",
    "plt.title('Linear Fit')\n",
    "plt.legend()"
   ]
  },
  {
   "cell_type": "code",
   "execution_count": 977,
   "metadata": {},
   "outputs": [
    {
     "data": {
      "text/plain": [
       "<matplotlib.collections.PathCollection at 0x2639089b3c8>"
      ]
     },
     "execution_count": 977,
     "metadata": {},
     "output_type": "execute_result"
    },
    {
     "data": {
      "image/png": "[encoded data removed]",
      "text/plain": [
       "<Figure size 432x288 with 1 Axes>"
      ]
     },
     "metadata": {
      "needs_background": "light"
     },
     "output_type": "display_data"
    }
   ],
   "source": [
    "def quad_func(x,a,b,c):\n",
    "    return a*x**2. + b*x + c\n",
    "ydata = quad_func(xdata,1.5,2.3,1.2) + np.random.randn(len(xdata))\n",
    "\n",
    "plt.scatter(xdata,ydata,s=1)"
   ]
  },
  {
   "cell_type": "code",
   "execution_count": 978,
   "metadata": {},
   "outputs": [
    {
     "data": {
      "text/plain": [
       "<matplotlib.legend.Legend at 0x263921eae48>"
      ]
     },
     "execution_count": 978,
     "metadata": {},
     "output_type": "execute_result"
    },
    {
     "data": {
      "image/png": "[encoded data removed]",
      "text/plain": [
       "<Figure size 432x288 with 1 Axes>"
      ]
     },
     "metadata": {
      "needs_background": "light"
     },
     "output_type": "display_data"
    }
   ],
   "source": [
    "p_opt, p_cov = cf(quad_func,xdata,ydata)\n",
    "\n",
    "plt.plot(xdata,quad_func(xdata,*p_opt),label='Best Fit',color='g')\n",
    "plt.scatter(xdata,ydata,label='OG_Data',s=1,color='darkorange')\n",
    "plt.xlabel('x')\n",
    "plt.ylabel('y')\n",
    "plt.title('Quadratic Fit')\n",
    "plt.legend()"
   ]
  },
  {
   "cell_type": "code",
   "execution_count": 982,
   "metadata": {},
   "outputs": [
    {
     "name": "stdout",
     "output_type": "stream",
     "text": [
      "a_err=0.08112206374775699, b_err=0.33516096397488404, c_err=0.19998102101107884\n"
     ]
    },
    {
     "data": {
      "text/plain": [
       "array([1.58112206, 1.96483904, 1.39998102])"
      ]
     },
     "execution_count": 982,
     "metadata": {},
     "output_type": "execute_result"
    }
   ],
   "source": [
    "print('a_err={}, b_err={}, c_err={}'.format(*(abs(p_opt-[1.5,2.3,1.2]))))\n",
    "p_opt"
   ]
  },
  {
   "cell_type": "code",
   "execution_count": 1099,
   "metadata": {},
   "outputs": [],
   "source": [
    "data, freq, time = np.loadtxt('GW_data_file.csv',delimiter=',')\n",
    "#freq, time"
   ]
  },
  {
   "cell_type": "code",
   "execution_count": 1120,
   "metadata": {},
   "outputs": [
    {
     "data": {
      "text/plain": [
       "50.922966446559485"
      ]
     },
     "execution_count": 1120,
     "metadata": {},
     "output_type": "execute_result"
    }
   ],
   "source": [
    "\n",
    "id = []\n",
    "for i in range(len(data)-1):\n",
    "    if(data[i]*data[i+1] < 0):\n",
    "        id.append(i)\n",
    "tv=time[id]\n",
    "fv=freq[id]\n",
    "#tv,fv\n",
    "fv\n",
    "fv[34]"
   ]
  },
  {
   "cell_type": "code",
   "execution_count": 1117,
   "metadata": {},
   "outputs": [
    {
     "name": "stdout",
     "output_type": "stream",
     "text": [
      "[34 35 36 37 38 39 40 41 42 43 44 45 46 47 48 49 50 51] [ 0  1  2  3  4  5  6  7  8  9 10 11 12 13 14 15 16 17 18 19 20 21 22 23\n",
      " 24 25 26 27 28 29 30 31 32 33 34 35 36 37 38 39 40]\n",
      "[30.76730379 30.76730379 30.76730379 30.76730379 30.76730379 30.76730379\n",
      " 30.76730379 30.76730379 30.76730379 30.76730379 30.76730379 30.76730379\n",
      " 30.76730379 30.76730379 30.76730379 30.76730379 30.76730379 30.76730379]\n"
     ]
    }
   ],
   "source": [
    "\n",
    "t_c= np.where(tv<0)[0]#np.where(np.diff(np.sign(time)))[0]\n",
    "#print(t_c)\n",
    "f_gw=np.where(fv>(50))[0]\n",
    "print(f_gw,t_c)\n",
    "#len(f_gw)\n",
    "print(freq[f_gw])"
   ]
  },
  {
   "cell_type": "code",
   "execution_count": 1145,
   "metadata": {},
   "outputs": [
    {
     "data": {
      "text/plain": [
       "(52, 52)"
      ]
     },
     "execution_count": 1145,
     "metadata": {},
     "output_type": "execute_result"
    }
   ],
   "source": [
    "#print('The required indices')\n",
    "indices=[]\n",
    "for i in range(len(t_c)):\n",
    "    for j in range(len(f_gw)):\n",
    "        if(t_c[i]==f_gw[j]):\n",
    "            indices.append(t_c[i])\n",
    "len(indices)            \n",
    "#indices            \n",
    "tv[indices] \n",
    "fv[indices]\n",
    "len(tv), len(fv)"
   ]
  },
  {
   "cell_type": "code",
   "execution_count": 1146,
   "metadata": {},
   "outputs": [],
   "source": [
    "def gwaves(t,m,c):\n",
    "    return m*t + c"
   ]
  },
  {
   "cell_type": "code",
   "execution_count": 1173,
   "metadata": {},
   "outputs": [
    {
     "data": {
      "text/plain": [
       "[<matplotlib.lines.Line2D at 0x26392cf9608>]"
      ]
     },
     "execution_count": 1173,
     "metadata": {},
     "output_type": "execute_result"
    },
    {
     "data": {
      "image/png": "[encoded data removed]",
      "text/plain": [
       "<Figure size 432x288 with 1 Axes>"
      ]
     },
     "metadata": {
      "needs_background": "light"
     },
     "output_type": "display_data"
    }
   ],
   "source": [
    "x = np.log(abs(tv))\n",
    "y = np.log(abs(fv))\n",
    "plt.scatter(x, y)\n",
    "p_o, p_c = cf(gwaves, x, y)\n",
    "plt.xlabel(\"log(time)\")\n",
    "plt.ylabel(\"log(freq)\")\n",
    "plt.title(\"Freq - time before during in-spiral phase(without zero crossings)\")\n",
    "plt.plot(x, gwaves(x, *p_o), color = \"red\")"
   ]
  },
  {
   "cell_type": "code",
   "execution_count": 1169,
   "metadata": {
    "scrolled": true
   },
   "outputs": [
    {
     "name": "stdout",
     "output_type": "stream",
     "text": [
      "slope requirement for chirp mass\n",
      "[-0.46165912  2.58958033]\n"
     ]
    }
   ],
   "source": [
    "print('slope requirement for chirp mass')\n",
    "print(p_o)"
   ]
  },
  {
   "cell_type": "code",
   "execution_count": 1167,
   "metadata": {},
   "outputs": [
    {
     "name": "stdout",
     "output_type": "stream",
     "text": [
      "we require t<tc  as after this is the ringdown where the process is  as after this is the ringdown \n",
      "where the process is highly non-linear and it is not possible to predict the equation followed by the frequency.\n",
      "Must take points at zreo crossings only\n"
     ]
    }
   ],
   "source": [
    "print('we require t<tc  as after this is the ringdown where the process is  as after this is the ringdown ')\n",
    "print('where the process is highly non-linear and it is not possible to predict the equation followed by the frequency.')\n",
    "print('Must take points at zreo crossings only')"
   ]
  },
  {
   "cell_type": "code",
   "execution_count": 1103,
   "metadata": {},
   "outputs": [],
   "source": [
    "#time_values=[]\n",
    "#for i in indices:\n",
    "#    time_values.append(time[i])\n",
    "#print(len(time_values))    \n",
    "\n",
    "#freq_values=[]\n",
    "#for j in indices:\n",
    "#    freq_values.append(freq[i])\n",
    "#len(freq_values)    \n",
    "#freq_values[1]"
   ]
  },
  {
   "cell_type": "code",
   "execution_count": 1165,
   "metadata": {},
   "outputs": [],
   "source": [
    "def gwaves(t,m,c):\n",
    "    return m*t + c"
   ]
  },
  {
   "cell_type": "code",
   "execution_count": 1172,
   "metadata": {},
   "outputs": [
    {
     "data": {
      "text/plain": [
       "[<matplotlib.lines.Line2D at 0x26392c93708>]"
      ]
     },
     "execution_count": 1172,
     "metadata": {},
     "output_type": "execute_result"
    },
    {
     "data": {
      "image/png": "[encoded data removed]",
      "text/plain": [
       "<Figure size 432x288 with 1 Axes>"
      ]
     },
     "metadata": {
      "needs_background": "light"
     },
     "output_type": "display_data"
    }
   ],
   "source": [
    "x_data = np.log(abs(tv[indices]))\n",
    "y_data = np.log(abs(fv[indices]))\n",
    "plt.scatter(x_data, y_data)\n",
    "p_opt, p_cov = cf(gwaves, x_data, y_data)\n",
    "plt.xlabel(\"log(time)\")\n",
    "plt.ylabel(\"log(freq)\")\n",
    "plt.title(\"Freq - time before during in-spiral phase\")\n",
    "plt.plot(x_data, gwaves(x_data, *p_opt), color = \"red\")"
   ]
  },
  {
   "cell_type": "code",
   "execution_count": 1137,
   "metadata": {},
   "outputs": [
    {
     "name": "stdout",
     "output_type": "stream",
     "text": [
      "slope requirement chirp mass\n",
      "[-0.23238806  3.41356699]\n"
     ]
    }
   ],
   "source": [
    "print('slope requirement chirp mass')\n",
    "print(p_opt)"
   ]
  },
  {
   "cell_type": "code",
   "execution_count": 1189,
   "metadata": {},
   "outputs": [
    {
     "data": {
      "text/plain": [
       "2.1105651835934866e+28"
      ]
     },
     "execution_count": 1189,
     "metadata": {},
     "output_type": "execute_result"
    }
   ],
   "source": [
    "import math\n",
    "#c=3.41356699 = (3/8)log5-log(8pi)-5/8log(Gm/c^3)\n",
    "1e11*27e24*pow(10,(1.6*(3/8*np.log10(5)-np.log10(8*np.pi)-3.41356699)))/6.672"
   ]
  },
  {
   "cell_type": "code",
   "execution_count": 1268,
   "metadata": {},
   "outputs": [],
   "source": [
    "from astropy.io import fits\n",
    "import numpy as np\n",
    "import matplotlib.pyplot as plt\n",
    "\n",
    "from astropy.stats import sigma_clipped_stats\n",
    "\n",
    "from scipy.optimize import curve_fit as cf"
   ]
  },
  {
   "cell_type": "code",
   "execution_count": 1269,
   "metadata": {},
   "outputs": [],
   "source": [
    "m3_fits = fits.open('Messier3.fits')\n",
    "m3_data=m3_fits[0].data"
   ]
  },
  {
   "cell_type": "code",
   "execution_count": 1270,
   "metadata": {},
   "outputs": [],
   "source": [
    "def get_background_histogram(array, min_count, max_count):\n",
    "    \"\"\"\n",
    "        array is the numpy array that contains the counts for each pixel\n",
    "        the bins for the histogram will be np.arange(min_count, max_count, 1)\n",
    "    \"\"\"\n",
    "    flattened_array = array.flatten()\n",
    "    num_pixels, bin_edges = np.histogram(flattened_array, bins=np.arange(min_count, max_count, 1))\n",
    "    bins = 0.5*(bin_edges[1:] + bin_edges[:-1])\n",
    "    return bins, num_pixels"
   ]
  },
  {
   "cell_type": "code",
   "execution_count": null,
   "metadata": {},
   "outputs": [],
   "source": []
  },
  {
   "cell_type": "code",
   "execution_count": 1271,
   "metadata": {},
   "outputs": [
    {
     "data": {
      "text/plain": [
       "7.38905609893065"
      ]
     },
     "execution_count": 1271,
     "metadata": {},
     "output_type": "execute_result"
    }
   ],
   "source": [
    "import math\n",
    "math.sqrt(5)\n",
    "np.sqrt(5)\n",
    "np.exp(2)"
   ]
  },
  {
   "cell_type": "code",
   "execution_count": 1298,
   "metadata": {},
   "outputs": [],
   "source": [
    "def gaussian(x,mu,sigma,a):\n",
    "    return a*np.exp(-1*((x-mu)**2)/(sigma**2))"
   ]
  },
  {
   "cell_type": "code",
   "execution_count": 1273,
   "metadata": {},
   "outputs": [
    {
     "data": {
      "text/plain": [
       "(518.644561515872, 520.0, 14.913550654695545)"
      ]
     },
     "execution_count": 1273,
     "metadata": {},
     "output_type": "execute_result"
    }
   ],
   "source": [
    "mean, median , std=sigma_clipped_stats(m3_data)\n",
    "mean, median ,std"
   ]
  },
  {
   "cell_type": "code",
   "execution_count": 1274,
   "metadata": {},
   "outputs": [
    {
     "data": {
      "text/plain": [
       "(149, 149)"
      ]
     },
     "execution_count": 1274,
     "metadata": {},
     "output_type": "execute_result"
    }
   ],
   "source": [
    "vmin=median-5*std\n",
    "vmax=median+5*std\n",
    "bins, num_pixels= get_background_histogram(m3_data,vmin,vmax)\n",
    "len(bins),len(num_pixels)"
   ]
  },
  {
   "cell_type": "code",
   "execution_count": 1301,
   "metadata": {},
   "outputs": [
    {
     "data": {
      "text/plain": [
       "<matplotlib.legend.Legend at 0x26394309808>"
      ]
     },
     "execution_count": 1301,
     "metadata": {},
     "output_type": "execute_result"
    },
    {
     "data": {
      "image/png": "[encoded data removed]",
      "text/plain": [
       "<Figure size 432x288 with 1 Axes>"
      ]
     },
     "metadata": {
      "needs_background": "light"
     },
     "output_type": "display_data"
    }
   ],
   "source": [
    "p_opt, p_cov = cf(gaussian,bins,num_pixels,(mean,std,1))\n",
    "#plt.figure(figsize=(10,6))\n",
    "plt.plot(bins,gaussian(bins,*p_opt),label='Best Fit',color='g')\n",
    "plt.scatter(bins,num_pixels,label='Data',s=1,color='darkorange')\n",
    "plt.xlabel('Bins')\n",
    "plt.ylabel('Number of Pixels')\n",
    "plt.title('Gaussian Fit')\n",
    "plt.legend()"
   ]
  },
  {
   "cell_type": "code",
   "execution_count": 1302,
   "metadata": {},
   "outputs": [
    {
     "name": "stdout",
     "output_type": "stream",
     "text": [
      "END OF ASSIGNMENT 07\n",
      "************************************************************************************************************************\n",
      "************************************************************************************************************************\n",
      "************************************************************************************************************************\n",
      "************************************************************************************************************************\n"
     ]
    }
   ],
   "source": [
    "print('END OF ASSIGNMENT 07')\n",
    "print('*'*120)\n",
    "print('*'*120)\n",
    "print('*'*120)\n",
    "print('*'*120)"
   ]
  }
 ],
 "metadata": {
  "kernelspec": {
   "display_name": "Python 3",
   "language": "python",
   "name": "python3"
  },
  "language_info": {
   "codemirror_mode": {
    "name": "ipython",
    "version": 3
   },
   "file_extension": ".py",
   "mimetype": "text/x-python",
   "name": "python",
   "nbconvert_exporter": "python",
   "pygments_lexer": "ipython3",
   "version": "3.7.6"
  }
 },
 "nbformat": 4,
 "nbformat_minor": 4
}
